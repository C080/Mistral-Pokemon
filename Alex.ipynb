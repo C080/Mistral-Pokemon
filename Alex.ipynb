{
 "cells": [
  {
   "cell_type": "markdown",
   "metadata": {},
   "source": [
    "# Scarico gli id dei replay"
   ]
  },
  {
   "cell_type": "code",
   "execution_count": 21,
   "metadata": {},
   "outputs": [],
   "source": [
    "import json\n",
    "replay = []\n",
    "i=0\n",
    "with open('gen5_random_battle_replays.jsonl', 'r') as f:\n",
    "    for lines in f:\n",
    "        l = json.loads(lines)\n",
    "        replay.append(l['id'].split('-')[-1])"
   ]
  },
  {
   "cell_type": "markdown",
   "metadata": {},
   "source": [
    "# Scarico i relativi log"
   ]
  },
  {
   "cell_type": "code",
   "execution_count": 148,
   "metadata": {},
   "outputs": [],
   "source": [
    "import requests\n",
    "for id in replay:\n",
    "    response = requests.get(f'https://replay.pokemonshowdown.com/gen5randombattle-{id}.json')\n",
    "    if response.status_code != 200: continue\n",
    "    battle = response.json()\n",
    "    players = battle['players']\n",
    "    battle = battle['log'].replace(players[0], 'p1a').replace(players[1], 'p2a').split('\\n')\n",
    "    battle = battle[battle.index('|start'):] # taglio via i log precedenti a  di |start\n",
    "    team = {}\n",
    "    # Estraggo i pokemon e le mosse\n",
    "    for row in battle:\n",
    "        if '|switch|p1a:' in row:\n",
    "            pkm = row[12:].strip().split('|')[1] \n",
    "            pkm = pkm.split(', ')\n",
    "            if pkm[0] not in team.keys():\n",
    "                team[pkm[0]]={'liv': pkm[1], 'mosse': [], 'abilità': ''}\n",
    "        if '|move|p1a:' in row:\n",
    "            line = row[11:].split('|')\n",
    "            pkm, move = line[0], line[1]\n",
    "            if team.get(pkm) and move not in team.get(pkm)['mosse']:\n",
    "                team.get(pkm)['mosse'].append(move)\n",
    "        if 'ability|p1a:' in row:\n",
    "            line = row[12:].split('|')\n",
    "            pkm, ability = line[0], line[1]\n",
    "            team.get(pkm)['abilità']=ability\n",
    "\n",
    "    # Divido in turni:\n",
    "    turni, actions= {}, {}\n",
    "    nturno = 0\n",
    "    for index, row in enumerate(battle):\n",
    "        # Ogni volta che scatta un nuovo turno vedo chi c'è in campo e aggiorno il turno corrente\n",
    "        if '|turn|' in row:\n",
    "            nturno = int(row.strip('|turn|').strip()) # indica il turno successivo: dove dovrò scaricare le mosse\n",
    "            current_turn = battle[:index]\n",
    "            # # vedo che pokemon ci sono in campo\n",
    "            pkm, pkm_avv = False, False\n",
    "            for row0 in current_turn[::-1]:\n",
    "                if '|switch|p1a: ' in row0:\n",
    "                    pkm = row0[13:].split('|')[0]\n",
    "                if '|switch|p2a: ' in row0:\n",
    "                    pkm_avv = row0[13:].split('|')[0]\n",
    "                if pkm and pkm_avv: break\n",
    "            turni[nturno-1] = {'pkm': pkm, \n",
    "                               'pkm avversario': pkm_avv, \n",
    "                               'morti': [r[12:] for r in current_turn if '|faint|p1a: ' in r],\n",
    "                               'log': '\\n'.join(current_turn)}\n",
    "        if nturno > 0:\n",
    "            if '|move|p1a: ' in row:\n",
    "                move = row[11:].split('|')[1]\n",
    "                actions[nturno] = f'move|{move}'\n",
    "                continue\n",
    "            if '|switch|p1a: ' in row:\n",
    "                pkm = row[13:].split('|')[0]\n",
    "                actions[nturno] = f'switch|{pkm}'\n",
    "                continue\n",
    "\n",
    "    # Template del Prompt\n",
    "    prompt=\"\"\"I am a Pokémon trainer starting the turn {}.\n",
    "You've this pokémon in the field: {}.\n",
    "Your opponent have this pokémon: {}.\n",
    "You have these switches available:\n",
    "{}.\"\"\"\n",
    "    \n",
    "    # Creo dataset\n",
    "    dataset =  []\n",
    "    for t in range(1,  nturno-1): # nturn contiene l'ultimo turno\n",
    "        dataset.append(\n",
    "            [\n",
    "                {'role': 'system',\n",
    "                 'content': prompt.format(*[\n",
    "                    t, # turno successivo\n",
    "                    str(turni[t-1]['pkm']+' '+str(team[turni[t-1]['pkm']])), # pokemon mio\n",
    "                    turni[t-1]['pkm avversario'], # pokemon avversario\n",
    "                    '\\n'.join([f\"- {p} | {info}{' | fainted' if p in turni[t-1]['morti'] else ''}\" for p, info in team.items() if p!=turni[t-1]['pkm']]) # Cambi disponibili\n",
    "                    ])\n",
    "                    },\n",
    "                {'role': 'user', 'content': turni[t-1]['log']},\n",
    "                {'role': 'assistant', 'content': actions.get(t)}\n",
    "                ]\n",
    "        )"
   ]
  }
 ],
 "metadata": {
  "kernelspec": {
   "display_name": "chunk_extraction",
   "language": "python",
   "name": "python3"
  },
  "language_info": {
   "codemirror_mode": {
    "name": "ipython",
    "version": 3
   },
   "file_extension": ".py",
   "mimetype": "text/x-python",
   "name": "python",
   "nbconvert_exporter": "python",
   "pygments_lexer": "ipython3",
   "version": "3.10.12"
  }
 },
 "nbformat": 4,
 "nbformat_minor": 2
}
