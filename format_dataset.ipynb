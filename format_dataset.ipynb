{
 "cells": [
  {
   "cell_type": "markdown",
   "metadata": {},
   "source": [
    "# Scarico gli id dei replay"
   ]
  },
  {
   "cell_type": "code",
   "execution_count": 13,
   "metadata": {},
   "outputs": [],
   "source": [
    "import json\n",
    "replay = []\n",
    "i=0\n",
    "with open('gen5_random_battle_replays.jsonl', 'r') as f:\n",
    "    for lines in f:\n",
    "        l = json.loads(lines)\n",
    "        if l['rating']!= None:\n",
    "#            if l['rating'] >= 1000:\n",
    "            replay.append(l['id'].split('-')[-1])"
   ]
  },
  {
   "cell_type": "code",
   "execution_count": 14,
   "metadata": {},
   "outputs": [
    {
     "data": {
      "text/plain": [
       "13816"
      ]
     },
     "execution_count": 14,
     "metadata": {},
     "output_type": "execute_result"
    }
   ],
   "source": [
    "len(replay)"
   ]
  },
  {
   "cell_type": "markdown",
   "metadata": {},
   "source": [
    "# Scarico i relativi log"
   ]
  },
  {
   "cell_type": "code",
   "execution_count": 15,
   "metadata": {},
   "outputs": [
    {
     "name": "stderr",
     "output_type": "stream",
     "text": [
      "Processing battles:   0%|          | 1/13816 [00:00<1:15:26,  3.05it/s]"
     ]
    },
    {
     "name": "stdout",
     "output_type": "stream",
     "text": [
      "Skipping battle 2149614159 as it doesn't reach turn 6\n"
     ]
    },
    {
     "name": "stderr",
     "output_type": "stream",
     "text": [
      "Processing battles:   0%|          | 2/13816 [00:00<1:20:32,  2.86it/s]"
     ]
    },
    {
     "name": "stdout",
     "output_type": "stream",
     "text": [
      "Skipping battle 2149613931 as it doesn't reach turn 6\n"
     ]
    },
    {
     "name": "stderr",
     "output_type": "stream",
     "text": [
      "Processing battles:   0%|          | 17/13816 [00:07<1:31:07,  2.52it/s]"
     ]
    },
    {
     "name": "stdout",
     "output_type": "stream",
     "text": [
      "Skipping battle 2149112209 as it doesn't reach turn 6\n"
     ]
    },
    {
     "name": "stderr",
     "output_type": "stream",
     "text": [
      "Processing battles:   0%|          | 22/13816 [00:09<1:38:53,  2.32it/s]"
     ]
    },
    {
     "name": "stdout",
     "output_type": "stream",
     "text": [
      "Skipping battle 2148938073 as it doesn't reach turn 6\n"
     ]
    },
    {
     "name": "stderr",
     "output_type": "stream",
     "text": [
      "Processing battles:   1%|          | 75/13816 [00:33<1:34:08,  2.43it/s]"
     ]
    },
    {
     "name": "stdout",
     "output_type": "stream",
     "text": [
      "Skipping battle 2147275547 as it doesn't reach turn 6\n"
     ]
    },
    {
     "name": "stderr",
     "output_type": "stream",
     "text": [
      "Processing battles:   1%|          | 105/13816 [00:47<2:15:11,  1.69it/s]"
     ]
    },
    {
     "name": "stdout",
     "output_type": "stream",
     "text": [
      "Saved 2616 entries to pokemon_battles_dataset_1500.jsonl\n"
     ]
    },
    {
     "name": "stderr",
     "output_type": "stream",
     "text": [
      "Processing battles:   1%|          | 115/13816 [00:52<1:33:13,  2.45it/s]"
     ]
    },
    {
     "name": "stdout",
     "output_type": "stream",
     "text": [
      "Skipping battle 2145906434 as it doesn't reach turn 6\n"
     ]
    },
    {
     "name": "stderr",
     "output_type": "stream",
     "text": [
      "Processing battles:   1%|          | 141/13816 [01:03<1:39:42,  2.29it/s]"
     ]
    },
    {
     "name": "stdout",
     "output_type": "stream",
     "text": [
      "Skipping battle 2145368685 as it doesn't reach turn 6\n"
     ]
    },
    {
     "name": "stderr",
     "output_type": "stream",
     "text": [
      "Processing battles:   1%|          | 163/13816 [01:14<1:38:17,  2.32it/s]"
     ]
    },
    {
     "name": "stdout",
     "output_type": "stream",
     "text": [
      "Skipping battle 2143941598 as it doesn't reach turn 6\n"
     ]
    },
    {
     "name": "stderr",
     "output_type": "stream",
     "text": [
      "Processing battles:   1%|▏         | 182/13816 [01:23<1:35:42,  2.37it/s]"
     ]
    },
    {
     "name": "stdout",
     "output_type": "stream",
     "text": [
      "Skipping battle 2143348284 as it doesn't reach turn 6\n"
     ]
    },
    {
     "name": "stderr",
     "output_type": "stream",
     "text": [
      "Processing battles:   1%|▏         | 199/13816 [01:30<1:33:43,  2.42it/s]"
     ]
    },
    {
     "name": "stdout",
     "output_type": "stream",
     "text": [
      "Skipping battle 2142584142 as it doesn't reach turn 6\n"
     ]
    },
    {
     "name": "stderr",
     "output_type": "stream",
     "text": [
      "Processing battles:   2%|▏         | 210/13816 [01:36<2:05:41,  1.80it/s]"
     ]
    },
    {
     "name": "stdout",
     "output_type": "stream",
     "text": [
      "Saved 2329 entries to pokemon_battles_dataset_1500.jsonl\n"
     ]
    },
    {
     "name": "stderr",
     "output_type": "stream",
     "text": [
      "Processing battles:   2%|▏         | 214/13816 [01:37<1:39:00,  2.29it/s]"
     ]
    },
    {
     "name": "stdout",
     "output_type": "stream",
     "text": [
      "Skipping battle 2142194974 as it doesn't reach turn 6\n"
     ]
    },
    {
     "name": "stderr",
     "output_type": "stream",
     "text": [
      "Processing battles:   2%|▏         | 250/13816 [01:54<1:33:01,  2.43it/s]"
     ]
    },
    {
     "name": "stdout",
     "output_type": "stream",
     "text": [
      "Skipping battle 2141064092 as it doesn't reach turn 6\n"
     ]
    },
    {
     "name": "stderr",
     "output_type": "stream",
     "text": [
      "Processing battles:   2%|▏         | 282/13816 [02:09<1:38:47,  2.28it/s]"
     ]
    },
    {
     "name": "stdout",
     "output_type": "stream",
     "text": [
      "Skipping battle 2140268219 as it doesn't reach turn 6\n"
     ]
    },
    {
     "name": "stderr",
     "output_type": "stream",
     "text": [
      "Processing battles:   2%|▏         | 313/13816 [02:23<1:56:25,  1.93it/s]"
     ]
    },
    {
     "name": "stdout",
     "output_type": "stream",
     "text": [
      "Saved 2307 entries to pokemon_battles_dataset_1500.jsonl\n"
     ]
    },
    {
     "name": "stderr",
     "output_type": "stream",
     "text": [
      "Processing battles:   2%|▏         | 322/13816 [02:27<1:35:33,  2.35it/s]"
     ]
    },
    {
     "name": "stdout",
     "output_type": "stream",
     "text": [
      "Skipping battle 2138873994 as it doesn't reach turn 6\n"
     ]
    },
    {
     "name": "stderr",
     "output_type": "stream",
     "text": [
      "Processing battles:   2%|▏         | 329/13816 [02:30<1:32:22,  2.43it/s]"
     ]
    },
    {
     "name": "stdout",
     "output_type": "stream",
     "text": [
      "Skipping battle 2138627467 as it doesn't reach turn 6\n"
     ]
    },
    {
     "name": "stderr",
     "output_type": "stream",
     "text": [
      "Processing battles:   2%|▏         | 333/13816 [02:32<1:27:41,  2.56it/s]"
     ]
    },
    {
     "name": "stdout",
     "output_type": "stream",
     "text": [
      "Skipping battle 2138446703 as it doesn't reach turn 6\n"
     ]
    },
    {
     "name": "stderr",
     "output_type": "stream",
     "text": [
      "Processing battles:   3%|▎         | 373/13816 [02:52<2:44:10,  1.36it/s]"
     ]
    },
    {
     "name": "stdout",
     "output_type": "stream",
     "text": [
      "Skipping battle 2137369841 as it doesn't reach turn 6\n"
     ]
    },
    {
     "name": "stderr",
     "output_type": "stream",
     "text": [
      "Processing battles:   3%|▎         | 379/13816 [02:54<1:40:32,  2.23it/s]"
     ]
    },
    {
     "name": "stdout",
     "output_type": "stream",
     "text": [
      "Skipping battle 2137291256 as it doesn't reach turn 6\n"
     ]
    },
    {
     "name": "stderr",
     "output_type": "stream",
     "text": [
      "Processing battles:   3%|▎         | 380/13816 [02:55<1:32:12,  2.43it/s]"
     ]
    },
    {
     "name": "stdout",
     "output_type": "stream",
     "text": [
      "Skipping battle 2137289760 as it doesn't reach turn 6\n"
     ]
    },
    {
     "name": "stderr",
     "output_type": "stream",
     "text": [
      "Processing battles:   3%|▎         | 387/13816 [02:58<1:29:25,  2.50it/s]"
     ]
    },
    {
     "name": "stdout",
     "output_type": "stream",
     "text": [
      "Skipping battle 2137074535 as it doesn't reach turn 6\n"
     ]
    },
    {
     "name": "stderr",
     "output_type": "stream",
     "text": [
      "Processing battles:   3%|▎         | 420/13816 [03:13<1:57:50,  1.89it/s]"
     ]
    },
    {
     "name": "stdout",
     "output_type": "stream",
     "text": [
      "Saved 2613 entries to pokemon_battles_dataset_1500.jsonl\n"
     ]
    },
    {
     "name": "stderr",
     "output_type": "stream",
     "text": [
      "Processing battles:   3%|▎         | 437/13816 [03:20<1:32:25,  2.41it/s]"
     ]
    },
    {
     "name": "stdout",
     "output_type": "stream",
     "text": [
      "Skipping battle 2135409236 as it doesn't reach turn 6\n"
     ]
    },
    {
     "name": "stderr",
     "output_type": "stream",
     "text": [
      "Processing battles:   3%|▎         | 477/13816 [03:38<1:29:56,  2.47it/s]"
     ]
    },
    {
     "name": "stdout",
     "output_type": "stream",
     "text": [
      "Skipping battle 2134268051 as it doesn't reach turn 6\n"
     ]
    },
    {
     "name": "stderr",
     "output_type": "stream",
     "text": [
      "Processing battles:   4%|▎         | 503/13816 [03:51<1:30:24,  2.45it/s]"
     ]
    },
    {
     "name": "stdout",
     "output_type": "stream",
     "text": [
      "Skipping battle 2133500962 as it doesn't reach turn 6\n"
     ]
    },
    {
     "name": "stderr",
     "output_type": "stream",
     "text": [
      "Processing battles:   4%|▎         | 516/13816 [03:57<1:36:48,  2.29it/s]"
     ]
    },
    {
     "name": "stdout",
     "output_type": "stream",
     "text": [
      "Skipping battle 2133281373 as it doesn't reach turn 6\n"
     ]
    },
    {
     "name": "stderr",
     "output_type": "stream",
     "text": [
      "Processing battles:   4%|▍         | 524/13816 [04:00<1:52:27,  1.97it/s]"
     ]
    },
    {
     "name": "stdout",
     "output_type": "stream",
     "text": [
      "Saved 2444 entries to pokemon_battles_dataset_1500.jsonl\n"
     ]
    },
    {
     "name": "stderr",
     "output_type": "stream",
     "text": [
      "Processing battles:   4%|▍         | 529/13816 [04:03<1:33:12,  2.38it/s]"
     ]
    },
    {
     "name": "stdout",
     "output_type": "stream",
     "text": [
      "Skipping battle 2132921367 as it doesn't reach turn 6\n"
     ]
    },
    {
     "name": "stderr",
     "output_type": "stream",
     "text": [
      "Processing battles:   4%|▍         | 535/13816 [04:05<1:28:38,  2.50it/s]"
     ]
    },
    {
     "name": "stdout",
     "output_type": "stream",
     "text": [
      "Skipping battle 2132891109 as it doesn't reach turn 6\n"
     ]
    },
    {
     "name": "stderr",
     "output_type": "stream",
     "text": [
      "Processing battles:   4%|▍         | 536/13816 [04:05<1:25:05,  2.60it/s]"
     ]
    },
    {
     "name": "stdout",
     "output_type": "stream",
     "text": [
      "Skipping battle 2132791750 as it doesn't reach turn 6\n"
     ]
    },
    {
     "name": "stderr",
     "output_type": "stream",
     "text": [
      "Processing battles:   4%|▍         | 579/13816 [04:25<1:41:41,  2.17it/s]"
     ]
    },
    {
     "name": "stdout",
     "output_type": "stream",
     "text": [
      "Skipping battle 2132077894 as it doesn't reach turn 6\n"
     ]
    },
    {
     "name": "stderr",
     "output_type": "stream",
     "text": [
      "Processing battles:   4%|▍         | 588/13816 [04:29<1:29:28,  2.46it/s]"
     ]
    },
    {
     "name": "stdout",
     "output_type": "stream",
     "text": [
      "Skipping battle 2131587345 as it doesn't reach turn 6\n"
     ]
    },
    {
     "name": "stderr",
     "output_type": "stream",
     "text": [
      "Processing battles:   5%|▍         | 628/13816 [04:48<1:35:23,  2.30it/s]"
     ]
    },
    {
     "name": "stdout",
     "output_type": "stream",
     "text": [
      "Skipping battle 2130162649 as it doesn't reach turn 6\n"
     ]
    },
    {
     "name": "stderr",
     "output_type": "stream",
     "text": [
      "Processing battles:   5%|▍         | 630/13816 [04:49<1:57:52,  1.86it/s]"
     ]
    },
    {
     "name": "stdout",
     "output_type": "stream",
     "text": [
      "Saved 2415 entries to pokemon_battles_dataset_1500.jsonl\n"
     ]
    },
    {
     "name": "stderr",
     "output_type": "stream",
     "text": [
      "Processing battles:   5%|▍         | 644/13816 [04:55<1:30:32,  2.42it/s]"
     ]
    },
    {
     "name": "stdout",
     "output_type": "stream",
     "text": [
      "Skipping battle 2129898095 as it doesn't reach turn 6\n"
     ]
    },
    {
     "name": "stderr",
     "output_type": "stream",
     "text": [
      "Processing battles:   5%|▍         | 664/13816 [05:04<1:29:32,  2.45it/s]"
     ]
    },
    {
     "name": "stdout",
     "output_type": "stream",
     "text": [
      "Skipping battle 2129354122 as it doesn't reach turn 6\n"
     ]
    },
    {
     "name": "stderr",
     "output_type": "stream",
     "text": [
      "Processing battles:   5%|▌         | 701/13816 [05:21<1:32:56,  2.35it/s]"
     ]
    },
    {
     "name": "stdout",
     "output_type": "stream",
     "text": [
      "Skipping battle 2128280008 as it doesn't reach turn 6\n"
     ]
    },
    {
     "name": "stderr",
     "output_type": "stream",
     "text": [
      "Processing battles:   5%|▌         | 729/13816 [05:34<1:33:13,  2.34it/s]"
     ]
    },
    {
     "name": "stdout",
     "output_type": "stream",
     "text": [
      "Skipping battle 2127709854 as it doesn't reach turn 6\n"
     ]
    },
    {
     "name": "stderr",
     "output_type": "stream",
     "text": [
      "Processing battles:   5%|▌         | 734/13816 [05:37<2:00:08,  1.81it/s]"
     ]
    },
    {
     "name": "stdout",
     "output_type": "stream",
     "text": [
      "Saved 2328 entries to pokemon_battles_dataset_1500.jsonl\n"
     ]
    },
    {
     "name": "stderr",
     "output_type": "stream",
     "text": [
      "Processing battles:   5%|▌         | 738/13816 [05:39<1:31:36,  2.38it/s]"
     ]
    },
    {
     "name": "stdout",
     "output_type": "stream",
     "text": [
      "Skipping battle 2127554607 as it doesn't reach turn 6\n"
     ]
    },
    {
     "name": "stderr",
     "output_type": "stream",
     "text": [
      "Processing battles:   5%|▌         | 743/13816 [05:41<1:42:58,  2.12it/s]"
     ]
    },
    {
     "name": "stdout",
     "output_type": "stream",
     "text": [
      "Skipping battle 2127477385 as it doesn't reach turn 6\n"
     ]
    },
    {
     "name": "stderr",
     "output_type": "stream",
     "text": [
      "Processing battles:   5%|▌         | 754/13816 [05:46<1:31:55,  2.37it/s]"
     ]
    },
    {
     "name": "stdout",
     "output_type": "stream",
     "text": [
      "Skipping battle 2127286148 as it doesn't reach turn 6\n"
     ]
    },
    {
     "name": "stderr",
     "output_type": "stream",
     "text": [
      "Processing battles:   6%|▌         | 825/13816 [06:19<1:31:42,  2.36it/s]"
     ]
    },
    {
     "name": "stdout",
     "output_type": "stream",
     "text": [
      "Skipping battle 2125115226 as it doesn't reach turn 6\n"
     ]
    },
    {
     "name": "stderr",
     "output_type": "stream",
     "text": [
      "Processing battles:   6%|▌         | 838/13816 [06:26<1:57:26,  1.84it/s]"
     ]
    },
    {
     "name": "stdout",
     "output_type": "stream",
     "text": [
      "Saved 2451 entries to pokemon_battles_dataset_1500.jsonl\n"
     ]
    },
    {
     "name": "stderr",
     "output_type": "stream",
     "text": [
      "Processing battles:   6%|▋         | 864/13816 [06:38<1:41:57,  2.12it/s]"
     ]
    },
    {
     "name": "stdout",
     "output_type": "stream",
     "text": [
      "Skipping battle 2124746235 as it doesn't reach turn 6\n"
     ]
    },
    {
     "name": "stderr",
     "output_type": "stream",
     "text": [
      "Processing battles:   7%|▋         | 909/13816 [07:00<1:27:48,  2.45it/s]"
     ]
    },
    {
     "name": "stdout",
     "output_type": "stream",
     "text": [
      "Skipping battle 2123749845 as it doesn't reach turn 6\n"
     ]
    },
    {
     "name": "stderr",
     "output_type": "stream",
     "text": [
      "Processing battles:   7%|▋         | 940/13816 [07:15<2:01:35,  1.76it/s]"
     ]
    },
    {
     "name": "stdout",
     "output_type": "stream",
     "text": [
      "Saved 2627 entries to pokemon_battles_dataset_1500.jsonl\n"
     ]
    },
    {
     "name": "stderr",
     "output_type": "stream",
     "text": [
      "Processing battles:   7%|▋         | 948/13816 [07:19<1:31:48,  2.34it/s]"
     ]
    },
    {
     "name": "stdout",
     "output_type": "stream",
     "text": [
      "Skipping battle 2122505222 as it doesn't reach turn 6\n"
     ]
    },
    {
     "name": "stderr",
     "output_type": "stream",
     "text": [
      "Processing battles:   7%|▋         | 958/13816 [07:23<1:31:35,  2.34it/s]"
     ]
    },
    {
     "name": "stdout",
     "output_type": "stream",
     "text": [
      "Skipping battle 2122093658 as it doesn't reach turn 6\n"
     ]
    },
    {
     "name": "stderr",
     "output_type": "stream",
     "text": [
      "Processing battles:   7%|▋         | 981/13816 [07:34<1:28:00,  2.43it/s]"
     ]
    },
    {
     "name": "stdout",
     "output_type": "stream",
     "text": [
      "Skipping battle 2121845165 as it doesn't reach turn 6\n"
     ]
    },
    {
     "name": "stderr",
     "output_type": "stream",
     "text": [
      "Processing battles:   7%|▋         | 987/13816 [07:36<1:33:57,  2.28it/s]"
     ]
    },
    {
     "name": "stdout",
     "output_type": "stream",
     "text": [
      "Skipping battle 2121690422 as it doesn't reach turn 6\n"
     ]
    },
    {
     "name": "stderr",
     "output_type": "stream",
     "text": [
      "Processing battles:   7%|▋         | 1024/13816 [07:53<1:29:44,  2.38it/s]"
     ]
    },
    {
     "name": "stdout",
     "output_type": "stream",
     "text": [
      "Skipping battle 2120395625 as it doesn't reach turn 6\n"
     ]
    },
    {
     "name": "stderr",
     "output_type": "stream",
     "text": [
      "Processing battles:   7%|▋         | 1035/13816 [07:58<1:31:25,  2.33it/s]"
     ]
    },
    {
     "name": "stdout",
     "output_type": "stream",
     "text": [
      "Skipping battle 2120001093 as it doesn't reach turn 6\n"
     ]
    },
    {
     "name": "stderr",
     "output_type": "stream",
     "text": [
      "Processing battles:   8%|▊         | 1046/13816 [08:03<1:50:36,  1.92it/s]"
     ]
    },
    {
     "name": "stdout",
     "output_type": "stream",
     "text": [
      "Saved 2355 entries to pokemon_battles_dataset_1500.jsonl\n"
     ]
    },
    {
     "name": "stderr",
     "output_type": "stream",
     "text": [
      "Processing battles:   8%|▊         | 1048/13816 [08:04<1:37:12,  2.19it/s]"
     ]
    },
    {
     "name": "stdout",
     "output_type": "stream",
     "text": [
      "Skipping battle 2119654658 as it doesn't reach turn 6\n"
     ]
    },
    {
     "name": "stderr",
     "output_type": "stream",
     "text": [
      "Processing battles:   8%|▊         | 1082/13816 [08:20<1:28:12,  2.41it/s]"
     ]
    },
    {
     "name": "stdout",
     "output_type": "stream",
     "text": [
      "Skipping battle 2118518793 as it doesn't reach turn 6\n"
     ]
    },
    {
     "name": "stderr",
     "output_type": "stream",
     "text": [
      "Processing battles:   8%|▊         | 1091/13816 [08:24<1:28:06,  2.41it/s]"
     ]
    },
    {
     "name": "stdout",
     "output_type": "stream",
     "text": [
      "Skipping battle 2118203294 as it doesn't reach turn 6\n"
     ]
    },
    {
     "name": "stderr",
     "output_type": "stream",
     "text": [
      "Processing battles:   8%|▊         | 1097/13816 [08:27<1:33:59,  2.26it/s]"
     ]
    },
    {
     "name": "stdout",
     "output_type": "stream",
     "text": [
      "Skipping battle 2118008609 as it doesn't reach turn 6\n"
     ]
    },
    {
     "name": "stderr",
     "output_type": "stream",
     "text": [
      "Processing battles:   8%|▊         | 1115/13816 [08:35<1:29:03,  2.38it/s]"
     ]
    },
    {
     "name": "stdout",
     "output_type": "stream",
     "text": [
      "Skipping battle 2117504903 as it doesn't reach turn 6\n"
     ]
    },
    {
     "name": "stderr",
     "output_type": "stream",
     "text": [
      "Processing battles:   8%|▊         | 1144/13816 [08:48<1:44:14,  2.03it/s]"
     ]
    },
    {
     "name": "stdout",
     "output_type": "stream",
     "text": [
      "Skipping battle 2116954457 as it doesn't reach turn 6\n"
     ]
    },
    {
     "name": "stderr",
     "output_type": "stream",
     "text": [
      "Processing battles:   8%|▊         | 1152/13816 [08:52<1:51:37,  1.89it/s]"
     ]
    },
    {
     "name": "stdout",
     "output_type": "stream",
     "text": [
      "Saved 2534 entries to pokemon_battles_dataset_1500.jsonl\n"
     ]
    },
    {
     "name": "stderr",
     "output_type": "stream",
     "text": [
      "Processing battles:   9%|▊         | 1186/13816 [09:08<1:26:52,  2.42it/s]"
     ]
    },
    {
     "name": "stdout",
     "output_type": "stream",
     "text": [
      "Skipping battle 2115830772 as it doesn't reach turn 6\n"
     ]
    },
    {
     "name": "stderr",
     "output_type": "stream",
     "text": [
      "Processing battles:   9%|▊         | 1192/13816 [09:11<1:40:06,  2.10it/s]"
     ]
    },
    {
     "name": "stdout",
     "output_type": "stream",
     "text": [
      "Skipping battle 2115546144 as it doesn't reach turn 6\n"
     ]
    },
    {
     "name": "stderr",
     "output_type": "stream",
     "text": [
      "Processing battles:   9%|▉         | 1220/13816 [09:24<1:29:31,  2.34it/s]"
     ]
    },
    {
     "name": "stdout",
     "output_type": "stream",
     "text": [
      "Skipping battle 2114820616 as it doesn't reach turn 6\n"
     ]
    },
    {
     "name": "stderr",
     "output_type": "stream",
     "text": [
      "Processing battles:   9%|▉         | 1246/13816 [09:37<1:39:02,  2.12it/s]"
     ]
    },
    {
     "name": "stdout",
     "output_type": "stream",
     "text": [
      "Skipping battle 2113764576 as it doesn't reach turn 6\n"
     ]
    },
    {
     "name": "stderr",
     "output_type": "stream",
     "text": [
      "Processing battles:   9%|▉         | 1256/13816 [09:42<1:52:29,  1.86it/s]"
     ]
    },
    {
     "name": "stdout",
     "output_type": "stream",
     "text": [
      "Saved 2459 entries to pokemon_battles_dataset_1500.jsonl\n"
     ]
    },
    {
     "name": "stderr",
     "output_type": "stream",
     "text": [
      "Processing battles:   9%|▉         | 1257/13816 [09:42<1:40:53,  2.07it/s]"
     ]
    },
    {
     "name": "stdout",
     "output_type": "stream",
     "text": [
      "Skipping battle 2113447288 as it doesn't reach turn 6\n"
     ]
    },
    {
     "name": "stderr",
     "output_type": "stream",
     "text": [
      "Processing battles:   9%|▉         | 1269/13816 [09:48<1:32:45,  2.25it/s]"
     ]
    },
    {
     "name": "stdout",
     "output_type": "stream",
     "text": [
      "Skipping battle 2112762401 as it doesn't reach turn 6\n"
     ]
    },
    {
     "name": "stderr",
     "output_type": "stream",
     "text": [
      "Processing battles:   9%|▉         | 1300/13816 [10:02<1:32:34,  2.25it/s]"
     ]
    },
    {
     "name": "stdout",
     "output_type": "stream",
     "text": [
      "Skipping battle 2112065621 as it doesn't reach turn 6\n"
     ]
    },
    {
     "name": "stderr",
     "output_type": "stream",
     "text": [
      "Processing battles:   9%|▉         | 1301/13816 [10:03<1:26:01,  2.42it/s]"
     ]
    },
    {
     "name": "stdout",
     "output_type": "stream",
     "text": [
      "Skipping battle 2112062247 as it doesn't reach turn 6\n"
     ]
    },
    {
     "name": "stderr",
     "output_type": "stream",
     "text": [
      "Processing battles:  10%|▉         | 1315/13816 [10:09<1:33:00,  2.24it/s]"
     ]
    },
    {
     "name": "stdout",
     "output_type": "stream",
     "text": [
      "Skipping battle 2111514737 as it doesn't reach turn 6\n"
     ]
    },
    {
     "name": "stderr",
     "output_type": "stream",
     "text": [
      "Processing battles:  10%|▉         | 1361/13816 [10:32<1:48:18,  1.92it/s]"
     ]
    },
    {
     "name": "stdout",
     "output_type": "stream",
     "text": [
      "Saved 2377 entries to pokemon_battles_dataset_1500.jsonl\n"
     ]
    },
    {
     "name": "stderr",
     "output_type": "stream",
     "text": [
      "Processing battles:  10%|█         | 1402/13816 [10:55<1:52:23,  1.84it/s]"
     ]
    },
    {
     "name": "stdout",
     "output_type": "stream",
     "text": [
      "Skipping battle 2109088224 as it doesn't reach turn 6\n"
     ]
    },
    {
     "name": "stderr",
     "output_type": "stream",
     "text": [
      "Processing battles:  10%|█         | 1415/13816 [11:03<3:29:59,  1.02s/it]"
     ]
    },
    {
     "name": "stdout",
     "output_type": "stream",
     "text": [
      "Skipping battle 2108837626 as it doesn't reach turn 6\n"
     ]
    },
    {
     "name": "stderr",
     "output_type": "stream",
     "text": [
      "Processing battles:  10%|█         | 1423/13816 [11:12<4:09:08,  1.21s/it]"
     ]
    },
    {
     "name": "stdout",
     "output_type": "stream",
     "text": [
      "Skipping battle 2108595617 as it doesn't reach turn 6\n"
     ]
    },
    {
     "name": "stderr",
     "output_type": "stream",
     "text": [
      "Processing battles:  10%|█         | 1444/13816 [11:34<2:33:30,  1.34it/s]"
     ]
    },
    {
     "name": "stdout",
     "output_type": "stream",
     "text": [
      "Skipping battle 2107885024 as it doesn't reach turn 6\n"
     ]
    },
    {
     "name": "stderr",
     "output_type": "stream",
     "text": [
      "Processing battles:  11%|█         | 1463/13816 [11:50<2:29:46,  1.37it/s]"
     ]
    },
    {
     "name": "stdout",
     "output_type": "stream",
     "text": [
      "Skipping battle 2107373795 as it doesn't reach turn 6\n"
     ]
    },
    {
     "name": "stderr",
     "output_type": "stream",
     "text": [
      "Processing battles:  11%|█         | 1466/13816 [11:52<2:35:22,  1.32it/s]"
     ]
    },
    {
     "name": "stdout",
     "output_type": "stream",
     "text": [
      "Saved 2435 entries to pokemon_battles_dataset_1500.jsonl\n"
     ]
    },
    {
     "name": "stderr",
     "output_type": "stream",
     "text": [
      "Processing battles:  11%|█         | 1520/13816 [12:59<3:04:59,  1.11it/s]"
     ]
    },
    {
     "name": "stdout",
     "output_type": "stream",
     "text": [
      "Skipping battle 2105194785 as it doesn't reach turn 6\n"
     ]
    },
    {
     "name": "stderr",
     "output_type": "stream",
     "text": [
      "Processing battles:  11%|█▏        | 1563/13816 [13:27<1:27:47,  2.33it/s]"
     ]
    },
    {
     "name": "stdout",
     "output_type": "stream",
     "text": [
      "Skipping battle 2104313635 as it doesn't reach turn 6\n"
     ]
    },
    {
     "name": "stderr",
     "output_type": "stream",
     "text": [
      "Processing battles:  11%|█▏        | 1568/13816 [13:30<1:47:49,  1.89it/s]"
     ]
    },
    {
     "name": "stdout",
     "output_type": "stream",
     "text": [
      "Saved 2167 entries to pokemon_battles_dataset_1500.jsonl\n"
     ]
    },
    {
     "name": "stderr",
     "output_type": "stream",
     "text": [
      "Processing battles:  12%|█▏        | 1593/13816 [13:42<1:29:17,  2.28it/s]"
     ]
    },
    {
     "name": "stdout",
     "output_type": "stream",
     "text": [
      "Skipping battle 2103619301 as it doesn't reach turn 6\n"
     ]
    },
    {
     "name": "stderr",
     "output_type": "stream",
     "text": [
      "Processing battles:  12%|█▏        | 1604/13816 [13:47<1:22:22,  2.47it/s]"
     ]
    },
    {
     "name": "stdout",
     "output_type": "stream",
     "text": [
      "Skipping battle 2103379500 as it doesn't reach turn 6\n"
     ]
    },
    {
     "name": "stderr",
     "output_type": "stream",
     "text": [
      "Processing battles:  12%|█▏        | 1655/13816 [14:10<1:28:42,  2.28it/s]"
     ]
    },
    {
     "name": "stdout",
     "output_type": "stream",
     "text": [
      "Skipping battle 2102279418 as it doesn't reach turn 6\n"
     ]
    },
    {
     "name": "stderr",
     "output_type": "stream",
     "text": [
      "Processing battles:  12%|█▏        | 1663/13816 [14:14<1:24:25,  2.40it/s]"
     ]
    },
    {
     "name": "stdout",
     "output_type": "stream",
     "text": [
      "Skipping battle 2102163605 as it doesn't reach turn 6\n"
     ]
    },
    {
     "name": "stderr",
     "output_type": "stream",
     "text": [
      "Processing battles:  12%|█▏        | 1672/13816 [14:18<1:41:55,  1.99it/s]"
     ]
    },
    {
     "name": "stdout",
     "output_type": "stream",
     "text": [
      "Saved 2355 entries to pokemon_battles_dataset_1500.jsonl\n"
     ]
    },
    {
     "name": "stderr",
     "output_type": "stream",
     "text": [
      "Processing battles:  12%|█▏        | 1675/13816 [14:19<1:26:05,  2.35it/s]"
     ]
    },
    {
     "name": "stdout",
     "output_type": "stream",
     "text": [
      "Skipping battle 2101947394 as it doesn't reach turn 6\n"
     ]
    },
    {
     "name": "stderr",
     "output_type": "stream",
     "text": [
      "Processing battles:  12%|█▏        | 1677/13816 [14:20<1:21:42,  2.48it/s]"
     ]
    },
    {
     "name": "stdout",
     "output_type": "stream",
     "text": [
      "Skipping battle 2101912205 as it doesn't reach turn 6\n"
     ]
    },
    {
     "name": "stderr",
     "output_type": "stream",
     "text": [
      "Processing battles:  12%|█▏        | 1679/13816 [14:21<1:21:43,  2.48it/s]"
     ]
    },
    {
     "name": "stdout",
     "output_type": "stream",
     "text": [
      "Skipping battle 2101856486 as it doesn't reach turn 6\n"
     ]
    },
    {
     "name": "stderr",
     "output_type": "stream",
     "text": [
      "Processing battles:  12%|█▏        | 1687/13816 [14:24<1:21:20,  2.49it/s]"
     ]
    },
    {
     "name": "stdout",
     "output_type": "stream",
     "text": [
      "Skipping battle 2101599086 as it doesn't reach turn 6\n"
     ]
    },
    {
     "name": "stderr",
     "output_type": "stream",
     "text": [
      "Processing battles:  12%|█▏        | 1691/13816 [14:26<1:18:08,  2.59it/s]"
     ]
    },
    {
     "name": "stdout",
     "output_type": "stream",
     "text": [
      "Skipping battle 2101582051 as it doesn't reach turn 6\n"
     ]
    },
    {
     "name": "stderr",
     "output_type": "stream",
     "text": [
      "Processing battles:  12%|█▏        | 1725/13816 [14:41<1:20:37,  2.50it/s]"
     ]
    },
    {
     "name": "stdout",
     "output_type": "stream",
     "text": [
      "Skipping battle 2100788988 as it doesn't reach turn 6\n"
     ]
    },
    {
     "name": "stderr",
     "output_type": "stream",
     "text": [
      "Processing battles:  13%|█▎        | 1757/13816 [14:55<1:24:34,  2.38it/s]"
     ]
    },
    {
     "name": "stdout",
     "output_type": "stream",
     "text": [
      "Skipping battle 2100208813 as it doesn't reach turn 6\n"
     ]
    },
    {
     "name": "stderr",
     "output_type": "stream",
     "text": [
      "Processing battles:  13%|█▎        | 1760/13816 [14:57<1:26:59,  2.31it/s]"
     ]
    },
    {
     "name": "stdout",
     "output_type": "stream",
     "text": [
      "Skipping battle 2100010606 as it doesn't reach turn 6\n"
     ]
    },
    {
     "name": "stderr",
     "output_type": "stream",
     "text": [
      "Processing battles:  13%|█▎        | 1761/13816 [14:57<1:23:01,  2.42it/s]"
     ]
    },
    {
     "name": "stdout",
     "output_type": "stream",
     "text": [
      "Skipping battle 2100004559 as it doesn't reach turn 6\n"
     ]
    },
    {
     "name": "stderr",
     "output_type": "stream",
     "text": [
      "Processing battles:  13%|█▎        | 1762/13816 [14:57<1:18:23,  2.56it/s]"
     ]
    },
    {
     "name": "stdout",
     "output_type": "stream",
     "text": [
      "Skipping battle 2100003251 as it doesn't reach turn 6\n"
     ]
    },
    {
     "name": "stderr",
     "output_type": "stream",
     "text": [
      "Processing battles:  13%|█▎        | 1782/13816 [15:07<1:46:08,  1.89it/s]"
     ]
    },
    {
     "name": "stdout",
     "output_type": "stream",
     "text": [
      "Saved 2312 entries to pokemon_battles_dataset_1500.jsonl\n"
     ]
    },
    {
     "name": "stderr",
     "output_type": "stream",
     "text": [
      "Processing battles:  13%|█▎        | 1792/13816 [15:11<1:23:28,  2.40it/s]"
     ]
    },
    {
     "name": "stdout",
     "output_type": "stream",
     "text": [
      "Skipping battle 2099383481 as it doesn't reach turn 6\n"
     ]
    },
    {
     "name": "stderr",
     "output_type": "stream",
     "text": [
      "Processing battles:  13%|█▎        | 1797/13816 [15:13<1:21:34,  2.46it/s]"
     ]
    },
    {
     "name": "stdout",
     "output_type": "stream",
     "text": [
      "Skipping battle 2099268287 as it doesn't reach turn 6\n"
     ]
    },
    {
     "name": "stderr",
     "output_type": "stream",
     "text": [
      "Processing battles:  13%|█▎        | 1820/13816 [15:24<1:21:15,  2.46it/s]"
     ]
    },
    {
     "name": "stdout",
     "output_type": "stream",
     "text": [
      "Skipping battle 2098771929 as it doesn't reach turn 6\n"
     ]
    },
    {
     "name": "stderr",
     "output_type": "stream",
     "text": [
      "Processing battles:  13%|█▎        | 1824/13816 [15:26<1:28:02,  2.27it/s]"
     ]
    },
    {
     "name": "stdout",
     "output_type": "stream",
     "text": [
      "Skipping battle 2098753509 as it doesn't reach turn 6\n"
     ]
    },
    {
     "name": "stderr",
     "output_type": "stream",
     "text": [
      "Processing battles:  13%|█▎        | 1829/13816 [15:28<1:25:32,  2.34it/s]"
     ]
    },
    {
     "name": "stdout",
     "output_type": "stream",
     "text": [
      "Skipping battle 2098710133 as it doesn't reach turn 6\n"
     ]
    },
    {
     "name": "stderr",
     "output_type": "stream",
     "text": [
      "Processing battles:  14%|█▎        | 1870/13816 [15:46<1:35:00,  2.10it/s]"
     ]
    },
    {
     "name": "stdout",
     "output_type": "stream",
     "text": [
      "Skipping battle 2097119191 as it doesn't reach turn 6\n"
     ]
    },
    {
     "name": "stderr",
     "output_type": "stream",
     "text": [
      "Processing battles:  14%|█▎        | 1883/13816 [15:52<1:19:32,  2.50it/s]"
     ]
    },
    {
     "name": "stdout",
     "output_type": "stream",
     "text": [
      "Skipping battle 2096701378 as it doesn't reach turn 6\n"
     ]
    },
    {
     "name": "stderr",
     "output_type": "stream",
     "text": [
      "Processing battles:  14%|█▎        | 1889/13816 [15:55<1:35:02,  2.09it/s]"
     ]
    },
    {
     "name": "stdout",
     "output_type": "stream",
     "text": [
      "Saved 2210 entries to pokemon_battles_dataset_1500.jsonl\n"
     ]
    },
    {
     "name": "stderr",
     "output_type": "stream",
     "text": [
      "Processing battles:  14%|█▍        | 1924/13816 [16:11<1:27:09,  2.27it/s]"
     ]
    },
    {
     "name": "stdout",
     "output_type": "stream",
     "text": [
      "Skipping battle 2095480448 as it doesn't reach turn 6\n"
     ]
    },
    {
     "name": "stderr",
     "output_type": "stream",
     "text": [
      "Processing battles:  14%|█▍        | 1957/13816 [16:26<1:19:14,  2.49it/s]"
     ]
    },
    {
     "name": "stdout",
     "output_type": "stream",
     "text": [
      "Skipping battle 2094503547 as it doesn't reach turn 6\n"
     ]
    },
    {
     "name": "stderr",
     "output_type": "stream",
     "text": [
      "Processing battles:  14%|█▍        | 1958/13816 [16:26<1:13:45,  2.68it/s]"
     ]
    },
    {
     "name": "stdout",
     "output_type": "stream",
     "text": [
      "Skipping battle 2094480953 as it doesn't reach turn 6\n"
     ]
    },
    {
     "name": "stderr",
     "output_type": "stream",
     "text": [
      "Processing battles:  14%|█▍        | 1975/13816 [16:33<1:22:21,  2.40it/s]"
     ]
    },
    {
     "name": "stdout",
     "output_type": "stream",
     "text": [
      "Skipping battle 2093963622 as it doesn't reach turn 6\n"
     ]
    },
    {
     "name": "stderr",
     "output_type": "stream",
     "text": [
      "Processing battles:  14%|█▍        | 1977/13816 [16:34<1:21:02,  2.43it/s]"
     ]
    },
    {
     "name": "stdout",
     "output_type": "stream",
     "text": [
      "Skipping battle 2093913126 as it doesn't reach turn 6\n"
     ]
    },
    {
     "name": "stderr",
     "output_type": "stream",
     "text": [
      "Processing battles:  14%|█▍        | 1985/13816 [16:38<1:20:41,  2.44it/s]"
     ]
    },
    {
     "name": "stdout",
     "output_type": "stream",
     "text": [
      "Skipping battle 2093652165 as it doesn't reach turn 6\n"
     ]
    },
    {
     "name": "stderr",
     "output_type": "stream",
     "text": [
      "Processing battles:  14%|█▍        | 1986/13816 [16:38<1:16:36,  2.57it/s]"
     ]
    },
    {
     "name": "stdout",
     "output_type": "stream",
     "text": [
      "Skipping battle 2093607161 as it doesn't reach turn 6\n"
     ]
    },
    {
     "name": "stderr",
     "output_type": "stream",
     "text": [
      "Processing battles:  14%|█▍        | 1996/13816 [16:43<1:40:16,  1.96it/s]"
     ]
    },
    {
     "name": "stdout",
     "output_type": "stream",
     "text": [
      "Saved 2442 entries to pokemon_battles_dataset_1500.jsonl\n"
     ]
    },
    {
     "name": "stderr",
     "output_type": "stream",
     "text": [
      "Processing battles:  15%|█▍        | 2007/13816 [16:47<1:21:28,  2.42it/s]"
     ]
    },
    {
     "name": "stdout",
     "output_type": "stream",
     "text": [
      "Skipping battle 2093325215 as it doesn't reach turn 6\n"
     ]
    },
    {
     "name": "stderr",
     "output_type": "stream",
     "text": [
      "Processing battles:  15%|█▍        | 2025/13816 [16:57<1:40:48,  1.95it/s]"
     ]
    },
    {
     "name": "stdout",
     "output_type": "stream",
     "text": [
      "Skipping battle 2093024643 as it doesn't reach turn 6\n"
     ]
    },
    {
     "name": "stderr",
     "output_type": "stream",
     "text": [
      "Processing battles:  15%|█▍        | 2028/13816 [16:58<1:29:48,  2.19it/s]"
     ]
    },
    {
     "name": "stdout",
     "output_type": "stream",
     "text": [
      "Skipping battle 2092962952 as it doesn't reach turn 6\n"
     ]
    },
    {
     "name": "stderr",
     "output_type": "stream",
     "text": [
      "Processing battles:  15%|█▍        | 2041/13816 [17:04<1:19:14,  2.48it/s]"
     ]
    },
    {
     "name": "stdout",
     "output_type": "stream",
     "text": [
      "Skipping battle 2092757401 as it doesn't reach turn 6\n"
     ]
    },
    {
     "name": "stderr",
     "output_type": "stream",
     "text": [
      "Processing battles:  15%|█▍        | 2049/13816 [17:07<1:17:48,  2.52it/s]"
     ]
    },
    {
     "name": "stdout",
     "output_type": "stream",
     "text": [
      "Skipping battle 2092647815 as it doesn't reach turn 6\n"
     ]
    },
    {
     "name": "stderr",
     "output_type": "stream",
     "text": [
      "Processing battles:  15%|█▌        | 2081/13816 [17:22<1:24:05,  2.33it/s]"
     ]
    },
    {
     "name": "stdout",
     "output_type": "stream",
     "text": [
      "Skipping battle 2091943689 as it doesn't reach turn 6\n"
     ]
    },
    {
     "name": "stderr",
     "output_type": "stream",
     "text": [
      "Processing battles:  15%|█▌        | 2099/13816 [17:30<1:23:40,  2.33it/s]"
     ]
    },
    {
     "name": "stdout",
     "output_type": "stream",
     "text": [
      "Skipping battle 2091498002 as it doesn't reach turn 6\n"
     ]
    },
    {
     "name": "stderr",
     "output_type": "stream",
     "text": [
      "Processing battles:  15%|█▌        | 2103/13816 [17:32<1:32:39,  2.11it/s]"
     ]
    },
    {
     "name": "stdout",
     "output_type": "stream",
     "text": [
      "Saved 2267 entries to pokemon_battles_dataset_1500.jsonl\n"
     ]
    },
    {
     "name": "stderr",
     "output_type": "stream",
     "text": [
      "Processing battles:  15%|█▌        | 2123/13816 [17:41<1:24:41,  2.30it/s]"
     ]
    },
    {
     "name": "stdout",
     "output_type": "stream",
     "text": [
      "Skipping battle 2091147508 as it doesn't reach turn 6\n"
     ]
    },
    {
     "name": "stderr",
     "output_type": "stream",
     "text": [
      "Processing battles:  15%|█▌        | 2140/13816 [17:48<1:18:25,  2.48it/s]"
     ]
    },
    {
     "name": "stdout",
     "output_type": "stream",
     "text": [
      "Skipping battle 2090777406 as it doesn't reach turn 6\n"
     ]
    },
    {
     "name": "stderr",
     "output_type": "stream",
     "text": [
      "Processing battles:  16%|█▌        | 2169/13816 [18:01<1:24:33,  2.30it/s]"
     ]
    },
    {
     "name": "stdout",
     "output_type": "stream",
     "text": [
      "Skipping battle 2090140718 as it doesn't reach turn 6\n"
     ]
    },
    {
     "name": "stderr",
     "output_type": "stream",
     "text": [
      "Processing battles:  16%|█▌        | 2200/13816 [18:16<1:23:53,  2.31it/s]"
     ]
    },
    {
     "name": "stdout",
     "output_type": "stream",
     "text": [
      "Skipping battle 2089342688 as it doesn't reach turn 6\n"
     ]
    },
    {
     "name": "stderr",
     "output_type": "stream",
     "text": [
      "Processing battles:  16%|█▌        | 2202/13816 [18:17<1:18:47,  2.46it/s]"
     ]
    },
    {
     "name": "stdout",
     "output_type": "stream",
     "text": [
      "Skipping battle 2089304406 as it doesn't reach turn 6\n"
     ]
    },
    {
     "name": "stderr",
     "output_type": "stream",
     "text": [
      "Processing battles:  16%|█▌        | 2208/13816 [18:20<1:41:47,  1.90it/s]"
     ]
    },
    {
     "name": "stdout",
     "output_type": "stream",
     "text": [
      "Saved 2467 entries to pokemon_battles_dataset_1500.jsonl\n"
     ]
    },
    {
     "name": "stderr",
     "output_type": "stream",
     "text": [
      "Processing battles:  16%|█▌        | 2220/13816 [18:25<1:21:26,  2.37it/s]"
     ]
    },
    {
     "name": "stdout",
     "output_type": "stream",
     "text": [
      "Skipping battle 2088819888 as it doesn't reach turn 6\n"
     ]
    },
    {
     "name": "stderr",
     "output_type": "stream",
     "text": [
      "Processing battles:  16%|█▌        | 2221/13816 [18:26<1:16:47,  2.52it/s]"
     ]
    },
    {
     "name": "stdout",
     "output_type": "stream",
     "text": [
      "Skipping battle 2088819688 as it doesn't reach turn 6\n"
     ]
    },
    {
     "name": "stderr",
     "output_type": "stream",
     "text": [
      "Processing battles:  16%|█▌        | 2241/13816 [18:35<1:25:19,  2.26it/s]"
     ]
    },
    {
     "name": "stdout",
     "output_type": "stream",
     "text": [
      "Skipping battle 2088423588 as it doesn't reach turn 6\n"
     ]
    },
    {
     "name": "stderr",
     "output_type": "stream",
     "text": [
      "Processing battles:  16%|█▋        | 2253/13816 [18:41<1:16:41,  2.51it/s]"
     ]
    },
    {
     "name": "stdout",
     "output_type": "stream",
     "text": [
      "Skipping battle 2088152059 as it doesn't reach turn 6\n"
     ]
    },
    {
     "name": "stderr",
     "output_type": "stream",
     "text": [
      "Processing battles:  16%|█▋        | 2255/13816 [18:41<1:13:41,  2.61it/s]"
     ]
    },
    {
     "name": "stdout",
     "output_type": "stream",
     "text": [
      "Skipping battle 2088141897 as it doesn't reach turn 6\n"
     ]
    },
    {
     "name": "stderr",
     "output_type": "stream",
     "text": [
      "Processing battles:  16%|█▋        | 2268/13816 [18:47<1:17:48,  2.47it/s]"
     ]
    },
    {
     "name": "stdout",
     "output_type": "stream",
     "text": [
      "Skipping battle 2087992968 as it doesn't reach turn 6\n"
     ]
    },
    {
     "name": "stderr",
     "output_type": "stream",
     "text": [
      "Processing battles:  17%|█▋        | 2307/13816 [19:05<1:20:00,  2.40it/s]"
     ]
    },
    {
     "name": "stdout",
     "output_type": "stream",
     "text": [
      "Skipping battle 2087249125 as it doesn't reach turn 6\n"
     ]
    },
    {
     "name": "stderr",
     "output_type": "stream",
     "text": [
      "Processing battles:  17%|█▋        | 2308/13816 [19:05<1:19:27,  2.41it/s]"
     ]
    },
    {
     "name": "stdout",
     "output_type": "stream",
     "text": [
      "Skipping battle 2087241862 as it doesn't reach turn 6\n"
     ]
    },
    {
     "name": "stderr",
     "output_type": "stream",
     "text": [
      "Processing battles:  17%|█▋        | 2316/13816 [19:09<1:41:27,  1.89it/s]"
     ]
    },
    {
     "name": "stdout",
     "output_type": "stream",
     "text": [
      "Saved 2338 entries to pokemon_battles_dataset_1500.jsonl\n"
     ]
    },
    {
     "name": "stderr",
     "output_type": "stream",
     "text": [
      "Processing battles:  17%|█▋        | 2363/13816 [19:31<1:19:46,  2.39it/s]"
     ]
    },
    {
     "name": "stdout",
     "output_type": "stream",
     "text": [
      "Skipping battle 2086173466 as it doesn't reach turn 6\n"
     ]
    },
    {
     "name": "stderr",
     "output_type": "stream",
     "text": [
      "Processing battles:  17%|█▋        | 2403/13816 [19:49<1:17:30,  2.45it/s]"
     ]
    },
    {
     "name": "stdout",
     "output_type": "stream",
     "text": [
      "Skipping battle 2085305695 as it doesn't reach turn 6\n"
     ]
    },
    {
     "name": "stderr",
     "output_type": "stream",
     "text": [
      "Processing battles:  17%|█▋        | 2407/13816 [19:51<1:17:50,  2.44it/s]"
     ]
    },
    {
     "name": "stdout",
     "output_type": "stream",
     "text": [
      "Skipping battle 2085273994 as it doesn't reach turn 6\n"
     ]
    },
    {
     "name": "stderr",
     "output_type": "stream",
     "text": [
      "Processing battles:  17%|█▋        | 2415/13816 [19:54<1:16:40,  2.48it/s]"
     ]
    },
    {
     "name": "stdout",
     "output_type": "stream",
     "text": [
      "Skipping battle 2085110281 as it doesn't reach turn 6\n"
     ]
    },
    {
     "name": "stderr",
     "output_type": "stream",
     "text": [
      "Processing battles:  18%|█▊        | 2418/13816 [19:55<1:14:13,  2.56it/s]"
     ]
    },
    {
     "name": "stdout",
     "output_type": "stream",
     "text": [
      "Skipping battle 2084962641 as it doesn't reach turn 6\n"
     ]
    },
    {
     "name": "stderr",
     "output_type": "stream",
     "text": [
      "Processing battles:  18%|█▊        | 2421/13816 [19:57<1:30:02,  2.11it/s]"
     ]
    },
    {
     "name": "stdout",
     "output_type": "stream",
     "text": [
      "Saved 2468 entries to pokemon_battles_dataset_1500.jsonl\n"
     ]
    },
    {
     "name": "stderr",
     "output_type": "stream",
     "text": [
      "Processing battles:  18%|█▊        | 2422/13816 [19:57<1:21:36,  2.33it/s]"
     ]
    },
    {
     "name": "stdout",
     "output_type": "stream",
     "text": [
      "Skipping battle 2084913660 as it doesn't reach turn 6\n"
     ]
    },
    {
     "name": "stderr",
     "output_type": "stream",
     "text": [
      "Processing battles:  18%|█▊        | 2436/13816 [20:03<1:15:48,  2.50it/s]"
     ]
    },
    {
     "name": "stdout",
     "output_type": "stream",
     "text": [
      "Skipping battle 2084399195 as it doesn't reach turn 6\n"
     ]
    },
    {
     "name": "stderr",
     "output_type": "stream",
     "text": [
      "Processing battles:  18%|█▊        | 2455/13816 [20:12<1:24:03,  2.25it/s]"
     ]
    },
    {
     "name": "stdout",
     "output_type": "stream",
     "text": [
      "Skipping battle 2084068221 as it doesn't reach turn 6\n"
     ]
    },
    {
     "name": "stderr",
     "output_type": "stream",
     "text": [
      "Processing battles:  18%|█▊        | 2456/13816 [20:12<1:18:11,  2.42it/s]"
     ]
    },
    {
     "name": "stdout",
     "output_type": "stream",
     "text": [
      "Skipping battle 2083992831 as it doesn't reach turn 6\n"
     ]
    },
    {
     "name": "stderr",
     "output_type": "stream",
     "text": [
      "Processing battles:  18%|█▊        | 2468/13816 [20:17<1:18:02,  2.42it/s]"
     ]
    },
    {
     "name": "stdout",
     "output_type": "stream",
     "text": [
      "Skipping battle 2083710410 as it doesn't reach turn 6\n"
     ]
    },
    {
     "name": "stderr",
     "output_type": "stream",
     "text": [
      "Processing battles:  18%|█▊        | 2494/13816 [20:29<1:23:07,  2.27it/s]"
     ]
    },
    {
     "name": "stdout",
     "output_type": "stream",
     "text": [
      "Skipping battle 2083040256 as it doesn't reach turn 6\n"
     ]
    },
    {
     "name": "stderr",
     "output_type": "stream",
     "text": [
      "Processing battles:  18%|█▊        | 2496/13816 [20:30<1:22:25,  2.29it/s]"
     ]
    },
    {
     "name": "stdout",
     "output_type": "stream",
     "text": [
      "Skipping battle 2082897732 as it doesn't reach turn 6\n"
     ]
    },
    {
     "name": "stderr",
     "output_type": "stream",
     "text": [
      "Processing battles:  18%|█▊        | 2513/13816 [20:38<1:22:36,  2.28it/s]"
     ]
    },
    {
     "name": "stdout",
     "output_type": "stream",
     "text": [
      "Skipping battle 2082630417 as it doesn't reach turn 6\n"
     ]
    },
    {
     "name": "stderr",
     "output_type": "stream",
     "text": [
      "Processing battles:  18%|█▊        | 2529/13816 [20:46<1:19:09,  2.38it/s]"
     ]
    },
    {
     "name": "stdout",
     "output_type": "stream",
     "text": [
      "Skipping battle 2082211126 as it doesn't reach turn 6\n"
     ]
    },
    {
     "name": "stderr",
     "output_type": "stream",
     "text": [
      "Processing battles:  18%|█▊        | 2530/13816 [20:46<1:32:26,  2.03it/s]"
     ]
    },
    {
     "name": "stdout",
     "output_type": "stream",
     "text": [
      "Saved 2641 entries to pokemon_battles_dataset_1500.jsonl\n"
     ]
    },
    {
     "name": "stderr",
     "output_type": "stream",
     "text": [
      "Processing battles:  18%|█▊        | 2534/13816 [20:48<1:17:31,  2.43it/s]"
     ]
    },
    {
     "name": "stdout",
     "output_type": "stream",
     "text": [
      "Skipping battle 2082156997 as it doesn't reach turn 6\n"
     ]
    },
    {
     "name": "stderr",
     "output_type": "stream",
     "text": [
      "Processing battles:  18%|█▊        | 2540/13816 [20:50<1:16:05,  2.47it/s]"
     ]
    },
    {
     "name": "stdout",
     "output_type": "stream",
     "text": [
      "Skipping battle 2082028321 as it doesn't reach turn 6\n"
     ]
    },
    {
     "name": "stderr",
     "output_type": "stream",
     "text": [
      "Processing battles:  18%|█▊        | 2555/13816 [20:57<1:21:01,  2.32it/s]"
     ]
    },
    {
     "name": "stdout",
     "output_type": "stream",
     "text": [
      "Skipping battle 2081515440 as it doesn't reach turn 6\n"
     ]
    },
    {
     "name": "stderr",
     "output_type": "stream",
     "text": [
      "Processing battles:  19%|█▊        | 2557/13816 [20:58<1:15:55,  2.47it/s]"
     ]
    },
    {
     "name": "stdout",
     "output_type": "stream",
     "text": [
      "Skipping battle 2081504163 as it doesn't reach turn 6\n"
     ]
    },
    {
     "name": "stderr",
     "output_type": "stream",
     "text": [
      "Processing battles:  19%|█▊        | 2571/13816 [21:05<2:00:40,  1.55it/s]"
     ]
    },
    {
     "name": "stdout",
     "output_type": "stream",
     "text": [
      "Skipping battle 2081136136 as it doesn't reach turn 6\n"
     ]
    },
    {
     "name": "stderr",
     "output_type": "stream",
     "text": [
      "Processing battles:  19%|█▊        | 2574/13816 [21:06<1:29:15,  2.10it/s]"
     ]
    },
    {
     "name": "stdout",
     "output_type": "stream",
     "text": [
      "Skipping battle 2081086701 as it doesn't reach turn 6\n"
     ]
    },
    {
     "name": "stderr",
     "output_type": "stream",
     "text": [
      "Processing battles:  19%|█▉        | 2598/13816 [21:18<1:18:17,  2.39it/s]"
     ]
    },
    {
     "name": "stdout",
     "output_type": "stream",
     "text": [
      "Skipping battle 2080397289 as it doesn't reach turn 6\n"
     ]
    },
    {
     "name": "stderr",
     "output_type": "stream",
     "text": [
      "Processing battles:  19%|█▉        | 2607/13816 [21:21<1:17:34,  2.41it/s]"
     ]
    },
    {
     "name": "stdout",
     "output_type": "stream",
     "text": [
      "Skipping battle 2080299021 as it doesn't reach turn 6\n"
     ]
    },
    {
     "name": "stderr",
     "output_type": "stream",
     "text": [
      "Processing battles:  19%|█▉        | 2630/13816 [21:32<1:18:25,  2.38it/s]"
     ]
    },
    {
     "name": "stdout",
     "output_type": "stream",
     "text": [
      "Skipping battle 2079875000 as it doesn't reach turn 6\n"
     ]
    },
    {
     "name": "stderr",
     "output_type": "stream",
     "text": [
      "Processing battles:  19%|█▉        | 2634/13816 [21:33<1:11:55,  2.59it/s]"
     ]
    },
    {
     "name": "stdout",
     "output_type": "stream",
     "text": [
      "Skipping battle 2079708978 as it doesn't reach turn 6\n"
     ]
    },
    {
     "name": "stderr",
     "output_type": "stream",
     "text": [
      "Processing battles:  19%|█▉        | 2637/13816 [21:35<1:10:21,  2.65it/s]"
     ]
    },
    {
     "name": "stdout",
     "output_type": "stream",
     "text": [
      "Skipping battle 2079656367 as it doesn't reach turn 6\n"
     ]
    },
    {
     "name": "stderr",
     "output_type": "stream",
     "text": [
      "Processing battles:  19%|█▉        | 2639/13816 [21:35<1:10:50,  2.63it/s]"
     ]
    },
    {
     "name": "stdout",
     "output_type": "stream",
     "text": [
      "Skipping battle 2079553489 as it doesn't reach turn 6\n"
     ]
    },
    {
     "name": "stderr",
     "output_type": "stream",
     "text": [
      "Processing battles:  19%|█▉        | 2640/13816 [21:36<1:07:20,  2.77it/s]"
     ]
    },
    {
     "name": "stdout",
     "output_type": "stream",
     "text": [
      "Skipping battle 2079547938 as it doesn't reach turn 6\n"
     ]
    },
    {
     "name": "stderr",
     "output_type": "stream",
     "text": [
      "Processing battles:  19%|█▉        | 2643/13816 [21:37<1:31:13,  2.04it/s]"
     ]
    },
    {
     "name": "stdout",
     "output_type": "stream",
     "text": [
      "Saved 2376 entries to pokemon_battles_dataset_1500.jsonl\n"
     ]
    },
    {
     "name": "stderr",
     "output_type": "stream",
     "text": [
      "Processing battles:  19%|█▉        | 2652/13816 [21:41<1:14:49,  2.49it/s]"
     ]
    },
    {
     "name": "stdout",
     "output_type": "stream",
     "text": [
      "Skipping battle 2079327623 as it doesn't reach turn 6\n"
     ]
    },
    {
     "name": "stderr",
     "output_type": "stream",
     "text": [
      "Processing battles:  19%|█▉        | 2686/13816 [21:56<1:13:50,  2.51it/s]"
     ]
    },
    {
     "name": "stdout",
     "output_type": "stream",
     "text": [
      "Skipping battle 2078422144 as it doesn't reach turn 6\n"
     ]
    },
    {
     "name": "stderr",
     "output_type": "stream",
     "text": [
      "Processing battles:  20%|█▉        | 2703/13816 [22:03<1:12:48,  2.54it/s]"
     ]
    },
    {
     "name": "stdout",
     "output_type": "stream",
     "text": [
      "Skipping battle 2077888498 as it doesn't reach turn 6\n"
     ]
    },
    {
     "name": "stderr",
     "output_type": "stream",
     "text": [
      "Processing battles:  20%|█▉        | 2707/13816 [22:05<1:11:56,  2.57it/s]"
     ]
    },
    {
     "name": "stdout",
     "output_type": "stream",
     "text": [
      "Skipping battle 2077845123 as it doesn't reach turn 6\n"
     ]
    },
    {
     "name": "stderr",
     "output_type": "stream",
     "text": [
      "Processing battles:  20%|█▉        | 2712/13816 [22:07<1:12:43,  2.54it/s]"
     ]
    },
    {
     "name": "stdout",
     "output_type": "stream",
     "text": [
      "Skipping battle 2077815811 as it doesn't reach turn 6\n"
     ]
    },
    {
     "name": "stderr",
     "output_type": "stream",
     "text": [
      "Processing battles:  20%|█▉        | 2716/13816 [22:09<1:21:48,  2.26it/s]"
     ]
    },
    {
     "name": "stdout",
     "output_type": "stream",
     "text": [
      "Skipping battle 2077742945 as it doesn't reach turn 6\n"
     ]
    },
    {
     "name": "stderr",
     "output_type": "stream",
     "text": [
      "Processing battles:  20%|█▉        | 2749/13816 [22:24<1:33:55,  1.96it/s]"
     ]
    },
    {
     "name": "stdout",
     "output_type": "stream",
     "text": [
      "Saved 2192 entries to pokemon_battles_dataset_1500.jsonl\n"
     ]
    },
    {
     "name": "stderr",
     "output_type": "stream",
     "text": [
      "Processing battles:  20%|█▉        | 2757/13816 [22:28<1:17:15,  2.39it/s]"
     ]
    },
    {
     "name": "stdout",
     "output_type": "stream",
     "text": [
      "Skipping battle 2076540626 as it doesn't reach turn 6\n"
     ]
    },
    {
     "name": "stderr",
     "output_type": "stream",
     "text": [
      "Processing battles:  20%|██        | 2768/13816 [22:33<1:29:50,  2.05it/s]"
     ]
    },
    {
     "name": "stdout",
     "output_type": "stream",
     "text": [
      "Skipping battle 2076393854 as it doesn't reach turn 6\n"
     ]
    },
    {
     "name": "stderr",
     "output_type": "stream",
     "text": [
      "Processing battles:  20%|██        | 2800/13816 [22:48<1:21:39,  2.25it/s]"
     ]
    },
    {
     "name": "stdout",
     "output_type": "stream",
     "text": [
      "Skipping battle 2075718487 as it doesn't reach turn 6\n"
     ]
    },
    {
     "name": "stderr",
     "output_type": "stream",
     "text": [
      "Processing battles:  20%|██        | 2821/13816 [22:57<1:12:57,  2.51it/s]"
     ]
    },
    {
     "name": "stdout",
     "output_type": "stream",
     "text": [
      "Skipping battle 2075202095 as it doesn't reach turn 6\n"
     ]
    },
    {
     "name": "stderr",
     "output_type": "stream",
     "text": [
      "Processing battles:  20%|██        | 2831/13816 [23:02<1:21:11,  2.26it/s]"
     ]
    },
    {
     "name": "stdout",
     "output_type": "stream",
     "text": [
      "Skipping battle 2074953274 as it doesn't reach turn 6\n"
     ]
    },
    {
     "name": "stderr",
     "output_type": "stream",
     "text": [
      "Processing battles:  21%|██        | 2838/13816 [23:07<2:07:53,  1.43it/s]"
     ]
    },
    {
     "name": "stdout",
     "output_type": "stream",
     "text": [
      "Skipping battle 2074855896 as it doesn't reach turn 6\n"
     ]
    },
    {
     "name": "stderr",
     "output_type": "stream",
     "text": [
      "Processing battles:  21%|██        | 2855/13816 [23:15<1:42:27,  1.78it/s]"
     ]
    },
    {
     "name": "stdout",
     "output_type": "stream",
     "text": [
      "Saved 2331 entries to pokemon_battles_dataset_1500.jsonl\n"
     ]
    },
    {
     "name": "stderr",
     "output_type": "stream",
     "text": [
      "Processing battles:  21%|██        | 2867/13816 [23:21<1:33:42,  1.95it/s]"
     ]
    },
    {
     "name": "stdout",
     "output_type": "stream",
     "text": [
      "Skipping battle 2074018530 as it doesn't reach turn 6\n"
     ]
    },
    {
     "name": "stderr",
     "output_type": "stream",
     "text": [
      "Processing battles:  21%|██        | 2896/13816 [23:34<1:15:11,  2.42it/s]"
     ]
    },
    {
     "name": "stdout",
     "output_type": "stream",
     "text": [
      "Skipping battle 2073462049 as it doesn't reach turn 6\n"
     ]
    },
    {
     "name": "stderr",
     "output_type": "stream",
     "text": [
      "Processing battles:  21%|██        | 2913/13816 [23:41<1:16:08,  2.39it/s]"
     ]
    },
    {
     "name": "stdout",
     "output_type": "stream",
     "text": [
      "Skipping battle 2073160521 as it doesn't reach turn 6\n"
     ]
    },
    {
     "name": "stderr",
     "output_type": "stream",
     "text": [
      "Processing battles:  21%|██▏       | 2958/13816 [24:02<1:27:13,  2.07it/s]"
     ]
    },
    {
     "name": "stdout",
     "output_type": "stream",
     "text": [
      "Saved 2185 entries to pokemon_battles_dataset_1500.jsonl\n"
     ]
    },
    {
     "name": "stderr",
     "output_type": "stream",
     "text": [
      "Processing battles:  22%|██▏       | 2973/13816 [24:09<1:28:39,  2.04it/s]"
     ]
    },
    {
     "name": "stdout",
     "output_type": "stream",
     "text": [
      "Skipping battle 2071142226 as it doesn't reach turn 6\n"
     ]
    },
    {
     "name": "stderr",
     "output_type": "stream",
     "text": [
      "Processing battles:  22%|██▏       | 2982/13816 [24:13<1:17:17,  2.34it/s]"
     ]
    },
    {
     "name": "stdout",
     "output_type": "stream",
     "text": [
      "Skipping battle 2070775342 as it doesn't reach turn 6\n"
     ]
    },
    {
     "name": "stderr",
     "output_type": "stream",
     "text": [
      "Processing battles:  22%|██▏       | 2995/13816 [24:19<1:13:56,  2.44it/s]"
     ]
    },
    {
     "name": "stdout",
     "output_type": "stream",
     "text": [
      "Skipping battle 2070599951 as it doesn't reach turn 6\n"
     ]
    },
    {
     "name": "stderr",
     "output_type": "stream",
     "text": [
      "Processing battles:  22%|██▏       | 3018/13816 [24:29<1:18:30,  2.29it/s]"
     ]
    },
    {
     "name": "stdout",
     "output_type": "stream",
     "text": [
      "Skipping battle 2070382825 as it doesn't reach turn 6\n"
     ]
    },
    {
     "name": "stderr",
     "output_type": "stream",
     "text": [
      "Processing battles:  22%|██▏       | 3051/13816 [24:45<1:15:52,  2.36it/s]"
     ]
    },
    {
     "name": "stdout",
     "output_type": "stream",
     "text": [
      "Skipping battle 2069144689 as it doesn't reach turn 6\n"
     ]
    },
    {
     "name": "stderr",
     "output_type": "stream",
     "text": [
      "Processing battles:  22%|██▏       | 3063/13816 [24:50<1:27:00,  2.06it/s]"
     ]
    },
    {
     "name": "stdout",
     "output_type": "stream",
     "text": [
      "Saved 2171 entries to pokemon_battles_dataset_1500.jsonl\n"
     ]
    },
    {
     "name": "stderr",
     "output_type": "stream",
     "text": [
      "Processing battles:  22%|██▏       | 3074/13816 [24:55<1:16:57,  2.33it/s]"
     ]
    },
    {
     "name": "stdout",
     "output_type": "stream",
     "text": [
      "Skipping battle 2068374334 as it doesn't reach turn 6\n"
     ]
    },
    {
     "name": "stderr",
     "output_type": "stream",
     "text": [
      "Processing battles:  22%|██▏       | 3079/13816 [24:57<1:13:43,  2.43it/s]"
     ]
    },
    {
     "name": "stdout",
     "output_type": "stream",
     "text": [
      "Skipping battle 2068288627 as it doesn't reach turn 6\n"
     ]
    },
    {
     "name": "stderr",
     "output_type": "stream",
     "text": [
      "Processing battles:  22%|██▏       | 3094/13816 [25:04<1:19:01,  2.26it/s]"
     ]
    },
    {
     "name": "stdout",
     "output_type": "stream",
     "text": [
      "Skipping battle 2067982549 as it doesn't reach turn 6\n"
     ]
    },
    {
     "name": "stderr",
     "output_type": "stream",
     "text": [
      "Processing battles:  23%|██▎       | 3131/13816 [25:21<1:17:35,  2.30it/s]"
     ]
    },
    {
     "name": "stdout",
     "output_type": "stream",
     "text": [
      "Skipping battle 2066884002 as it doesn't reach turn 6\n"
     ]
    },
    {
     "name": "stderr",
     "output_type": "stream",
     "text": [
      "Processing battles:  23%|██▎       | 3167/13816 [25:39<2:00:20,  1.47it/s]"
     ]
    },
    {
     "name": "stdout",
     "output_type": "stream",
     "text": [
      "Saved 2384 entries to pokemon_battles_dataset_1500.jsonl\n"
     ]
    },
    {
     "name": "stderr",
     "output_type": "stream",
     "text": [
      "Processing battles:  23%|██▎       | 3219/13816 [26:22<3:16:00,  1.11s/it]"
     ]
    },
    {
     "name": "stdout",
     "output_type": "stream",
     "text": [
      "Skipping battle 2064509060 as it doesn't reach turn 6\n"
     ]
    },
    {
     "name": "stderr",
     "output_type": "stream",
     "text": [
      "Processing battles:  23%|██▎       | 3220/13816 [26:23<3:04:48,  1.05s/it]"
     ]
    },
    {
     "name": "stdout",
     "output_type": "stream",
     "text": [
      "Skipping battle 2064493421 as it doesn't reach turn 6\n"
     ]
    },
    {
     "name": "stderr",
     "output_type": "stream",
     "text": [
      "Processing battles:  24%|██▎       | 3259/13816 [26:57<2:28:57,  1.18it/s]"
     ]
    },
    {
     "name": "stdout",
     "output_type": "stream",
     "text": [
      "Skipping battle 2063840290 as it doesn't reach turn 6\n"
     ]
    },
    {
     "name": "stderr",
     "output_type": "stream",
     "text": [
      "Processing battles:  24%|██▎       | 3270/13816 [27:09<3:12:31,  1.10s/it]"
     ]
    },
    {
     "name": "stdout",
     "output_type": "stream",
     "text": [
      "Saved 2506 entries to pokemon_battles_dataset_1500.jsonl\n"
     ]
    },
    {
     "name": "stderr",
     "output_type": "stream",
     "text": [
      "Processing battles:  24%|██▍       | 3282/13816 [27:30<4:39:34,  1.59s/it]"
     ]
    },
    {
     "name": "stdout",
     "output_type": "stream",
     "text": [
      "Skipping battle 2063369492 due to invalid JSON response\n"
     ]
    },
    {
     "name": "stderr",
     "output_type": "stream",
     "text": [
      "Processing battles:  24%|██▍       | 3286/13816 [27:39<6:36:02,  2.26s/it]"
     ]
    },
    {
     "name": "stdout",
     "output_type": "stream",
     "text": [
      "Skipping battle 2063325963 as it doesn't reach turn 6\n"
     ]
    },
    {
     "name": "stderr",
     "output_type": "stream",
     "text": [
      "Processing battles:  24%|██▍       | 3310/13816 [28:11<2:41:33,  1.08it/s]"
     ]
    },
    {
     "name": "stdout",
     "output_type": "stream",
     "text": [
      "Skipping battle 2062996549 as it doesn't reach turn 6\n"
     ]
    },
    {
     "name": "stderr",
     "output_type": "stream",
     "text": [
      "Processing battles:  24%|██▍       | 3332/13816 [28:27<1:40:45,  1.73it/s]"
     ]
    },
    {
     "name": "stdout",
     "output_type": "stream",
     "text": [
      "Skipping battle 2062730123 as it doesn't reach turn 6\n"
     ]
    },
    {
     "name": "stderr",
     "output_type": "stream",
     "text": [
      "Processing battles:  24%|██▍       | 3357/13816 [28:40<1:11:09,  2.45it/s]"
     ]
    },
    {
     "name": "stdout",
     "output_type": "stream",
     "text": [
      "Skipping battle 2062148269 as it doesn't reach turn 6\n"
     ]
    },
    {
     "name": "stderr",
     "output_type": "stream",
     "text": [
      "Processing battles:  24%|██▍       | 3360/13816 [28:41<1:12:12,  2.41it/s]"
     ]
    },
    {
     "name": "stdout",
     "output_type": "stream",
     "text": [
      "Skipping battle 2062116176 as it doesn't reach turn 6\n"
     ]
    },
    {
     "name": "stderr",
     "output_type": "stream",
     "text": [
      "Processing battles:  24%|██▍       | 3361/13816 [28:41<1:07:32,  2.58it/s]"
     ]
    },
    {
     "name": "stdout",
     "output_type": "stream",
     "text": [
      "Skipping battle 2062105530 as it doesn't reach turn 6\n"
     ]
    },
    {
     "name": "stderr",
     "output_type": "stream",
     "text": [
      "Processing battles:  24%|██▍       | 3365/13816 [28:43<1:14:49,  2.33it/s]"
     ]
    },
    {
     "name": "stdout",
     "output_type": "stream",
     "text": [
      "Skipping battle 2061985364 as it doesn't reach turn 6\n"
     ]
    },
    {
     "name": "stderr",
     "output_type": "stream",
     "text": [
      "Processing battles:  24%|██▍       | 3378/13816 [28:50<1:27:47,  1.98it/s]"
     ]
    },
    {
     "name": "stdout",
     "output_type": "stream",
     "text": [
      "Saved 2468 entries to pokemon_battles_dataset_1500.jsonl\n"
     ]
    },
    {
     "name": "stderr",
     "output_type": "stream",
     "text": [
      "Processing battles:  24%|██▍       | 3380/13816 [28:50<1:15:14,  2.31it/s]"
     ]
    },
    {
     "name": "stdout",
     "output_type": "stream",
     "text": [
      "Skipping battle 2061653161 as it doesn't reach turn 6\n"
     ]
    },
    {
     "name": "stderr",
     "output_type": "stream",
     "text": [
      "Processing battles:  25%|██▍       | 3417/13816 [29:07<1:12:34,  2.39it/s]"
     ]
    },
    {
     "name": "stdout",
     "output_type": "stream",
     "text": [
      "Skipping battle 2060888064 as it doesn't reach turn 6\n"
     ]
    },
    {
     "name": "stderr",
     "output_type": "stream",
     "text": [
      "Processing battles:  25%|██▍       | 3422/13816 [29:10<1:17:11,  2.24it/s]"
     ]
    },
    {
     "name": "stdout",
     "output_type": "stream",
     "text": [
      "Skipping battle 2060724393 as it doesn't reach turn 6\n"
     ]
    },
    {
     "name": "stderr",
     "output_type": "stream",
     "text": [
      "Processing battles:  25%|██▍       | 3423/13816 [29:10<1:11:04,  2.44it/s]"
     ]
    },
    {
     "name": "stdout",
     "output_type": "stream",
     "text": [
      "Skipping battle 2060686431 as it doesn't reach turn 6\n"
     ]
    },
    {
     "name": "stderr",
     "output_type": "stream",
     "text": [
      "Processing battles:  25%|██▍       | 3433/13816 [29:14<1:15:41,  2.29it/s]"
     ]
    },
    {
     "name": "stdout",
     "output_type": "stream",
     "text": [
      "Skipping battle 2060419252 as it doesn't reach turn 6\n"
     ]
    },
    {
     "name": "stderr",
     "output_type": "stream",
     "text": [
      "Processing battles:  25%|██▍       | 3436/13816 [29:16<1:12:29,  2.39it/s]"
     ]
    },
    {
     "name": "stdout",
     "output_type": "stream",
     "text": [
      "Skipping battle 2060305515 as it doesn't reach turn 6\n"
     ]
    },
    {
     "name": "stderr",
     "output_type": "stream",
     "text": [
      "Processing battles:  25%|██▍       | 3443/13816 [29:18<1:07:45,  2.55it/s]"
     ]
    },
    {
     "name": "stdout",
     "output_type": "stream",
     "text": [
      "Skipping battle 2060196720 as it doesn't reach turn 6\n"
     ]
    },
    {
     "name": "stderr",
     "output_type": "stream",
     "text": [
      "Processing battles:  25%|██▍       | 3444/13816 [29:19<1:04:26,  2.68it/s]"
     ]
    },
    {
     "name": "stdout",
     "output_type": "stream",
     "text": [
      "Skipping battle 2060177027 as it doesn't reach turn 6\n"
     ]
    },
    {
     "name": "stderr",
     "output_type": "stream",
     "text": [
      "Processing battles:  25%|██▌       | 3463/13816 [29:28<1:15:35,  2.28it/s]"
     ]
    },
    {
     "name": "stdout",
     "output_type": "stream",
     "text": [
      "Skipping battle 2059662610 as it doesn't reach turn 6\n"
     ]
    },
    {
     "name": "stderr",
     "output_type": "stream",
     "text": [
      "Processing battles:  25%|██▌       | 3464/13816 [29:28<1:11:15,  2.42it/s]"
     ]
    },
    {
     "name": "stdout",
     "output_type": "stream",
     "text": [
      "Skipping battle 2059661406 as it doesn't reach turn 6\n"
     ]
    },
    {
     "name": "stderr",
     "output_type": "stream",
     "text": [
      "Processing battles:  25%|██▌       | 3466/13816 [29:29<1:09:28,  2.48it/s]"
     ]
    },
    {
     "name": "stdout",
     "output_type": "stream",
     "text": [
      "Skipping battle 2059619967 as it doesn't reach turn 6\n"
     ]
    },
    {
     "name": "stderr",
     "output_type": "stream",
     "text": [
      "Processing battles:  25%|██▌       | 3469/13816 [29:30<1:07:31,  2.55it/s]"
     ]
    },
    {
     "name": "stdout",
     "output_type": "stream",
     "text": [
      "Skipping battle 2059558661 as it doesn't reach turn 6\n"
     ]
    },
    {
     "name": "stderr",
     "output_type": "stream",
     "text": [
      "Processing battles:  25%|██▌       | 3470/13816 [29:30<1:05:39,  2.63it/s]"
     ]
    },
    {
     "name": "stdout",
     "output_type": "stream",
     "text": [
      "Skipping battle 2059522253 as it doesn't reach turn 6\n"
     ]
    },
    {
     "name": "stderr",
     "output_type": "stream",
     "text": [
      "Processing battles:  25%|██▌       | 3481/13816 [29:35<1:14:13,  2.32it/s]"
     ]
    },
    {
     "name": "stdout",
     "output_type": "stream",
     "text": [
      "Skipping battle 2059331062 as it doesn't reach turn 6\n"
     ]
    },
    {
     "name": "stderr",
     "output_type": "stream",
     "text": [
      "Processing battles:  25%|██▌       | 3492/13816 [29:40<1:24:53,  2.03it/s]"
     ]
    },
    {
     "name": "stdout",
     "output_type": "stream",
     "text": [
      "Saved 2398 entries to pokemon_battles_dataset_1500.jsonl\n"
     ]
    },
    {
     "name": "stderr",
     "output_type": "stream",
     "text": [
      "Processing battles:  26%|██▌       | 3527/13816 [29:56<1:14:32,  2.30it/s]"
     ]
    },
    {
     "name": "stdout",
     "output_type": "stream",
     "text": [
      "Skipping battle 2058466457 as it doesn't reach turn 6\n"
     ]
    },
    {
     "name": "stderr",
     "output_type": "stream",
     "text": [
      "Processing battles:  26%|██▌       | 3530/13816 [29:58<1:24:45,  2.02it/s]"
     ]
    },
    {
     "name": "stdout",
     "output_type": "stream",
     "text": [
      "Skipping battle 2058414143 as it doesn't reach turn 6\n"
     ]
    },
    {
     "name": "stderr",
     "output_type": "stream",
     "text": [
      "Processing battles:  26%|██▌       | 3538/13816 [30:01<1:12:20,  2.37it/s]"
     ]
    },
    {
     "name": "stdout",
     "output_type": "stream",
     "text": [
      "Skipping battle 2058190949 as it doesn't reach turn 6\n"
     ]
    },
    {
     "name": "stderr",
     "output_type": "stream",
     "text": [
      "Processing battles:  26%|██▌       | 3544/13816 [30:04<1:12:23,  2.37it/s]"
     ]
    },
    {
     "name": "stdout",
     "output_type": "stream",
     "text": [
      "Skipping battle 2057802970 as it doesn't reach turn 6\n"
     ]
    },
    {
     "name": "stderr",
     "output_type": "stream",
     "text": [
      "Processing battles:  26%|██▌       | 3566/13816 [30:14<1:11:50,  2.38it/s]"
     ]
    },
    {
     "name": "stdout",
     "output_type": "stream",
     "text": [
      "Skipping battle 2056824046 as it doesn't reach turn 6\n"
     ]
    },
    {
     "name": "stderr",
     "output_type": "stream",
     "text": [
      "Processing battles:  26%|██▌       | 3575/13816 [30:18<1:16:20,  2.24it/s]"
     ]
    },
    {
     "name": "stdout",
     "output_type": "stream",
     "text": [
      "Skipping battle 2056494734 as it doesn't reach turn 6\n"
     ]
    },
    {
     "name": "stderr",
     "output_type": "stream",
     "text": [
      "Processing battles:  26%|██▌       | 3598/13816 [30:29<1:22:59,  2.05it/s]"
     ]
    },
    {
     "name": "stdout",
     "output_type": "stream",
     "text": [
      "Saved 2066 entries to pokemon_battles_dataset_1500.jsonl\n"
     ]
    },
    {
     "name": "stderr",
     "output_type": "stream",
     "text": [
      "Processing battles:  26%|██▌       | 3604/13816 [30:31<1:12:36,  2.34it/s]"
     ]
    },
    {
     "name": "stdout",
     "output_type": "stream",
     "text": [
      "Skipping battle 2055909686 as it doesn't reach turn 6\n"
     ]
    },
    {
     "name": "stderr",
     "output_type": "stream",
     "text": [
      "Processing battles:  26%|██▋       | 3648/13816 [30:52<1:13:43,  2.30it/s]"
     ]
    },
    {
     "name": "stdout",
     "output_type": "stream",
     "text": [
      "Skipping battle 2055028356 as it doesn't reach turn 6\n"
     ]
    },
    {
     "name": "stderr",
     "output_type": "stream",
     "text": [
      "Processing battles:  26%|██▋       | 3649/13816 [30:52<1:08:35,  2.47it/s]"
     ]
    },
    {
     "name": "stdout",
     "output_type": "stream",
     "text": [
      "Skipping battle 2055012381 as it doesn't reach turn 6\n"
     ]
    },
    {
     "name": "stderr",
     "output_type": "stream",
     "text": [
      "Processing battles:  26%|██▋       | 3655/13816 [30:54<1:07:25,  2.51it/s]"
     ]
    },
    {
     "name": "stdout",
     "output_type": "stream",
     "text": [
      "Skipping battle 2054885034 as it doesn't reach turn 6\n"
     ]
    },
    {
     "name": "stderr",
     "output_type": "stream",
     "text": [
      "Processing battles:  26%|██▋       | 3659/13816 [30:56<1:07:10,  2.52it/s]"
     ]
    },
    {
     "name": "stdout",
     "output_type": "stream",
     "text": [
      "Skipping battle 2054772043 as it doesn't reach turn 6\n"
     ]
    },
    {
     "name": "stderr",
     "output_type": "stream",
     "text": [
      "Processing battles:  27%|██▋       | 3672/13816 [31:02<1:10:03,  2.41it/s]"
     ]
    },
    {
     "name": "stdout",
     "output_type": "stream",
     "text": [
      "Skipping battle 2054471167 as it doesn't reach turn 6\n"
     ]
    },
    {
     "name": "stderr",
     "output_type": "stream",
     "text": [
      "Processing battles:  27%|██▋       | 3685/13816 [31:08<1:08:40,  2.46it/s]"
     ]
    },
    {
     "name": "stdout",
     "output_type": "stream",
     "text": [
      "Skipping battle 2054121030 as it doesn't reach turn 6\n"
     ]
    },
    {
     "name": "stderr",
     "output_type": "stream",
     "text": [
      "Processing battles:  27%|██▋       | 3704/13816 [31:16<1:07:02,  2.51it/s]"
     ]
    },
    {
     "name": "stdout",
     "output_type": "stream",
     "text": [
      "Skipping battle 2053308068 as it doesn't reach turn 6\n"
     ]
    },
    {
     "name": "stderr",
     "output_type": "stream",
     "text": [
      "Processing battles:  27%|██▋       | 3706/13816 [31:17<1:17:26,  2.18it/s]"
     ]
    },
    {
     "name": "stdout",
     "output_type": "stream",
     "text": [
      "Saved 2369 entries to pokemon_battles_dataset_1500.jsonl\n"
     ]
    },
    {
     "name": "stderr",
     "output_type": "stream",
     "text": [
      "Processing battles:  27%|██▋       | 3712/13816 [31:20<1:07:29,  2.50it/s]"
     ]
    },
    {
     "name": "stdout",
     "output_type": "stream",
     "text": [
      "Skipping battle 2053115812 as it doesn't reach turn 6\n"
     ]
    },
    {
     "name": "stderr",
     "output_type": "stream",
     "text": [
      "Processing battles:  27%|██▋       | 3732/13816 [31:29<1:10:29,  2.38it/s]"
     ]
    },
    {
     "name": "stdout",
     "output_type": "stream",
     "text": [
      "Skipping battle 2052558553 as it doesn't reach turn 6\n"
     ]
    },
    {
     "name": "stderr",
     "output_type": "stream",
     "text": [
      "Processing battles:  27%|██▋       | 3744/13816 [31:34<1:11:51,  2.34it/s]"
     ]
    },
    {
     "name": "stdout",
     "output_type": "stream",
     "text": [
      "Skipping battle 2052393645 as it doesn't reach turn 6\n"
     ]
    },
    {
     "name": "stderr",
     "output_type": "stream",
     "text": [
      "Processing battles:  27%|██▋       | 3775/13816 [31:48<1:11:33,  2.34it/s]"
     ]
    },
    {
     "name": "stdout",
     "output_type": "stream",
     "text": [
      "Skipping battle 2051639368 as it doesn't reach turn 6\n"
     ]
    },
    {
     "name": "stderr",
     "output_type": "stream",
     "text": [
      "Processing battles:  27%|██▋       | 3791/13816 [31:56<1:13:42,  2.27it/s]"
     ]
    },
    {
     "name": "stdout",
     "output_type": "stream",
     "text": [
      "Skipping battle 2051069098 as it doesn't reach turn 6\n"
     ]
    },
    {
     "name": "stderr",
     "output_type": "stream",
     "text": [
      "Processing battles:  27%|██▋       | 3794/13816 [31:57<1:08:45,  2.43it/s]"
     ]
    },
    {
     "name": "stdout",
     "output_type": "stream",
     "text": [
      "Skipping battle 2050922061 as it doesn't reach turn 6\n"
     ]
    },
    {
     "name": "stderr",
     "output_type": "stream",
     "text": [
      "Processing battles:  28%|██▊       | 3812/13816 [32:05<1:34:14,  1.77it/s]"
     ]
    },
    {
     "name": "stdout",
     "output_type": "stream",
     "text": [
      "Saved 2313 entries to pokemon_battles_dataset_1500.jsonl\n"
     ]
    },
    {
     "name": "stderr",
     "output_type": "stream",
     "text": [
      "Processing battles:  28%|██▊       | 3816/13816 [32:07<1:14:04,  2.25it/s]"
     ]
    },
    {
     "name": "stdout",
     "output_type": "stream",
     "text": [
      "Skipping battle 2050218419 as it doesn't reach turn 6\n"
     ]
    },
    {
     "name": "stderr",
     "output_type": "stream",
     "text": [
      "Processing battles:  28%|██▊       | 3820/13816 [32:09<1:13:51,  2.26it/s]"
     ]
    },
    {
     "name": "stdout",
     "output_type": "stream",
     "text": [
      "Skipping battle 2050116297 as it doesn't reach turn 6\n"
     ]
    },
    {
     "name": "stderr",
     "output_type": "stream",
     "text": [
      "Processing battles:  28%|██▊       | 3822/13816 [32:10<1:08:52,  2.42it/s]"
     ]
    },
    {
     "name": "stdout",
     "output_type": "stream",
     "text": [
      "Skipping battle 2050107211 as it doesn't reach turn 6\n"
     ]
    },
    {
     "name": "stderr",
     "output_type": "stream",
     "text": [
      "Processing battles:  28%|██▊       | 3830/13816 [32:13<1:08:39,  2.42it/s]"
     ]
    },
    {
     "name": "stdout",
     "output_type": "stream",
     "text": [
      "Skipping battle 2049990481 as it doesn't reach turn 6\n"
     ]
    },
    {
     "name": "stderr",
     "output_type": "stream",
     "text": [
      "Processing battles:  28%|██▊       | 3854/13816 [32:24<1:14:11,  2.24it/s]"
     ]
    },
    {
     "name": "stdout",
     "output_type": "stream",
     "text": [
      "Skipping battle 2049297009 as it doesn't reach turn 6\n"
     ]
    },
    {
     "name": "stderr",
     "output_type": "stream",
     "text": [
      "Processing battles:  28%|██▊       | 3860/13816 [32:27<1:12:08,  2.30it/s]"
     ]
    },
    {
     "name": "stdout",
     "output_type": "stream",
     "text": [
      "Skipping battle 2049262389 as it doesn't reach turn 6\n"
     ]
    },
    {
     "name": "stderr",
     "output_type": "stream",
     "text": [
      "Processing battles:  28%|██▊       | 3871/13816 [32:32<1:08:32,  2.42it/s]"
     ]
    },
    {
     "name": "stdout",
     "output_type": "stream",
     "text": [
      "Skipping battle 2049173558 as it doesn't reach turn 6\n"
     ]
    },
    {
     "name": "stderr",
     "output_type": "stream",
     "text": [
      "Processing battles:  28%|██▊       | 3874/13816 [32:33<1:07:34,  2.45it/s]"
     ]
    },
    {
     "name": "stdout",
     "output_type": "stream",
     "text": [
      "Skipping battle 2049108782 as it doesn't reach turn 6\n"
     ]
    },
    {
     "name": "stderr",
     "output_type": "stream",
     "text": [
      "Processing battles:  28%|██▊       | 3894/13816 [32:42<1:08:57,  2.40it/s]"
     ]
    },
    {
     "name": "stdout",
     "output_type": "stream",
     "text": [
      "Skipping battle 2048695047 as it doesn't reach turn 6\n"
     ]
    },
    {
     "name": "stderr",
     "output_type": "stream",
     "text": [
      "Processing battles:  28%|██▊       | 3906/13816 [32:47<1:09:17,  2.38it/s]"
     ]
    },
    {
     "name": "stdout",
     "output_type": "stream",
     "text": [
      "Skipping battle 2048460314 as it doesn't reach turn 6\n"
     ]
    },
    {
     "name": "stderr",
     "output_type": "stream",
     "text": [
      "Processing battles:  28%|██▊       | 3921/13816 [32:54<1:10:52,  2.33it/s]"
     ]
    },
    {
     "name": "stdout",
     "output_type": "stream",
     "text": [
      "Skipping battle 2047890991 as it doesn't reach turn 6\n"
     ]
    },
    {
     "name": "stderr",
     "output_type": "stream",
     "text": [
      "Processing battles:  28%|██▊       | 3923/13816 [32:55<1:21:54,  2.01it/s]"
     ]
    },
    {
     "name": "stdout",
     "output_type": "stream",
     "text": [
      "Saved 2242 entries to pokemon_battles_dataset_1500.jsonl\n"
     ]
    },
    {
     "name": "stderr",
     "output_type": "stream",
     "text": [
      "Processing battles:  29%|██▊       | 3942/13816 [33:04<1:12:02,  2.28it/s]"
     ]
    },
    {
     "name": "stdout",
     "output_type": "stream",
     "text": [
      "Skipping battle 2047610144 as it doesn't reach turn 6\n"
     ]
    },
    {
     "name": "stderr",
     "output_type": "stream",
     "text": [
      "Processing battles:  29%|██▊       | 3944/13816 [33:05<1:07:03,  2.45it/s]"
     ]
    },
    {
     "name": "stdout",
     "output_type": "stream",
     "text": [
      "Skipping battle 2047602080 as it doesn't reach turn 6\n"
     ]
    },
    {
     "name": "stderr",
     "output_type": "stream",
     "text": [
      "Processing battles:  29%|██▉       | 3986/13816 [33:24<1:15:06,  2.18it/s]"
     ]
    },
    {
     "name": "stdout",
     "output_type": "stream",
     "text": [
      "Skipping battle 2046945290 as it doesn't reach turn 6\n"
     ]
    },
    {
     "name": "stderr",
     "output_type": "stream",
     "text": [
      "Processing battles:  29%|██▉       | 3994/13816 [33:27<1:07:34,  2.42it/s]"
     ]
    },
    {
     "name": "stdout",
     "output_type": "stream",
     "text": [
      "Skipping battle 2046820411 as it doesn't reach turn 6\n"
     ]
    },
    {
     "name": "stderr",
     "output_type": "stream",
     "text": [
      "Processing battles:  29%|██▉       | 3999/13816 [33:30<1:12:59,  2.24it/s]"
     ]
    },
    {
     "name": "stdout",
     "output_type": "stream",
     "text": [
      "Skipping battle 2046775515 as it doesn't reach turn 6\n"
     ]
    },
    {
     "name": "stderr",
     "output_type": "stream",
     "text": [
      "Processing battles:  29%|██▉       | 4008/13816 [33:34<1:13:02,  2.24it/s]"
     ]
    },
    {
     "name": "stdout",
     "output_type": "stream",
     "text": [
      "Skipping battle 2046387427 as it doesn't reach turn 6\n"
     ]
    },
    {
     "name": "stderr",
     "output_type": "stream",
     "text": [
      "Processing battles:  29%|██▉       | 4015/13816 [33:37<1:07:15,  2.43it/s]"
     ]
    },
    {
     "name": "stdout",
     "output_type": "stream",
     "text": [
      "Skipping battle 2046072025 as it doesn't reach turn 6\n"
     ]
    },
    {
     "name": "stderr",
     "output_type": "stream",
     "text": [
      "Processing battles:  29%|██▉       | 4030/13816 [33:44<1:26:38,  1.88it/s]"
     ]
    },
    {
     "name": "stdout",
     "output_type": "stream",
     "text": [
      "Saved 2302 entries to pokemon_battles_dataset_1500.jsonl\n"
     ]
    },
    {
     "name": "stderr",
     "output_type": "stream",
     "text": [
      "Processing battles:  30%|██▉       | 4080/13816 [34:06<1:06:43,  2.43it/s]"
     ]
    },
    {
     "name": "stdout",
     "output_type": "stream",
     "text": [
      "Skipping battle 2044556448 as it doesn't reach turn 6\n"
     ]
    },
    {
     "name": "stderr",
     "output_type": "stream",
     "text": [
      "Processing battles:  30%|██▉       | 4092/13816 [34:11<1:07:57,  2.38it/s]"
     ]
    },
    {
     "name": "stdout",
     "output_type": "stream",
     "text": [
      "Skipping battle 2044270447 as it doesn't reach turn 6\n"
     ]
    },
    {
     "name": "stderr",
     "output_type": "stream",
     "text": [
      "Processing battles:  30%|██▉       | 4099/13816 [34:14<1:06:32,  2.43it/s]"
     ]
    },
    {
     "name": "stdout",
     "output_type": "stream",
     "text": [
      "Skipping battle 2044080368 as it doesn't reach turn 6\n"
     ]
    },
    {
     "name": "stderr",
     "output_type": "stream",
     "text": [
      "Processing battles:  30%|██▉       | 4133/13816 [34:29<1:30:22,  1.79it/s]"
     ]
    },
    {
     "name": "stdout",
     "output_type": "stream",
     "text": [
      "Saved 2092 entries to pokemon_battles_dataset_1500.jsonl\n"
     ]
    },
    {
     "name": "stderr",
     "output_type": "stream",
     "text": [
      "Processing battles:  30%|██▉       | 4143/13816 [34:33<1:05:04,  2.48it/s]"
     ]
    },
    {
     "name": "stdout",
     "output_type": "stream",
     "text": [
      "Skipping battle 2043270621 as it doesn't reach turn 6\n"
     ]
    },
    {
     "name": "stderr",
     "output_type": "stream",
     "text": [
      "Processing battles:  30%|███       | 4160/13816 [34:41<1:09:18,  2.32it/s]"
     ]
    },
    {
     "name": "stdout",
     "output_type": "stream",
     "text": [
      "Skipping battle 2043077279 as it doesn't reach turn 6\n"
     ]
    },
    {
     "name": "stderr",
     "output_type": "stream",
     "text": [
      "Processing battles:  30%|███       | 4205/13816 [35:01<1:05:05,  2.46it/s]"
     ]
    },
    {
     "name": "stdout",
     "output_type": "stream",
     "text": [
      "Skipping battle 2042143215 as it doesn't reach turn 6\n"
     ]
    },
    {
     "name": "stderr",
     "output_type": "stream",
     "text": [
      "Processing battles:  31%|███       | 4236/13816 [35:16<1:30:28,  1.76it/s]"
     ]
    },
    {
     "name": "stdout",
     "output_type": "stream",
     "text": [
      "Saved 2120 entries to pokemon_battles_dataset_1500.jsonl\n"
     ]
    },
    {
     "name": "stderr",
     "output_type": "stream",
     "text": [
      "Processing battles:  31%|███       | 4244/13816 [35:20<1:13:33,  2.17it/s]"
     ]
    },
    {
     "name": "stdout",
     "output_type": "stream",
     "text": [
      "Skipping battle 2041180051 as it doesn't reach turn 6\n"
     ]
    },
    {
     "name": "stderr",
     "output_type": "stream",
     "text": [
      "Processing battles:  31%|███       | 4246/13816 [35:20<1:07:02,  2.38it/s]"
     ]
    },
    {
     "name": "stdout",
     "output_type": "stream",
     "text": [
      "Skipping battle 2041167946 as it doesn't reach turn 6\n"
     ]
    },
    {
     "name": "stderr",
     "output_type": "stream",
     "text": [
      "Processing battles:  31%|███       | 4248/13816 [35:21<1:09:47,  2.28it/s]"
     ]
    },
    {
     "name": "stdout",
     "output_type": "stream",
     "text": [
      "Skipping battle 2041125884 as it doesn't reach turn 6\n"
     ]
    },
    {
     "name": "stderr",
     "output_type": "stream",
     "text": [
      "Processing battles:  31%|███       | 4264/13816 [35:29<1:09:22,  2.30it/s]"
     ]
    },
    {
     "name": "stdout",
     "output_type": "stream",
     "text": [
      "Skipping battle 2040552036 as it doesn't reach turn 6\n"
     ]
    },
    {
     "name": "stderr",
     "output_type": "stream",
     "text": [
      "Processing battles:  31%|███▏      | 4324/13816 [35:56<1:07:51,  2.33it/s]"
     ]
    },
    {
     "name": "stdout",
     "output_type": "stream",
     "text": [
      "Skipping battle 2038978698 as it doesn't reach turn 6\n"
     ]
    },
    {
     "name": "stderr",
     "output_type": "stream",
     "text": [
      "Processing battles:  31%|███▏      | 4333/13816 [36:00<1:06:54,  2.36it/s]"
     ]
    },
    {
     "name": "stdout",
     "output_type": "stream",
     "text": [
      "Skipping battle 2038671695 as it doesn't reach turn 6\n"
     ]
    },
    {
     "name": "stderr",
     "output_type": "stream",
     "text": [
      "Processing battles:  31%|███▏      | 4342/13816 [36:04<1:23:48,  1.88it/s]"
     ]
    },
    {
     "name": "stdout",
     "output_type": "stream",
     "text": [
      "Saved 2485 entries to pokemon_battles_dataset_1500.jsonl\n"
     ]
    },
    {
     "name": "stderr",
     "output_type": "stream",
     "text": [
      "Processing battles:  32%|███▏      | 4357/13816 [36:11<1:06:57,  2.35it/s]"
     ]
    },
    {
     "name": "stdout",
     "output_type": "stream",
     "text": [
      "Skipping battle 2038095445 as it doesn't reach turn 6\n"
     ]
    },
    {
     "name": "stderr",
     "output_type": "stream",
     "text": [
      "Processing battles:  32%|███▏      | 4386/13816 [36:24<1:04:58,  2.42it/s]"
     ]
    },
    {
     "name": "stdout",
     "output_type": "stream",
     "text": [
      "Skipping battle 2037588494 as it doesn't reach turn 6\n"
     ]
    },
    {
     "name": "stderr",
     "output_type": "stream",
     "text": [
      "Processing battles:  32%|███▏      | 4408/13816 [36:34<1:08:00,  2.31it/s]"
     ]
    },
    {
     "name": "stdout",
     "output_type": "stream",
     "text": [
      "Skipping battle 2037142221 as it doesn't reach turn 6\n"
     ]
    },
    {
     "name": "stderr",
     "output_type": "stream",
     "text": [
      "Processing battles:  32%|███▏      | 4445/13816 [36:51<1:20:28,  1.94it/s]"
     ]
    },
    {
     "name": "stdout",
     "output_type": "stream",
     "text": [
      "Saved 2343 entries to pokemon_battles_dataset_1500.jsonl\n"
     ]
    },
    {
     "name": "stderr",
     "output_type": "stream",
     "text": [
      "Processing battles:  32%|███▏      | 4449/13816 [36:53<1:09:07,  2.26it/s]"
     ]
    },
    {
     "name": "stdout",
     "output_type": "stream",
     "text": [
      "Skipping battle 2036245528 as it doesn't reach turn 6\n"
     ]
    },
    {
     "name": "stderr",
     "output_type": "stream",
     "text": [
      "Processing battles:  32%|███▏      | 4472/13816 [37:04<1:06:23,  2.35it/s]"
     ]
    },
    {
     "name": "stdout",
     "output_type": "stream",
     "text": [
      "Skipping battle 2035762841 as it doesn't reach turn 6\n"
     ]
    },
    {
     "name": "stderr",
     "output_type": "stream",
     "text": [
      "Processing battles:  32%|███▏      | 4473/13816 [37:04<1:01:35,  2.53it/s]"
     ]
    },
    {
     "name": "stdout",
     "output_type": "stream",
     "text": [
      "Skipping battle 2035721050 as it doesn't reach turn 6\n"
     ]
    },
    {
     "name": "stderr",
     "output_type": "stream",
     "text": [
      "Processing battles:  32%|███▏      | 4479/13816 [37:07<1:09:28,  2.24it/s]"
     ]
    },
    {
     "name": "stdout",
     "output_type": "stream",
     "text": [
      "Skipping battle 2035613591 as it doesn't reach turn 6\n"
     ]
    },
    {
     "name": "stderr",
     "output_type": "stream",
     "text": [
      "Processing battles:  33%|███▎      | 4492/13816 [37:14<1:15:43,  2.05it/s]"
     ]
    },
    {
     "name": "stdout",
     "output_type": "stream",
     "text": [
      "Skipping battle 2035570556 as it doesn't reach turn 6\n"
     ]
    },
    {
     "name": "stderr",
     "output_type": "stream",
     "text": [
      "Processing battles:  33%|███▎      | 4496/13816 [37:16<1:11:21,  2.18it/s]"
     ]
    },
    {
     "name": "stdout",
     "output_type": "stream",
     "text": [
      "Skipping battle 2035532305 as it doesn't reach turn 6\n"
     ]
    },
    {
     "name": "stderr",
     "output_type": "stream",
     "text": [
      "Processing battles:  33%|███▎      | 4506/13816 [37:21<1:10:41,  2.19it/s]"
     ]
    },
    {
     "name": "stdout",
     "output_type": "stream",
     "text": [
      "Skipping battle 2035287717 as it doesn't reach turn 6\n"
     ]
    },
    {
     "name": "stderr",
     "output_type": "stream",
     "text": [
      "Processing battles:  33%|███▎      | 4552/13816 [37:43<1:26:04,  1.79it/s]"
     ]
    },
    {
     "name": "stdout",
     "output_type": "stream",
     "text": [
      "Saved 2498 entries to pokemon_battles_dataset_1500.jsonl\n"
     ]
    },
    {
     "name": "stderr",
     "output_type": "stream",
     "text": [
      "Processing battles:  33%|███▎      | 4616/13816 [38:13<1:06:38,  2.30it/s]"
     ]
    },
    {
     "name": "stdout",
     "output_type": "stream",
     "text": [
      "Skipping battle 2033630957 as it doesn't reach turn 6\n"
     ]
    },
    {
     "name": "stderr",
     "output_type": "stream",
     "text": [
      "Processing battles:  34%|███▎      | 4647/13816 [38:27<1:03:37,  2.40it/s]"
     ]
    },
    {
     "name": "stdout",
     "output_type": "stream",
     "text": [
      "Skipping battle 2032670990 as it doesn't reach turn 6\n"
     ]
    },
    {
     "name": "stderr",
     "output_type": "stream",
     "text": [
      "Processing battles:  34%|███▎      | 4652/13816 [38:29<1:01:23,  2.49it/s]"
     ]
    },
    {
     "name": "stdout",
     "output_type": "stream",
     "text": [
      "Skipping battle 2032588897 as it doesn't reach turn 6\n"
     ]
    },
    {
     "name": "stderr",
     "output_type": "stream",
     "text": [
      "Processing battles:  34%|███▎      | 4655/13816 [38:31<1:00:28,  2.52it/s]"
     ]
    },
    {
     "name": "stdout",
     "output_type": "stream",
     "text": [
      "Skipping battle 2032452580 as it doesn't reach turn 6\n"
     ]
    },
    {
     "name": "stderr",
     "output_type": "stream",
     "text": [
      "Processing battles:  34%|███▎      | 4656/13816 [38:31<1:14:06,  2.06it/s]"
     ]
    },
    {
     "name": "stdout",
     "output_type": "stream",
     "text": [
      "Saved 2306 entries to pokemon_battles_dataset_1500.jsonl\n"
     ]
    },
    {
     "name": "stderr",
     "output_type": "stream",
     "text": [
      "Processing battles:  34%|███▍      | 4696/13816 [38:52<1:13:54,  2.06it/s]"
     ]
    },
    {
     "name": "stdout",
     "output_type": "stream",
     "text": [
      "Skipping battle 2031245930 as it doesn't reach turn 6\n"
     ]
    },
    {
     "name": "stderr",
     "output_type": "stream",
     "text": [
      "Processing battles:  34%|███▍      | 4702/13816 [38:55<1:04:35,  2.35it/s]"
     ]
    },
    {
     "name": "stdout",
     "output_type": "stream",
     "text": [
      "Skipping battle 2031051726 as it doesn't reach turn 6\n"
     ]
    },
    {
     "name": "stderr",
     "output_type": "stream",
     "text": [
      "Processing battles:  34%|███▍      | 4704/13816 [38:56<1:01:59,  2.45it/s]"
     ]
    },
    {
     "name": "stdout",
     "output_type": "stream",
     "text": [
      "Skipping battle 2031019748 as it doesn't reach turn 6\n"
     ]
    },
    {
     "name": "stderr",
     "output_type": "stream",
     "text": [
      "Processing battles:  34%|███▍      | 4759/13816 [39:22<1:18:01,  1.93it/s]"
     ]
    },
    {
     "name": "stdout",
     "output_type": "stream",
     "text": [
      "Saved 2579 entries to pokemon_battles_dataset_1500.jsonl\n"
     ]
    },
    {
     "name": "stderr",
     "output_type": "stream",
     "text": [
      "Processing battles:  35%|███▍      | 4783/13816 [39:33<1:01:32,  2.45it/s]"
     ]
    },
    {
     "name": "stdout",
     "output_type": "stream",
     "text": [
      "Skipping battle 2028529065 as it doesn't reach turn 6\n"
     ]
    },
    {
     "name": "stderr",
     "output_type": "stream",
     "text": [
      "Processing battles:  35%|███▍      | 4797/13816 [39:39<1:10:46,  2.12it/s]"
     ]
    },
    {
     "name": "stdout",
     "output_type": "stream",
     "text": [
      "Skipping battle 2028171833 as it doesn't reach turn 6\n"
     ]
    },
    {
     "name": "stderr",
     "output_type": "stream",
     "text": [
      "Processing battles:  35%|███▍      | 4827/13816 [39:53<1:02:31,  2.40it/s]"
     ]
    },
    {
     "name": "stdout",
     "output_type": "stream",
     "text": [
      "Skipping battle 2027697685 as it doesn't reach turn 6\n"
     ]
    },
    {
     "name": "stderr",
     "output_type": "stream",
     "text": [
      "Processing battles:  35%|███▌      | 4862/13816 [40:12<1:19:08,  1.89it/s]"
     ]
    },
    {
     "name": "stdout",
     "output_type": "stream",
     "text": [
      "Saved 2337 entries to pokemon_battles_dataset_1500.jsonl\n"
     ]
    },
    {
     "name": "stderr",
     "output_type": "stream",
     "text": [
      "Processing battles:  35%|███▌      | 4884/13816 [40:22<1:03:27,  2.35it/s]"
     ]
    },
    {
     "name": "stdout",
     "output_type": "stream",
     "text": [
      "Skipping battle 2026383280 as it doesn't reach turn 6\n"
     ]
    },
    {
     "name": "stderr",
     "output_type": "stream",
     "text": [
      "Processing battles:  35%|███▌      | 4900/13816 [40:29<1:06:23,  2.24it/s]"
     ]
    },
    {
     "name": "stdout",
     "output_type": "stream",
     "text": [
      "Skipping battle 2025923019 as it doesn't reach turn 6\n"
     ]
    },
    {
     "name": "stderr",
     "output_type": "stream",
     "text": [
      "Processing battles:  36%|███▌      | 4932/13816 [40:46<1:22:31,  1.79it/s]"
     ]
    },
    {
     "name": "stdout",
     "output_type": "stream",
     "text": [
      "Skipping battle 2025115610 as it doesn't reach turn 6\n"
     ]
    },
    {
     "name": "stderr",
     "output_type": "stream",
     "text": [
      "Processing battles:  36%|███▌      | 4955/13816 [41:01<1:20:50,  1.83it/s]"
     ]
    },
    {
     "name": "stdout",
     "output_type": "stream",
     "text": [
      "Skipping battle 2024753266 as it doesn't reach turn 6\n"
     ]
    },
    {
     "name": "stderr",
     "output_type": "stream",
     "text": [
      "Processing battles:  36%|███▌      | 4966/13816 [41:15<3:30:54,  1.43s/it]"
     ]
    },
    {
     "name": "stdout",
     "output_type": "stream",
     "text": [
      "Saved 2392 entries to pokemon_battles_dataset_1500.jsonl\n"
     ]
    },
    {
     "name": "stderr",
     "output_type": "stream",
     "text": [
      "Processing battles:  36%|███▌      | 4988/13816 [41:35<2:09:19,  1.14it/s]"
     ]
    },
    {
     "name": "stdout",
     "output_type": "stream",
     "text": [
      "Skipping battle 2024187515 as it doesn't reach turn 6\n"
     ]
    },
    {
     "name": "stderr",
     "output_type": "stream",
     "text": [
      "Processing battles:  36%|███▌      | 4994/13816 [41:39<1:55:26,  1.27it/s]"
     ]
    },
    {
     "name": "stdout",
     "output_type": "stream",
     "text": [
      "Skipping battle 2024146715 as it doesn't reach turn 6\n"
     ]
    },
    {
     "name": "stderr",
     "output_type": "stream",
     "text": [
      "Processing battles:  36%|███▌      | 4996/13816 [41:41<2:06:48,  1.16it/s]"
     ]
    },
    {
     "name": "stdout",
     "output_type": "stream",
     "text": [
      "Skipping battle 2024132887 as it doesn't reach turn 6\n"
     ]
    },
    {
     "name": "stderr",
     "output_type": "stream",
     "text": [
      "Processing battles:  36%|███▋      | 5016/13816 [41:57<1:40:35,  1.46it/s]"
     ]
    },
    {
     "name": "stdout",
     "output_type": "stream",
     "text": [
      "Skipping battle 2023829501 as it doesn't reach turn 6\n"
     ]
    },
    {
     "name": "stderr",
     "output_type": "stream",
     "text": [
      "Processing battles:  36%|███▋      | 5035/13816 [42:12<2:06:23,  1.16it/s]"
     ]
    },
    {
     "name": "stdout",
     "output_type": "stream",
     "text": [
      "Skipping battle 2023128738 due to invalid JSON response\n"
     ]
    },
    {
     "name": "stderr",
     "output_type": "stream",
     "text": [
      "Processing battles:  37%|███▋      | 5071/13816 [42:58<2:37:13,  1.08s/it]"
     ]
    },
    {
     "name": "stdout",
     "output_type": "stream",
     "text": [
      "Saved 2670 entries to pokemon_battles_dataset_1500.jsonl\n"
     ]
    },
    {
     "name": "stderr",
     "output_type": "stream",
     "text": [
      "Processing battles:  37%|███▋      | 5150/13816 [43:50<1:02:03,  2.33it/s]"
     ]
    },
    {
     "name": "stdout",
     "output_type": "stream",
     "text": [
      "Skipping battle 2019386471 as it doesn't reach turn 6\n"
     ]
    },
    {
     "name": "stderr",
     "output_type": "stream",
     "text": [
      "Processing battles:  37%|███▋      | 5170/13816 [44:00<1:07:03,  2.15it/s]"
     ]
    },
    {
     "name": "stdout",
     "output_type": "stream",
     "text": [
      "Skipping battle 2018716162 as it doesn't reach turn 6\n"
     ]
    },
    {
     "name": "stderr",
     "output_type": "stream",
     "text": [
      "Processing battles:  37%|███▋      | 5173/13816 [44:01<1:12:57,  1.97it/s]"
     ]
    },
    {
     "name": "stdout",
     "output_type": "stream",
     "text": [
      "Saved 2765 entries to pokemon_battles_dataset_1500.jsonl\n"
     ]
    },
    {
     "name": "stderr",
     "output_type": "stream",
     "text": [
      "Processing battles:  37%|███▋      | 5176/13816 [44:02<1:03:11,  2.28it/s]"
     ]
    },
    {
     "name": "stdout",
     "output_type": "stream",
     "text": [
      "Skipping battle 2018635995 as it doesn't reach turn 6\n"
     ]
    },
    {
     "name": "stderr",
     "output_type": "stream",
     "text": [
      "Processing battles:  38%|███▊      | 5183/13816 [44:05<58:36,  2.45it/s]  "
     ]
    },
    {
     "name": "stdout",
     "output_type": "stream",
     "text": [
      "Skipping battle 2018495891 as it doesn't reach turn 6\n"
     ]
    },
    {
     "name": "stderr",
     "output_type": "stream",
     "text": [
      "Processing battles:  38%|███▊      | 5195/13816 [44:11<1:01:45,  2.33it/s]"
     ]
    },
    {
     "name": "stdout",
     "output_type": "stream",
     "text": [
      "Skipping battle 2018113896 as it doesn't reach turn 6\n"
     ]
    },
    {
     "name": "stderr",
     "output_type": "stream",
     "text": [
      "Processing battles:  38%|███▊      | 5222/13816 [44:24<1:06:54,  2.14it/s]"
     ]
    },
    {
     "name": "stdout",
     "output_type": "stream",
     "text": [
      "Skipping battle 2017288328 as it doesn't reach turn 6\n"
     ]
    },
    {
     "name": "stderr",
     "output_type": "stream",
     "text": [
      "Processing battles:  38%|███▊      | 5263/13816 [44:44<1:00:53,  2.34it/s]"
     ]
    },
    {
     "name": "stdout",
     "output_type": "stream",
     "text": [
      "Skipping battle 2015969041 as it doesn't reach turn 6\n"
     ]
    },
    {
     "name": "stderr",
     "output_type": "stream",
     "text": [
      "Processing battles:  38%|███▊      | 5278/13816 [44:51<1:11:11,  2.00it/s]"
     ]
    },
    {
     "name": "stdout",
     "output_type": "stream",
     "text": [
      "Saved 2610 entries to pokemon_battles_dataset_1500.jsonl\n"
     ]
    },
    {
     "name": "stderr",
     "output_type": "stream",
     "text": [
      "Processing battles:  38%|███▊      | 5305/13816 [45:03<1:00:54,  2.33it/s]"
     ]
    },
    {
     "name": "stdout",
     "output_type": "stream",
     "text": [
      "Skipping battle 2014592261 as it doesn't reach turn 6\n"
     ]
    },
    {
     "name": "stderr",
     "output_type": "stream",
     "text": [
      "Processing battles:  38%|███▊      | 5314/13816 [45:07<55:14,  2.56it/s]  "
     ]
    },
    {
     "name": "stdout",
     "output_type": "stream",
     "text": [
      "Skipping battle 2014342989 as it doesn't reach turn 6\n"
     ]
    },
    {
     "name": "stderr",
     "output_type": "stream",
     "text": [
      "Processing battles:  39%|███▊      | 5338/13816 [45:18<1:01:21,  2.30it/s]"
     ]
    },
    {
     "name": "stdout",
     "output_type": "stream",
     "text": [
      "Skipping battle 2013477332 as it doesn't reach turn 6\n"
     ]
    },
    {
     "name": "stderr",
     "output_type": "stream",
     "text": [
      "Processing battles:  39%|███▉      | 5381/13816 [45:37<1:13:57,  1.90it/s]"
     ]
    },
    {
     "name": "stdout",
     "output_type": "stream",
     "text": [
      "Saved 2407 entries to pokemon_battles_dataset_1500.jsonl\n"
     ]
    },
    {
     "name": "stderr",
     "output_type": "stream",
     "text": [
      "Processing battles:  39%|███▉      | 5387/13816 [45:40<58:32,  2.40it/s]  "
     ]
    },
    {
     "name": "stdout",
     "output_type": "stream",
     "text": [
      "Skipping battle 2012003633 as it doesn't reach turn 6\n"
     ]
    },
    {
     "name": "stderr",
     "output_type": "stream",
     "text": [
      "Processing battles:  39%|███▉      | 5416/13816 [45:53<56:31,  2.48it/s]  "
     ]
    },
    {
     "name": "stdout",
     "output_type": "stream",
     "text": [
      "Skipping battle 2011520909 as it doesn't reach turn 6\n"
     ]
    },
    {
     "name": "stderr",
     "output_type": "stream",
     "text": [
      "Processing battles:  39%|███▉      | 5438/13816 [46:03<1:00:30,  2.31it/s]"
     ]
    },
    {
     "name": "stdout",
     "output_type": "stream",
     "text": [
      "Skipping battle 2011067862 as it doesn't reach turn 6\n"
     ]
    },
    {
     "name": "stderr",
     "output_type": "stream",
     "text": [
      "Processing battles:  39%|███▉      | 5448/13816 [46:08<1:00:49,  2.29it/s]"
     ]
    },
    {
     "name": "stdout",
     "output_type": "stream",
     "text": [
      "Skipping battle 2010879602 as it doesn't reach turn 6\n"
     ]
    },
    {
     "name": "stderr",
     "output_type": "stream",
     "text": [
      "Processing battles:  40%|███▉      | 5459/13816 [46:12<58:30,  2.38it/s]  "
     ]
    },
    {
     "name": "stdout",
     "output_type": "stream",
     "text": [
      "Skipping battle 2010796889 as it doesn't reach turn 6\n"
     ]
    },
    {
     "name": "stderr",
     "output_type": "stream",
     "text": [
      "Processing battles:  40%|███▉      | 5486/13816 [46:25<1:17:15,  1.80it/s]"
     ]
    },
    {
     "name": "stdout",
     "output_type": "stream",
     "text": [
      "Saved 2281 entries to pokemon_battles_dataset_1500.jsonl\n"
     ]
    },
    {
     "name": "stderr",
     "output_type": "stream",
     "text": [
      "Processing battles:  40%|███▉      | 5491/13816 [46:27<1:05:40,  2.11it/s]"
     ]
    },
    {
     "name": "stdout",
     "output_type": "stream",
     "text": [
      "Skipping battle 2010287257 as it doesn't reach turn 6\n"
     ]
    },
    {
     "name": "stderr",
     "output_type": "stream",
     "text": [
      "Processing battles:  40%|███▉      | 5505/13816 [46:33<55:32,  2.49it/s]  "
     ]
    },
    {
     "name": "stdout",
     "output_type": "stream",
     "text": [
      "Skipping battle 2010129342 as it doesn't reach turn 6\n"
     ]
    },
    {
     "name": "stderr",
     "output_type": "stream",
     "text": [
      "Processing battles:  40%|███▉      | 5509/13816 [46:35<55:56,  2.48it/s]  "
     ]
    },
    {
     "name": "stdout",
     "output_type": "stream",
     "text": [
      "Skipping battle 2010008786 as it doesn't reach turn 6\n"
     ]
    },
    {
     "name": "stderr",
     "output_type": "stream",
     "text": [
      "Processing battles:  40%|████      | 5540/13816 [46:49<59:19,  2.32it/s]  "
     ]
    },
    {
     "name": "stdout",
     "output_type": "stream",
     "text": [
      "Skipping battle 2009426725 as it doesn't reach turn 6\n"
     ]
    },
    {
     "name": "stderr",
     "output_type": "stream",
     "text": [
      "Processing battles:  40%|████      | 5550/13816 [46:54<57:24,  2.40it/s]  "
     ]
    },
    {
     "name": "stdout",
     "output_type": "stream",
     "text": [
      "Skipping battle 2008888065 as it doesn't reach turn 6\n"
     ]
    },
    {
     "name": "stderr",
     "output_type": "stream",
     "text": [
      "Processing battles:  40%|████      | 5560/13816 [46:58<57:56,  2.38it/s]  "
     ]
    },
    {
     "name": "stdout",
     "output_type": "stream",
     "text": [
      "Skipping battle 2008749879 as it doesn't reach turn 6\n"
     ]
    },
    {
     "name": "stderr",
     "output_type": "stream",
     "text": [
      "Processing battles:  40%|████      | 5574/13816 [47:05<59:41,  2.30it/s]  "
     ]
    },
    {
     "name": "stdout",
     "output_type": "stream",
     "text": [
      "Skipping battle 2008488985 as it doesn't reach turn 6\n"
     ]
    },
    {
     "name": "stderr",
     "output_type": "stream",
     "text": [
      "Processing battles:  40%|████      | 5593/13816 [47:14<1:13:51,  1.86it/s]"
     ]
    },
    {
     "name": "stdout",
     "output_type": "stream",
     "text": [
      "Saved 2506 entries to pokemon_battles_dataset_1500.jsonl\n"
     ]
    },
    {
     "name": "stderr",
     "output_type": "stream",
     "text": [
      "Processing battles:  41%|████      | 5655/13816 [47:42<57:53,  2.35it/s]  "
     ]
    },
    {
     "name": "stdout",
     "output_type": "stream",
     "text": [
      "Skipping battle 2006471397 as it doesn't reach turn 6\n"
     ]
    },
    {
     "name": "stderr",
     "output_type": "stream",
     "text": [
      "Processing battles:  41%|████      | 5660/13816 [47:44<55:18,  2.46it/s]  "
     ]
    },
    {
     "name": "stdout",
     "output_type": "stream",
     "text": [
      "Skipping battle 2006338977 as it doesn't reach turn 6\n"
     ]
    },
    {
     "name": "stderr",
     "output_type": "stream",
     "text": [
      "Processing battles:  41%|████      | 5673/13816 [47:50<1:00:08,  2.26it/s]"
     ]
    },
    {
     "name": "stdout",
     "output_type": "stream",
     "text": [
      "Skipping battle 2006103166 as it doesn't reach turn 6\n"
     ]
    },
    {
     "name": "stderr",
     "output_type": "stream",
     "text": [
      "Processing battles:  41%|████      | 5681/13816 [47:54<57:54,  2.34it/s]  "
     ]
    },
    {
     "name": "stdout",
     "output_type": "stream",
     "text": [
      "Skipping battle 2006046655 as it doesn't reach turn 6\n"
     ]
    },
    {
     "name": "stderr",
     "output_type": "stream",
     "text": [
      "Processing battles:  41%|████      | 5685/13816 [47:56<57:27,  2.36it/s]  "
     ]
    },
    {
     "name": "stdout",
     "output_type": "stream",
     "text": [
      "Skipping battle 2005994574 as it doesn't reach turn 6\n"
     ]
    },
    {
     "name": "stderr",
     "output_type": "stream",
     "text": [
      "Processing battles:  41%|████      | 5689/13816 [47:57<57:31,  2.35it/s]  "
     ]
    },
    {
     "name": "stdout",
     "output_type": "stream",
     "text": [
      "Skipping battle 2005928612 as it doesn't reach turn 6\n"
     ]
    },
    {
     "name": "stderr",
     "output_type": "stream",
     "text": [
      "Processing battles:  41%|████      | 5697/13816 [48:01<1:03:30,  2.13it/s]"
     ]
    },
    {
     "name": "stdout",
     "output_type": "stream",
     "text": [
      "Skipping battle 2005602027 as it doesn't reach turn 6\n"
     ]
    },
    {
     "name": "stderr",
     "output_type": "stream",
     "text": [
      "Processing battles:  41%|████▏     | 5700/13816 [48:03<1:14:29,  1.82it/s]"
     ]
    },
    {
     "name": "stdout",
     "output_type": "stream",
     "text": [
      "Saved 2359 entries to pokemon_battles_dataset_1500.jsonl\n"
     ]
    },
    {
     "name": "stderr",
     "output_type": "stream",
     "text": [
      "Processing battles:  41%|████▏     | 5707/13816 [48:06<1:00:13,  2.24it/s]"
     ]
    },
    {
     "name": "stdout",
     "output_type": "stream",
     "text": [
      "Skipping battle 2005389024 as it doesn't reach turn 6\n"
     ]
    },
    {
     "name": "stderr",
     "output_type": "stream",
     "text": [
      "Processing battles:  41%|████▏     | 5710/13816 [48:08<57:21,  2.36it/s]  "
     ]
    },
    {
     "name": "stdout",
     "output_type": "stream",
     "text": [
      "Skipping battle 2005343759 as it doesn't reach turn 6\n"
     ]
    },
    {
     "name": "stderr",
     "output_type": "stream",
     "text": [
      "Processing battles:  42%|████▏     | 5742/13816 [48:23<1:02:12,  2.16it/s]"
     ]
    },
    {
     "name": "stdout",
     "output_type": "stream",
     "text": [
      "Skipping battle 2004185307 as it doesn't reach turn 6\n"
     ]
    },
    {
     "name": "stderr",
     "output_type": "stream",
     "text": [
      "Processing battles:  42%|████▏     | 5787/13816 [48:44<58:45,  2.28it/s]  "
     ]
    },
    {
     "name": "stdout",
     "output_type": "stream",
     "text": [
      "Skipping battle 2003282572 as it doesn't reach turn 6\n"
     ]
    },
    {
     "name": "stderr",
     "output_type": "stream",
     "text": [
      "Processing battles:  42%|████▏     | 5791/13816 [48:46<54:45,  2.44it/s]  "
     ]
    },
    {
     "name": "stdout",
     "output_type": "stream",
     "text": [
      "Skipping battle 2003281161 as it doesn't reach turn 6\n"
     ]
    },
    {
     "name": "stderr",
     "output_type": "stream",
     "text": [
      "Processing battles:  42%|████▏     | 5795/13816 [48:48<55:29,  2.41it/s]  "
     ]
    },
    {
     "name": "stdout",
     "output_type": "stream",
     "text": [
      "Skipping battle 2003275485 as it doesn't reach turn 6\n"
     ]
    },
    {
     "name": "stderr",
     "output_type": "stream",
     "text": [
      "Processing battles:  42%|████▏     | 5802/13816 [48:51<56:14,  2.37it/s]"
     ]
    },
    {
     "name": "stdout",
     "output_type": "stream",
     "text": [
      "Skipping battle 2003273344 as it doesn't reach turn 6\n"
     ]
    },
    {
     "name": "stderr",
     "output_type": "stream",
     "text": [
      "Processing battles:  42%|████▏     | 5807/13816 [48:53<1:07:59,  1.96it/s]"
     ]
    },
    {
     "name": "stdout",
     "output_type": "stream",
     "text": [
      "Saved 2557 entries to pokemon_battles_dataset_1500.jsonl\n"
     ]
    },
    {
     "name": "stderr",
     "output_type": "stream",
     "text": [
      "Processing battles:  42%|████▏     | 5818/13816 [48:58<1:00:16,  2.21it/s]"
     ]
    },
    {
     "name": "stdout",
     "output_type": "stream",
     "text": [
      "Skipping battle 2003269890 as it doesn't reach turn 6\n"
     ]
    },
    {
     "name": "stderr",
     "output_type": "stream",
     "text": [
      "Processing battles:  42%|████▏     | 5835/13816 [49:06<58:00,  2.29it/s]  "
     ]
    },
    {
     "name": "stdout",
     "output_type": "stream",
     "text": [
      "Skipping battle 2003266436 as it doesn't reach turn 6\n"
     ]
    },
    {
     "name": "stderr",
     "output_type": "stream",
     "text": [
      "Processing battles:  42%|████▏     | 5836/13816 [49:06<53:26,  2.49it/s]"
     ]
    },
    {
     "name": "stdout",
     "output_type": "stream",
     "text": [
      "Skipping battle 2003265077 as it doesn't reach turn 6\n"
     ]
    },
    {
     "name": "stderr",
     "output_type": "stream",
     "text": [
      "Processing battles:  42%|████▏     | 5841/13816 [49:09<55:24,  2.40it/s]  "
     ]
    },
    {
     "name": "stdout",
     "output_type": "stream",
     "text": [
      "Skipping battle 2003266204 as it doesn't reach turn 6\n"
     ]
    },
    {
     "name": "stderr",
     "output_type": "stream",
     "text": [
      "Processing battles:  42%|████▏     | 5848/13816 [49:12<55:29,  2.39it/s]"
     ]
    },
    {
     "name": "stdout",
     "output_type": "stream",
     "text": [
      "Skipping battle 2003264396 as it doesn't reach turn 6\n"
     ]
    },
    {
     "name": "stderr",
     "output_type": "stream",
     "text": [
      "Processing battles:  42%|████▏     | 5859/13816 [49:17<54:05,  2.45it/s]  "
     ]
    },
    {
     "name": "stdout",
     "output_type": "stream",
     "text": [
      "Skipping battle 2003263162 as it doesn't reach turn 6\n"
     ]
    },
    {
     "name": "stderr",
     "output_type": "stream",
     "text": [
      "Processing battles:  42%|████▏     | 5865/13816 [49:19<55:04,  2.41it/s]"
     ]
    },
    {
     "name": "stdout",
     "output_type": "stream",
     "text": [
      "Skipping battle 2003262575 as it doesn't reach turn 6\n"
     ]
    },
    {
     "name": "stderr",
     "output_type": "stream",
     "text": [
      "Processing battles:  42%|████▏     | 5866/13816 [49:20<55:01,  2.41it/s]"
     ]
    },
    {
     "name": "stdout",
     "output_type": "stream",
     "text": [
      "Skipping battle 2003261398 as it doesn't reach turn 6\n"
     ]
    },
    {
     "name": "stderr",
     "output_type": "stream",
     "text": [
      "Processing battles:  43%|████▎     | 5873/13816 [49:23<53:01,  2.50it/s]"
     ]
    },
    {
     "name": "stdout",
     "output_type": "stream",
     "text": [
      "Skipping battle 2003260833 as it doesn't reach turn 6\n"
     ]
    },
    {
     "name": "stderr",
     "output_type": "stream",
     "text": [
      "Processing battles:  43%|████▎     | 5876/13816 [49:24<52:24,  2.52it/s]"
     ]
    },
    {
     "name": "stdout",
     "output_type": "stream",
     "text": [
      "Skipping battle 2003260631 as it doesn't reach turn 6\n"
     ]
    },
    {
     "name": "stderr",
     "output_type": "stream",
     "text": [
      "Processing battles:  43%|████▎     | 5884/13816 [49:27<54:48,  2.41it/s]"
     ]
    },
    {
     "name": "stdout",
     "output_type": "stream",
     "text": [
      "Skipping battle 2003259469 as it doesn't reach turn 6\n"
     ]
    },
    {
     "name": "stderr",
     "output_type": "stream",
     "text": [
      "Processing battles:  43%|████▎     | 5894/13816 [49:32<57:10,  2.31it/s]  "
     ]
    },
    {
     "name": "stdout",
     "output_type": "stream",
     "text": [
      "Skipping battle 2003255580 as it doesn't reach turn 6\n"
     ]
    },
    {
     "name": "stderr",
     "output_type": "stream",
     "text": [
      "Processing battles:  43%|████▎     | 5895/13816 [49:32<52:16,  2.53it/s]"
     ]
    },
    {
     "name": "stdout",
     "output_type": "stream",
     "text": [
      "Skipping battle 2003256418 as it doesn't reach turn 6\n"
     ]
    },
    {
     "name": "stderr",
     "output_type": "stream",
     "text": [
      "Processing battles:  43%|████▎     | 5905/13816 [49:36<56:52,  2.32it/s]  "
     ]
    },
    {
     "name": "stdout",
     "output_type": "stream",
     "text": [
      "Skipping battle 2003254297 as it doesn't reach turn 6\n"
     ]
    },
    {
     "name": "stderr",
     "output_type": "stream",
     "text": [
      "Processing battles:  43%|████▎     | 5921/13816 [49:44<1:08:26,  1.92it/s]"
     ]
    },
    {
     "name": "stdout",
     "output_type": "stream",
     "text": [
      "Saved 1974 entries to pokemon_battles_dataset_1500.jsonl\n"
     ]
    },
    {
     "name": "stderr",
     "output_type": "stream",
     "text": [
      "Processing battles:  43%|████▎     | 5934/13816 [49:50<56:45,  2.31it/s]  "
     ]
    },
    {
     "name": "stdout",
     "output_type": "stream",
     "text": [
      "Skipping battle 2003249761 as it doesn't reach turn 6\n"
     ]
    },
    {
     "name": "stderr",
     "output_type": "stream",
     "text": [
      "Processing battles:  43%|████▎     | 5939/13816 [49:53<59:02,  2.22it/s]  "
     ]
    },
    {
     "name": "stdout",
     "output_type": "stream",
     "text": [
      "Skipping battle 2003247141 as it doesn't reach turn 6\n"
     ]
    },
    {
     "name": "stderr",
     "output_type": "stream",
     "text": [
      "Processing battles:  43%|████▎     | 5940/13816 [49:53<55:10,  2.38it/s]"
     ]
    },
    {
     "name": "stdout",
     "output_type": "stream",
     "text": [
      "Skipping battle 2003247836 as it doesn't reach turn 6\n"
     ]
    },
    {
     "name": "stderr",
     "output_type": "stream",
     "text": [
      "Processing battles:  43%|████▎     | 5941/13816 [49:54<53:39,  2.45it/s]"
     ]
    },
    {
     "name": "stdout",
     "output_type": "stream",
     "text": [
      "Skipping battle 2003248460 as it doesn't reach turn 6\n"
     ]
    },
    {
     "name": "stderr",
     "output_type": "stream",
     "text": [
      "Processing battles:  43%|████▎     | 5953/13816 [49:59<56:59,  2.30it/s]  "
     ]
    },
    {
     "name": "stdout",
     "output_type": "stream",
     "text": [
      "Skipping battle 2003246302 as it doesn't reach turn 6\n"
     ]
    },
    {
     "name": "stderr",
     "output_type": "stream",
     "text": [
      "Processing battles:  43%|████▎     | 5978/13816 [50:11<58:48,  2.22it/s]  "
     ]
    },
    {
     "name": "stdout",
     "output_type": "stream",
     "text": [
      "Skipping battle 2003239974 as it doesn't reach turn 6\n"
     ]
    },
    {
     "name": "stderr",
     "output_type": "stream",
     "text": [
      "Processing battles:  43%|████▎     | 5979/13816 [50:11<56:39,  2.31it/s]"
     ]
    },
    {
     "name": "stdout",
     "output_type": "stream",
     "text": [
      "Skipping battle 2003239009 as it doesn't reach turn 6\n"
     ]
    },
    {
     "name": "stderr",
     "output_type": "stream",
     "text": [
      "Processing battles:  43%|████▎     | 6008/13816 [50:25<54:15,  2.40it/s]  "
     ]
    },
    {
     "name": "stdout",
     "output_type": "stream",
     "text": [
      "Skipping battle 2003233277 as it doesn't reach turn 6\n"
     ]
    },
    {
     "name": "stderr",
     "output_type": "stream",
     "text": [
      "Processing battles:  44%|████▎     | 6010/13816 [50:26<1:32:05,  1.41it/s]"
     ]
    },
    {
     "name": "stdout",
     "output_type": "stream",
     "text": [
      "Skipping battle 2003233398 as it doesn't reach turn 6\n"
     ]
    },
    {
     "name": "stderr",
     "output_type": "stream",
     "text": [
      "Processing battles:  44%|████▎     | 6012/13816 [50:27<1:13:07,  1.78it/s]"
     ]
    },
    {
     "name": "stdout",
     "output_type": "stream",
     "text": [
      "Skipping battle 2003233014 as it doesn't reach turn 6\n"
     ]
    },
    {
     "name": "stderr",
     "output_type": "stream",
     "text": [
      "Processing battles:  44%|████▎     | 6014/13816 [50:28<1:10:43,  1.84it/s]"
     ]
    },
    {
     "name": "stdout",
     "output_type": "stream",
     "text": [
      "Skipping battle 2003232689 as it doesn't reach turn 6\n"
     ]
    },
    {
     "name": "stderr",
     "output_type": "stream",
     "text": [
      "Processing battles:  44%|████▎     | 6015/13816 [50:29<1:02:39,  2.08it/s]"
     ]
    },
    {
     "name": "stdout",
     "output_type": "stream",
     "text": [
      "Skipping battle 2003232862 as it doesn't reach turn 6\n"
     ]
    },
    {
     "name": "stderr",
     "output_type": "stream",
     "text": [
      "Processing battles:  44%|████▎     | 6028/13816 [50:35<1:00:49,  2.13it/s]"
     ]
    },
    {
     "name": "stdout",
     "output_type": "stream",
     "text": [
      "Skipping battle 2003228828 as it doesn't reach turn 6\n"
     ]
    },
    {
     "name": "stderr",
     "output_type": "stream",
     "text": [
      "Processing battles:  44%|████▎     | 6034/13816 [50:38<1:04:50,  2.00it/s]"
     ]
    },
    {
     "name": "stdout",
     "output_type": "stream",
     "text": [
      "Saved 1986 entries to pokemon_battles_dataset_1500.jsonl\n"
     ]
    },
    {
     "name": "stderr",
     "output_type": "stream",
     "text": [
      "Processing battles:  44%|████▎     | 6040/13816 [50:41<57:05,  2.27it/s]  "
     ]
    },
    {
     "name": "stdout",
     "output_type": "stream",
     "text": [
      "Skipping battle 2003225910 as it doesn't reach turn 6\n"
     ]
    },
    {
     "name": "stderr",
     "output_type": "stream",
     "text": [
      "Processing battles:  44%|████▎     | 6041/13816 [50:41<54:24,  2.38it/s]"
     ]
    },
    {
     "name": "stdout",
     "output_type": "stream",
     "text": [
      "Skipping battle 2003223703 as it doesn't reach turn 6\n"
     ]
    },
    {
     "name": "stderr",
     "output_type": "stream",
     "text": [
      "Processing battles:  44%|████▍     | 6053/13816 [50:47<57:22,  2.26it/s]  "
     ]
    },
    {
     "name": "stdout",
     "output_type": "stream",
     "text": [
      "Skipping battle 2003220430 as it doesn't reach turn 6\n"
     ]
    },
    {
     "name": "stderr",
     "output_type": "stream",
     "text": [
      "Processing battles:  44%|████▍     | 6059/13816 [50:49<52:04,  2.48it/s]"
     ]
    },
    {
     "name": "stdout",
     "output_type": "stream",
     "text": [
      "Skipping battle 2003217844 as it doesn't reach turn 6\n"
     ]
    },
    {
     "name": "stderr",
     "output_type": "stream",
     "text": [
      "Processing battles:  44%|████▍     | 6060/13816 [50:50<49:02,  2.64it/s]"
     ]
    },
    {
     "name": "stdout",
     "output_type": "stream",
     "text": [
      "Skipping battle 2003218915 as it doesn't reach turn 6\n"
     ]
    },
    {
     "name": "stderr",
     "output_type": "stream",
     "text": [
      "Processing battles:  44%|████▍     | 6061/13816 [50:50<46:39,  2.77it/s]"
     ]
    },
    {
     "name": "stdout",
     "output_type": "stream",
     "text": [
      "Skipping battle 2003218597 as it doesn't reach turn 6\n"
     ]
    },
    {
     "name": "stderr",
     "output_type": "stream",
     "text": [
      "Processing battles:  44%|████▍     | 6063/13816 [50:51<47:31,  2.72it/s]"
     ]
    },
    {
     "name": "stdout",
     "output_type": "stream",
     "text": [
      "Skipping battle 2003218739 as it doesn't reach turn 6\n"
     ]
    },
    {
     "name": "stderr",
     "output_type": "stream",
     "text": [
      "Processing battles:  44%|████▍     | 6064/13816 [50:51<45:51,  2.82it/s]"
     ]
    },
    {
     "name": "stdout",
     "output_type": "stream",
     "text": [
      "Skipping battle 2003218290 as it doesn't reach turn 6\n"
     ]
    },
    {
     "name": "stderr",
     "output_type": "stream",
     "text": [
      "Processing battles:  44%|████▍     | 6072/13816 [50:54<53:21,  2.42it/s]"
     ]
    },
    {
     "name": "stdout",
     "output_type": "stream",
     "text": [
      "Skipping battle 2003215236 as it doesn't reach turn 6\n"
     ]
    },
    {
     "name": "stderr",
     "output_type": "stream",
     "text": [
      "Processing battles:  44%|████▍     | 6074/13816 [50:55<51:43,  2.49it/s]"
     ]
    },
    {
     "name": "stdout",
     "output_type": "stream",
     "text": [
      "Skipping battle 2003213383 as it doesn't reach turn 6\n"
     ]
    },
    {
     "name": "stderr",
     "output_type": "stream",
     "text": [
      "Processing battles:  44%|████▍     | 6075/13816 [50:56<49:13,  2.62it/s]"
     ]
    },
    {
     "name": "stdout",
     "output_type": "stream",
     "text": [
      "Skipping battle 2003214240 as it doesn't reach turn 6\n"
     ]
    },
    {
     "name": "stderr",
     "output_type": "stream",
     "text": [
      "Processing battles:  44%|████▍     | 6076/13816 [50:56<47:30,  2.72it/s]"
     ]
    },
    {
     "name": "stdout",
     "output_type": "stream",
     "text": [
      "Skipping battle 2003214159 as it doesn't reach turn 6\n"
     ]
    },
    {
     "name": "stderr",
     "output_type": "stream",
     "text": [
      "Processing battles:  44%|████▍     | 6078/13816 [50:57<50:20,  2.56it/s]"
     ]
    },
    {
     "name": "stdout",
     "output_type": "stream",
     "text": [
      "Skipping battle 2003213522 as it doesn't reach turn 6\n"
     ]
    },
    {
     "name": "stderr",
     "output_type": "stream",
     "text": [
      "Processing battles:  44%|████▍     | 6079/13816 [50:57<49:21,  2.61it/s]"
     ]
    },
    {
     "name": "stdout",
     "output_type": "stream",
     "text": [
      "Skipping battle 2003212713 as it doesn't reach turn 6\n"
     ]
    },
    {
     "name": "stderr",
     "output_type": "stream",
     "text": [
      "Processing battles:  44%|████▍     | 6135/13816 [51:24<55:35,  2.30it/s]  "
     ]
    },
    {
     "name": "stdout",
     "output_type": "stream",
     "text": [
      "Skipping battle 1177508731 as it doesn't reach turn 6\n"
     ]
    },
    {
     "name": "stderr",
     "output_type": "stream",
     "text": [
      "Processing battles:  45%|████▍     | 6149/13816 [51:30<1:03:26,  2.01it/s]"
     ]
    },
    {
     "name": "stdout",
     "output_type": "stream",
     "text": [
      "Saved 2023 entries to pokemon_battles_dataset_1500.jsonl\n"
     ]
    },
    {
     "name": "stderr",
     "output_type": "stream",
     "text": [
      "Processing battles:  45%|████▍     | 6154/13816 [51:33<56:59,  2.24it/s]  "
     ]
    },
    {
     "name": "stdout",
     "output_type": "stream",
     "text": [
      "Skipping battle 1177239860 as it doesn't reach turn 6\n"
     ]
    },
    {
     "name": "stderr",
     "output_type": "stream",
     "text": [
      "Processing battles:  45%|████▍     | 6177/13816 [51:45<1:01:41,  2.06it/s]"
     ]
    },
    {
     "name": "stdout",
     "output_type": "stream",
     "text": [
      "Skipping battle 1175715302 as it doesn't reach turn 6\n"
     ]
    },
    {
     "name": "stderr",
     "output_type": "stream",
     "text": [
      "Processing battles:  45%|████▍     | 6186/13816 [51:49<1:03:31,  2.00it/s]"
     ]
    },
    {
     "name": "stdout",
     "output_type": "stream",
     "text": [
      "Skipping battle 1174989121 as it doesn't reach turn 6\n"
     ]
    },
    {
     "name": "stderr",
     "output_type": "stream",
     "text": [
      "Processing battles:  45%|████▍     | 6202/13816 [51:57<50:23,  2.52it/s]  "
     ]
    },
    {
     "name": "stdout",
     "output_type": "stream",
     "text": [
      "Skipping battle 1174239688 as it doesn't reach turn 6\n"
     ]
    },
    {
     "name": "stderr",
     "output_type": "stream",
     "text": [
      "Processing battles:  45%|████▌     | 6232/13816 [52:11<54:39,  2.31it/s]  "
     ]
    },
    {
     "name": "stdout",
     "output_type": "stream",
     "text": [
      "Skipping battle 1173230248 as it doesn't reach turn 6\n"
     ]
    },
    {
     "name": "stderr",
     "output_type": "stream",
     "text": [
      "Processing battles:  45%|████▌     | 6246/13816 [52:18<55:38,  2.27it/s]  "
     ]
    },
    {
     "name": "stdout",
     "output_type": "stream",
     "text": [
      "Skipping battle 1172595664 as it doesn't reach turn 6\n"
     ]
    },
    {
     "name": "stderr",
     "output_type": "stream",
     "text": [
      "Processing battles:  45%|████▌     | 6247/13816 [52:18<53:03,  2.38it/s]"
     ]
    },
    {
     "name": "stdout",
     "output_type": "stream",
     "text": [
      "Skipping battle 1172497520 as it doesn't reach turn 6\n"
     ]
    },
    {
     "name": "stderr",
     "output_type": "stream",
     "text": [
      "Processing battles:  45%|████▌     | 6248/13816 [52:19<50:28,  2.50it/s]"
     ]
    },
    {
     "name": "stdout",
     "output_type": "stream",
     "text": [
      "Skipping battle 1172479699 as it doesn't reach turn 6\n"
     ]
    },
    {
     "name": "stderr",
     "output_type": "stream",
     "text": [
      "Processing battles:  45%|████▌     | 6250/13816 [52:19<49:19,  2.56it/s]"
     ]
    },
    {
     "name": "stdout",
     "output_type": "stream",
     "text": [
      "Skipping battle 1172066840 as it doesn't reach turn 6\n"
     ]
    },
    {
     "name": "stderr",
     "output_type": "stream",
     "text": [
      "Processing battles:  45%|████▌     | 6258/13816 [52:23<1:03:18,  1.99it/s]"
     ]
    },
    {
     "name": "stdout",
     "output_type": "stream",
     "text": [
      "Saved 2395 entries to pokemon_battles_dataset_1500.jsonl\n"
     ]
    },
    {
     "name": "stderr",
     "output_type": "stream",
     "text": [
      "Processing battles:  45%|████▌     | 6277/13816 [52:32<57:23,  2.19it/s]  "
     ]
    },
    {
     "name": "stdout",
     "output_type": "stream",
     "text": [
      "Skipping battle 1170196920 as it doesn't reach turn 6\n"
     ]
    },
    {
     "name": "stderr",
     "output_type": "stream",
     "text": [
      "Processing battles:  46%|████▌     | 6329/13816 [52:57<51:41,  2.41it/s]  "
     ]
    },
    {
     "name": "stdout",
     "output_type": "stream",
     "text": [
      "Skipping battle 1168647953 as it doesn't reach turn 6\n"
     ]
    },
    {
     "name": "stderr",
     "output_type": "stream",
     "text": [
      "Processing battles:  46%|████▌     | 6342/13816 [53:03<54:44,  2.28it/s]  "
     ]
    },
    {
     "name": "stdout",
     "output_type": "stream",
     "text": [
      "Skipping battle 1167949469 as it doesn't reach turn 6\n"
     ]
    },
    {
     "name": "stderr",
     "output_type": "stream",
     "text": [
      "Processing battles:  46%|████▌     | 6361/13816 [53:13<1:06:08,  1.88it/s]"
     ]
    },
    {
     "name": "stdout",
     "output_type": "stream",
     "text": [
      "Saved 2295 entries to pokemon_battles_dataset_1500.jsonl\n"
     ]
    },
    {
     "name": "stderr",
     "output_type": "stream",
     "text": [
      "Processing battles:  47%|████▋     | 6432/13816 [53:48<56:24,  2.18it/s]  "
     ]
    },
    {
     "name": "stdout",
     "output_type": "stream",
     "text": [
      "Skipping battle 1165284968 as it doesn't reach turn 6\n"
     ]
    },
    {
     "name": "stderr",
     "output_type": "stream",
     "text": [
      "Processing battles:  47%|████▋     | 6439/13816 [53:51<52:32,  2.34it/s]"
     ]
    },
    {
     "name": "stdout",
     "output_type": "stream",
     "text": [
      "Skipping battle 1165200869 as it doesn't reach turn 6\n"
     ]
    },
    {
     "name": "stderr",
     "output_type": "stream",
     "text": [
      "Processing battles:  47%|████▋     | 6446/13816 [53:55<1:08:22,  1.80it/s]"
     ]
    },
    {
     "name": "stdout",
     "output_type": "stream",
     "text": [
      "Skipping battle 1164847721 as it doesn't reach turn 6\n"
     ]
    },
    {
     "name": "stderr",
     "output_type": "stream",
     "text": [
      "Processing battles:  47%|████▋     | 6452/13816 [53:57<52:22,  2.34it/s]  "
     ]
    },
    {
     "name": "stdout",
     "output_type": "stream",
     "text": [
      "Skipping battle 1164800185 as it doesn't reach turn 6\n"
     ]
    },
    {
     "name": "stderr",
     "output_type": "stream",
     "text": [
      "Processing battles:  47%|████▋     | 6459/13816 [54:00<49:26,  2.48it/s]"
     ]
    },
    {
     "name": "stdout",
     "output_type": "stream",
     "text": [
      "Skipping battle 1164569817 as it doesn't reach turn 6\n"
     ]
    },
    {
     "name": "stderr",
     "output_type": "stream",
     "text": [
      "Processing battles:  47%|████▋     | 6466/13816 [54:04<1:04:48,  1.89it/s]"
     ]
    },
    {
     "name": "stdout",
     "output_type": "stream",
     "text": [
      "Saved 2428 entries to pokemon_battles_dataset_1500.jsonl\n"
     ]
    },
    {
     "name": "stderr",
     "output_type": "stream",
     "text": [
      "Processing battles:  47%|████▋     | 6475/13816 [54:08<59:23,  2.06it/s]  "
     ]
    },
    {
     "name": "stdout",
     "output_type": "stream",
     "text": [
      "Skipping battle 1163790851 as it doesn't reach turn 6\n"
     ]
    },
    {
     "name": "stderr",
     "output_type": "stream",
     "text": [
      "Processing battles:  47%|████▋     | 6485/13816 [54:14<52:16,  2.34it/s]  "
     ]
    },
    {
     "name": "stdout",
     "output_type": "stream",
     "text": [
      "Skipping battle 1163444766 as it doesn't reach turn 6\n"
     ]
    },
    {
     "name": "stderr",
     "output_type": "stream",
     "text": [
      "Processing battles:  47%|████▋     | 6502/13816 [54:21<52:37,  2.32it/s]"
     ]
    },
    {
     "name": "stdout",
     "output_type": "stream",
     "text": [
      "Skipping battle 1162945527 as it doesn't reach turn 6\n"
     ]
    },
    {
     "name": "stderr",
     "output_type": "stream",
     "text": [
      "Processing battles:  47%|████▋     | 6537/13816 [54:38<51:52,  2.34it/s]  "
     ]
    },
    {
     "name": "stdout",
     "output_type": "stream",
     "text": [
      "Skipping battle 1161678162 as it doesn't reach turn 6\n"
     ]
    },
    {
     "name": "stderr",
     "output_type": "stream",
     "text": [
      "Processing battles:  47%|████▋     | 6553/13816 [54:45<50:55,  2.38it/s]  "
     ]
    },
    {
     "name": "stdout",
     "output_type": "stream",
     "text": [
      "Skipping battle 1160947347 as it doesn't reach turn 6\n"
     ]
    },
    {
     "name": "stderr",
     "output_type": "stream",
     "text": [
      "Processing battles:  47%|████▋     | 6559/13816 [54:48<50:29,  2.40it/s]"
     ]
    },
    {
     "name": "stdout",
     "output_type": "stream",
     "text": [
      "Skipping battle 1160786675 as it doesn't reach turn 6\n"
     ]
    },
    {
     "name": "stderr",
     "output_type": "stream",
     "text": [
      "Processing battles:  48%|████▊     | 6572/13816 [54:54<1:06:05,  1.83it/s]"
     ]
    },
    {
     "name": "stdout",
     "output_type": "stream",
     "text": [
      "Saved 2231 entries to pokemon_battles_dataset_1500.jsonl\n"
     ]
    },
    {
     "name": "stderr",
     "output_type": "stream",
     "text": [
      "Processing battles:  48%|████▊     | 6629/13816 [55:21<49:04,  2.44it/s]  "
     ]
    },
    {
     "name": "stdout",
     "output_type": "stream",
     "text": [
      "Skipping battle 1154900080 as it doesn't reach turn 6\n"
     ]
    },
    {
     "name": "stderr",
     "output_type": "stream",
     "text": [
      "Processing battles:  48%|████▊     | 6671/13816 [55:42<1:07:42,  1.76it/s]"
     ]
    },
    {
     "name": "stdout",
     "output_type": "stream",
     "text": [
      "Skipping battle 1152609062 as it doesn't reach turn 6\n"
     ]
    },
    {
     "name": "stderr",
     "output_type": "stream",
     "text": [
      "Processing battles:  48%|████▊     | 6674/13816 [55:44<1:19:09,  1.50it/s]"
     ]
    },
    {
     "name": "stdout",
     "output_type": "stream",
     "text": [
      "Saved 2196 entries to pokemon_battles_dataset_1500.jsonl\n"
     ]
    },
    {
     "name": "stderr",
     "output_type": "stream",
     "text": [
      "Processing battles:  48%|████▊     | 6680/13816 [55:48<1:19:11,  1.50it/s]"
     ]
    },
    {
     "name": "stdout",
     "output_type": "stream",
     "text": [
      "Skipping battle 1152072720 as it doesn't reach turn 6\n"
     ]
    },
    {
     "name": "stderr",
     "output_type": "stream",
     "text": [
      "Processing battles:  48%|████▊     | 6684/13816 [55:50<1:13:40,  1.61it/s]"
     ]
    },
    {
     "name": "stdout",
     "output_type": "stream",
     "text": [
      "Skipping battle 1152019118 as it doesn't reach turn 6\n"
     ]
    },
    {
     "name": "stderr",
     "output_type": "stream",
     "text": [
      "Processing battles:  49%|████▊     | 6727/13816 [56:23<1:42:38,  1.15it/s]"
     ]
    },
    {
     "name": "stdout",
     "output_type": "stream",
     "text": [
      "Skipping battle 1149785927 as it doesn't reach turn 6\n"
     ]
    },
    {
     "name": "stderr",
     "output_type": "stream",
     "text": [
      "Processing battles:  49%|████▊     | 6734/13816 [56:27<1:10:16,  1.68it/s]"
     ]
    },
    {
     "name": "stdout",
     "output_type": "stream",
     "text": [
      "Skipping battle 1149235022 as it doesn't reach turn 6\n"
     ]
    },
    {
     "name": "stderr",
     "output_type": "stream",
     "text": [
      "Processing battles:  49%|████▉     | 6743/13816 [56:35<1:53:04,  1.04it/s]"
     ]
    },
    {
     "name": "stdout",
     "output_type": "stream",
     "text": [
      "Skipping battle 1148619254 as it doesn't reach turn 6\n"
     ]
    },
    {
     "name": "stderr",
     "output_type": "stream",
     "text": [
      "Processing battles:  49%|████▉     | 6779/13816 [56:56<1:09:15,  1.69it/s]"
     ]
    },
    {
     "name": "stdout",
     "output_type": "stream",
     "text": [
      "Saved 2307 entries to pokemon_battles_dataset_1500.jsonl\n"
     ]
    },
    {
     "name": "stderr",
     "output_type": "stream",
     "text": [
      "Processing battles:  49%|████▉     | 6780/13816 [56:56<1:00:43,  1.93it/s]"
     ]
    },
    {
     "name": "stdout",
     "output_type": "stream",
     "text": [
      "Skipping battle 1146521580 as it doesn't reach turn 6\n"
     ]
    },
    {
     "name": "stderr",
     "output_type": "stream",
     "text": [
      "Processing battles:  49%|████▉     | 6801/13816 [57:08<1:01:59,  1.89it/s]"
     ]
    },
    {
     "name": "stdout",
     "output_type": "stream",
     "text": [
      "Skipping battle 1144901839 as it doesn't reach turn 6\n"
     ]
    },
    {
     "name": "stderr",
     "output_type": "stream",
     "text": [
      "Processing battles:  50%|████▉     | 6848/13816 [58:04<1:56:09,  1.00s/it]"
     ]
    },
    {
     "name": "stdout",
     "output_type": "stream",
     "text": [
      "Skipping battle 1141188713 as it doesn't reach turn 6\n"
     ]
    },
    {
     "name": "stderr",
     "output_type": "stream",
     "text": [
      "Processing battles:  50%|████▉     | 6852/13816 [58:07<1:48:42,  1.07it/s]"
     ]
    },
    {
     "name": "stdout",
     "output_type": "stream",
     "text": [
      "Skipping battle 1141085412 as it doesn't reach turn 6\n"
     ]
    },
    {
     "name": "stderr",
     "output_type": "stream",
     "text": [
      "Processing battles:  50%|████▉     | 6883/13816 [58:36<1:31:54,  1.26it/s]"
     ]
    },
    {
     "name": "stdout",
     "output_type": "stream",
     "text": [
      "Saved 2330 entries to pokemon_battles_dataset_1500.jsonl\n"
     ]
    },
    {
     "name": "stderr",
     "output_type": "stream",
     "text": [
      "Processing battles:  50%|█████     | 6942/13816 [59:09<47:03,  2.43it/s]  "
     ]
    },
    {
     "name": "stdout",
     "output_type": "stream",
     "text": [
      "Skipping battle 1135836179 as it doesn't reach turn 6\n"
     ]
    },
    {
     "name": "stderr",
     "output_type": "stream",
     "text": [
      "Processing battles:  51%|█████     | 6978/13816 [59:25<47:42,  2.39it/s]"
     ]
    },
    {
     "name": "stdout",
     "output_type": "stream",
     "text": [
      "Skipping battle 1133461451 as it doesn't reach turn 6\n"
     ]
    },
    {
     "name": "stderr",
     "output_type": "stream",
     "text": [
      "Processing battles:  51%|█████     | 6985/13816 [59:29<56:19,  2.02it/s]"
     ]
    },
    {
     "name": "stdout",
     "output_type": "stream",
     "text": [
      "Saved 2268 entries to pokemon_battles_dataset_1500.jsonl\n"
     ]
    },
    {
     "name": "stderr",
     "output_type": "stream",
     "text": [
      "Processing battles:  51%|█████     | 6992/13816 [59:32<50:23,  2.26it/s]"
     ]
    },
    {
     "name": "stdout",
     "output_type": "stream",
     "text": [
      "Skipping battle 1132910149 as it doesn't reach turn 6\n"
     ]
    },
    {
     "name": "stderr",
     "output_type": "stream",
     "text": [
      "Processing battles:  51%|█████     | 7014/13816 [59:42<45:45,  2.48it/s]"
     ]
    },
    {
     "name": "stdout",
     "output_type": "stream",
     "text": [
      "Skipping battle 1131788831 as it doesn't reach turn 6\n"
     ]
    },
    {
     "name": "stderr",
     "output_type": "stream",
     "text": [
      "Processing battles:  51%|█████     | 7030/13816 [59:49<51:11,  2.21it/s]"
     ]
    },
    {
     "name": "stdout",
     "output_type": "stream",
     "text": [
      "Skipping battle 1131170051 as it doesn't reach turn 6\n"
     ]
    },
    {
     "name": "stderr",
     "output_type": "stream",
     "text": [
      "Processing battles:  51%|█████     | 7062/13816 [1:00:03<48:39,  2.31it/s]"
     ]
    },
    {
     "name": "stdout",
     "output_type": "stream",
     "text": [
      "Skipping battle 1128781167 as it doesn't reach turn 6\n"
     ]
    },
    {
     "name": "stderr",
     "output_type": "stream",
     "text": [
      "Processing battles:  51%|█████▏    | 7089/13816 [1:00:16<58:52,  1.90it/s]"
     ]
    },
    {
     "name": "stdout",
     "output_type": "stream",
     "text": [
      "Saved 2047 entries to pokemon_battles_dataset_1500.jsonl\n"
     ]
    },
    {
     "name": "stderr",
     "output_type": "stream",
     "text": [
      "Processing battles:  52%|█████▏    | 7157/13816 [1:00:47<47:12,  2.35it/s]"
     ]
    },
    {
     "name": "stdout",
     "output_type": "stream",
     "text": [
      "Skipping battle 1124239256 as it doesn't reach turn 6\n"
     ]
    },
    {
     "name": "stderr",
     "output_type": "stream",
     "text": [
      "Processing battles:  52%|█████▏    | 7176/13816 [1:00:56<46:14,  2.39it/s]"
     ]
    },
    {
     "name": "stdout",
     "output_type": "stream",
     "text": [
      "Skipping battle 1123685748 as it doesn't reach turn 6\n"
     ]
    },
    {
     "name": "stderr",
     "output_type": "stream",
     "text": [
      "Processing battles:  52%|█████▏    | 7191/13816 [1:01:03<54:34,  2.02it/s]"
     ]
    },
    {
     "name": "stdout",
     "output_type": "stream",
     "text": [
      "Saved 2245 entries to pokemon_battles_dataset_1500.jsonl\n"
     ]
    },
    {
     "name": "stderr",
     "output_type": "stream",
     "text": [
      "Processing battles:  52%|█████▏    | 7222/13816 [1:01:17<45:50,  2.40it/s]"
     ]
    },
    {
     "name": "stdout",
     "output_type": "stream",
     "text": [
      "Skipping battle 1121391465 as it doesn't reach turn 6\n"
     ]
    },
    {
     "name": "stderr",
     "output_type": "stream",
     "text": [
      "Processing battles:  52%|█████▏    | 7233/13816 [1:01:22<46:57,  2.34it/s]"
     ]
    },
    {
     "name": "stdout",
     "output_type": "stream",
     "text": [
      "Skipping battle 1120832034 as it doesn't reach turn 6\n"
     ]
    },
    {
     "name": "stderr",
     "output_type": "stream",
     "text": [
      "Processing battles:  53%|█████▎    | 7269/13816 [1:01:39<44:06,  2.47it/s]  "
     ]
    },
    {
     "name": "stdout",
     "output_type": "stream",
     "text": [
      "Skipping battle 1119705059 as it doesn't reach turn 6\n"
     ]
    },
    {
     "name": "stderr",
     "output_type": "stream",
     "text": [
      "Processing battles:  53%|█████▎    | 7294/13816 [1:01:51<57:47,  1.88it/s]"
     ]
    },
    {
     "name": "stdout",
     "output_type": "stream",
     "text": [
      "Saved 2378 entries to pokemon_battles_dataset_1500.jsonl\n"
     ]
    },
    {
     "name": "stderr",
     "output_type": "stream",
     "text": [
      "Processing battles:  53%|█████▎    | 7339/13816 [1:02:12<44:40,  2.42it/s]"
     ]
    },
    {
     "name": "stdout",
     "output_type": "stream",
     "text": [
      "Skipping battle 1115513336 as it doesn't reach turn 6\n"
     ]
    },
    {
     "name": "stderr",
     "output_type": "stream",
     "text": [
      "Processing battles:  53%|█████▎    | 7368/13816 [1:02:25<47:03,  2.28it/s]"
     ]
    },
    {
     "name": "stdout",
     "output_type": "stream",
     "text": [
      "Skipping battle 1113668940 as it doesn't reach turn 6\n"
     ]
    },
    {
     "name": "stderr",
     "output_type": "stream",
     "text": [
      "Processing battles:  53%|█████▎    | 7370/13816 [1:02:26<42:50,  2.51it/s]"
     ]
    },
    {
     "name": "stdout",
     "output_type": "stream",
     "text": [
      "Skipping battle 1113643938 as it doesn't reach turn 6\n"
     ]
    },
    {
     "name": "stderr",
     "output_type": "stream",
     "text": [
      "Processing battles:  53%|█████▎    | 7383/13816 [1:02:32<48:22,  2.22it/s]"
     ]
    },
    {
     "name": "stdout",
     "output_type": "stream",
     "text": [
      "Skipping battle 1113012736 as it doesn't reach turn 6\n"
     ]
    },
    {
     "name": "stderr",
     "output_type": "stream",
     "text": [
      "Processing battles:  54%|█████▎    | 7398/13816 [1:02:39<54:43,  1.95it/s]"
     ]
    },
    {
     "name": "stdout",
     "output_type": "stream",
     "text": [
      "Saved 2461 entries to pokemon_battles_dataset_1500.jsonl\n"
     ]
    },
    {
     "name": "stderr",
     "output_type": "stream",
     "text": [
      "Processing battles:  54%|█████▎    | 7423/13816 [1:02:50<44:05,  2.42it/s]"
     ]
    },
    {
     "name": "stdout",
     "output_type": "stream",
     "text": [
      "Skipping battle 1111485689 as it doesn't reach turn 6\n"
     ]
    },
    {
     "name": "stderr",
     "output_type": "stream",
     "text": [
      "Processing battles:  54%|█████▎    | 7426/13816 [1:02:51<42:22,  2.51it/s]"
     ]
    },
    {
     "name": "stdout",
     "output_type": "stream",
     "text": [
      "Skipping battle 1111433916 as it doesn't reach turn 6\n"
     ]
    },
    {
     "name": "stderr",
     "output_type": "stream",
     "text": [
      "Processing battles:  54%|█████▍    | 7487/13816 [1:03:19<44:53,  2.35it/s]"
     ]
    },
    {
     "name": "stdout",
     "output_type": "stream",
     "text": [
      "Skipping battle 1108932993 as it doesn't reach turn 6\n"
     ]
    },
    {
     "name": "stderr",
     "output_type": "stream",
     "text": [
      "Processing battles:  54%|█████▍    | 7499/13816 [1:03:25<46:31,  2.26it/s]"
     ]
    },
    {
     "name": "stdout",
     "output_type": "stream",
     "text": [
      "Skipping battle 1108271654 as it doesn't reach turn 6\n"
     ]
    },
    {
     "name": "stderr",
     "output_type": "stream",
     "text": [
      "Processing battles:  54%|█████▍    | 7502/13816 [1:03:27<52:58,  1.99it/s]"
     ]
    },
    {
     "name": "stdout",
     "output_type": "stream",
     "text": [
      "Saved 2275 entries to pokemon_battles_dataset_1500.jsonl\n"
     ]
    },
    {
     "name": "stderr",
     "output_type": "stream",
     "text": [
      "Processing battles:  54%|█████▍    | 7527/13816 [1:03:38<43:09,  2.43it/s]"
     ]
    },
    {
     "name": "stdout",
     "output_type": "stream",
     "text": [
      "Skipping battle 1107072038 as it doesn't reach turn 6\n"
     ]
    },
    {
     "name": "stderr",
     "output_type": "stream",
     "text": [
      "Processing battles:  54%|█████▍    | 7529/13816 [1:03:38<40:05,  2.61it/s]"
     ]
    },
    {
     "name": "stdout",
     "output_type": "stream",
     "text": [
      "Skipping battle 1107065909 as it doesn't reach turn 6\n"
     ]
    },
    {
     "name": "stderr",
     "output_type": "stream",
     "text": [
      "Processing battles:  55%|█████▍    | 7530/13816 [1:03:39<38:19,  2.73it/s]"
     ]
    },
    {
     "name": "stdout",
     "output_type": "stream",
     "text": [
      "Skipping battle 1107063617 as it doesn't reach turn 6\n"
     ]
    },
    {
     "name": "stderr",
     "output_type": "stream",
     "text": [
      "Processing battles:  55%|█████▍    | 7579/13816 [1:04:01<42:54,  2.42it/s]"
     ]
    },
    {
     "name": "stdout",
     "output_type": "stream",
     "text": [
      "Skipping battle 1104866779 as it doesn't reach turn 6\n"
     ]
    },
    {
     "name": "stderr",
     "output_type": "stream",
     "text": [
      "Processing battles:  55%|█████▌    | 7601/13816 [1:04:12<42:42,  2.43it/s]"
     ]
    },
    {
     "name": "stdout",
     "output_type": "stream",
     "text": [
      "Skipping battle 1104015527 as it doesn't reach turn 6\n"
     ]
    },
    {
     "name": "stderr",
     "output_type": "stream",
     "text": [
      "Processing battles:  55%|█████▌    | 7607/13816 [1:04:15<54:48,  1.89it/s]"
     ]
    },
    {
     "name": "stdout",
     "output_type": "stream",
     "text": [
      "Saved 2413 entries to pokemon_battles_dataset_1500.jsonl\n"
     ]
    },
    {
     "name": "stderr",
     "output_type": "stream",
     "text": [
      "Processing battles:  55%|█████▌    | 7611/13816 [1:04:17<51:17,  2.02it/s]"
     ]
    },
    {
     "name": "stdout",
     "output_type": "stream",
     "text": [
      "Skipping battle 1103707964 as it doesn't reach turn 6\n"
     ]
    },
    {
     "name": "stderr",
     "output_type": "stream",
     "text": [
      "Processing battles:  56%|█████▌    | 7675/13816 [1:04:46<44:17,  2.31it/s]"
     ]
    },
    {
     "name": "stdout",
     "output_type": "stream",
     "text": [
      "Skipping battle 1100996141 as it doesn't reach turn 6\n"
     ]
    },
    {
     "name": "stderr",
     "output_type": "stream",
     "text": [
      "Processing battles:  56%|█████▌    | 7709/13816 [1:05:03<57:13,  1.78it/s]"
     ]
    },
    {
     "name": "stdout",
     "output_type": "stream",
     "text": [
      "Saved 2364 entries to pokemon_battles_dataset_1500.jsonl\n"
     ]
    },
    {
     "name": "stderr",
     "output_type": "stream",
     "text": [
      "Processing battles:  56%|█████▌    | 7757/13816 [1:05:27<42:08,  2.40it/s]  "
     ]
    },
    {
     "name": "stdout",
     "output_type": "stream",
     "text": [
      "Skipping battle 1095945058 as it doesn't reach turn 6\n"
     ]
    },
    {
     "name": "stderr",
     "output_type": "stream",
     "text": [
      "Processing battles:  56%|█████▌    | 7768/13816 [1:05:32<42:24,  2.38it/s]"
     ]
    },
    {
     "name": "stdout",
     "output_type": "stream",
     "text": [
      "Skipping battle 1095647587 as it doesn't reach turn 6\n"
     ]
    },
    {
     "name": "stderr",
     "output_type": "stream",
     "text": [
      "Processing battles:  56%|█████▌    | 7771/13816 [1:05:34<41:19,  2.44it/s]"
     ]
    },
    {
     "name": "stdout",
     "output_type": "stream",
     "text": [
      "Skipping battle 1095420959 as it doesn't reach turn 6\n"
     ]
    },
    {
     "name": "stderr",
     "output_type": "stream",
     "text": [
      "Processing battles:  56%|█████▋    | 7801/13816 [1:05:48<41:47,  2.40it/s]"
     ]
    },
    {
     "name": "stdout",
     "output_type": "stream",
     "text": [
      "Skipping battle 1093631609 as it doesn't reach turn 6\n"
     ]
    },
    {
     "name": "stderr",
     "output_type": "stream",
     "text": [
      "Processing battles:  57%|█████▋    | 7813/13816 [1:05:53<53:13,  1.88it/s]"
     ]
    },
    {
     "name": "stdout",
     "output_type": "stream",
     "text": [
      "Saved 2183 entries to pokemon_battles_dataset_1500.jsonl\n"
     ]
    },
    {
     "name": "stderr",
     "output_type": "stream",
     "text": [
      "Processing battles:  57%|█████▋    | 7823/13816 [1:05:58<43:35,  2.29it/s]"
     ]
    },
    {
     "name": "stdout",
     "output_type": "stream",
     "text": [
      "Skipping battle 1092264561 as it doesn't reach turn 6\n"
     ]
    },
    {
     "name": "stderr",
     "output_type": "stream",
     "text": [
      "Processing battles:  57%|█████▋    | 7854/13816 [1:06:13<48:50,  2.03it/s]"
     ]
    },
    {
     "name": "stdout",
     "output_type": "stream",
     "text": [
      "Skipping battle 1090647985 as it doesn't reach turn 6\n"
     ]
    },
    {
     "name": "stderr",
     "output_type": "stream",
     "text": [
      "Processing battles:  57%|█████▋    | 7860/13816 [1:06:16<44:55,  2.21it/s]"
     ]
    },
    {
     "name": "stdout",
     "output_type": "stream",
     "text": [
      "Skipping battle 1090172137 as it doesn't reach turn 6\n"
     ]
    },
    {
     "name": "stderr",
     "output_type": "stream",
     "text": [
      "Processing battles:  57%|█████▋    | 7902/13816 [1:06:36<40:48,  2.42it/s]"
     ]
    },
    {
     "name": "stdout",
     "output_type": "stream",
     "text": [
      "Skipping battle 1087317057 as it doesn't reach turn 6\n"
     ]
    },
    {
     "name": "stderr",
     "output_type": "stream",
     "text": [
      "Processing battles:  57%|█████▋    | 7917/13816 [1:06:43<43:43,  2.25it/s]"
     ]
    },
    {
     "name": "stdout",
     "output_type": "stream",
     "text": [
      "Skipping battle 1086754113 as it doesn't reach turn 6\n"
     ]
    },
    {
     "name": "stderr",
     "output_type": "stream",
     "text": [
      "Processing battles:  57%|█████▋    | 7918/13816 [1:06:44<52:31,  1.87it/s]"
     ]
    },
    {
     "name": "stdout",
     "output_type": "stream",
     "text": [
      "Saved 2384 entries to pokemon_battles_dataset_1500.jsonl\n"
     ]
    },
    {
     "name": "stderr",
     "output_type": "stream",
     "text": [
      "Processing battles:  57%|█████▋    | 7929/13816 [1:06:48<40:53,  2.40it/s]"
     ]
    },
    {
     "name": "stdout",
     "output_type": "stream",
     "text": [
      "Skipping battle 1086016078 as it doesn't reach turn 6\n"
     ]
    },
    {
     "name": "stderr",
     "output_type": "stream",
     "text": [
      "Processing battles:  57%|█████▋    | 7937/13816 [1:06:52<49:58,  1.96it/s]"
     ]
    },
    {
     "name": "stdout",
     "output_type": "stream",
     "text": [
      "Skipping battle 1085475256 as it doesn't reach turn 6\n"
     ]
    },
    {
     "name": "stderr",
     "output_type": "stream",
     "text": [
      "Processing battles:  58%|█████▊    | 7964/13816 [1:07:05<45:17,  2.15it/s]"
     ]
    },
    {
     "name": "stdout",
     "output_type": "stream",
     "text": [
      "Skipping battle 1084329790 as it doesn't reach turn 6\n"
     ]
    },
    {
     "name": "stderr",
     "output_type": "stream",
     "text": [
      "Processing battles:  58%|█████▊    | 7969/13816 [1:07:07<41:55,  2.32it/s]"
     ]
    },
    {
     "name": "stdout",
     "output_type": "stream",
     "text": [
      "Skipping battle 1084228399 as it doesn't reach turn 6\n"
     ]
    },
    {
     "name": "stderr",
     "output_type": "stream",
     "text": [
      "Processing battles:  58%|█████▊    | 7982/13816 [1:07:14<48:25,  2.01it/s]"
     ]
    },
    {
     "name": "stdout",
     "output_type": "stream",
     "text": [
      "Skipping battle 1083389854 as it doesn't reach turn 6\n"
     ]
    },
    {
     "name": "stderr",
     "output_type": "stream",
     "text": [
      "Processing battles:  58%|█████▊    | 7991/13816 [1:07:18<42:56,  2.26it/s]"
     ]
    },
    {
     "name": "stdout",
     "output_type": "stream",
     "text": [
      "Skipping battle 1082887768 as it doesn't reach turn 6\n"
     ]
    },
    {
     "name": "stderr",
     "output_type": "stream",
     "text": [
      "Processing battles:  58%|█████▊    | 8008/13816 [1:07:26<41:37,  2.33it/s]"
     ]
    },
    {
     "name": "stdout",
     "output_type": "stream",
     "text": [
      "Skipping battle 1082106210 as it doesn't reach turn 6\n"
     ]
    },
    {
     "name": "stderr",
     "output_type": "stream",
     "text": [
      "Processing battles:  58%|█████▊    | 8016/13816 [1:07:30<43:10,  2.24it/s]"
     ]
    },
    {
     "name": "stdout",
     "output_type": "stream",
     "text": [
      "Skipping battle 1081496646 as it doesn't reach turn 6\n"
     ]
    },
    {
     "name": "stderr",
     "output_type": "stream",
     "text": [
      "Processing battles:  58%|█████▊    | 8026/13816 [1:07:35<52:02,  1.85it/s]"
     ]
    },
    {
     "name": "stdout",
     "output_type": "stream",
     "text": [
      "Saved 2073 entries to pokemon_battles_dataset_1500.jsonl\n"
     ]
    },
    {
     "name": "stderr",
     "output_type": "stream",
     "text": [
      "Processing battles:  58%|█████▊    | 8044/13816 [1:07:44<44:20,  2.17it/s]"
     ]
    },
    {
     "name": "stdout",
     "output_type": "stream",
     "text": [
      "Skipping battle 1079770583 as it doesn't reach turn 6\n"
     ]
    },
    {
     "name": "stderr",
     "output_type": "stream",
     "text": [
      "Processing battles:  59%|█████▊    | 8111/13816 [1:08:15<44:14,  2.15it/s]"
     ]
    },
    {
     "name": "stdout",
     "output_type": "stream",
     "text": [
      "Skipping battle 1076832416 as it doesn't reach turn 6\n"
     ]
    },
    {
     "name": "stderr",
     "output_type": "stream",
     "text": [
      "Processing battles:  59%|█████▉    | 8120/13816 [1:08:19<42:11,  2.25it/s]"
     ]
    },
    {
     "name": "stdout",
     "output_type": "stream",
     "text": [
      "Skipping battle 1076451442 as it doesn't reach turn 6\n"
     ]
    },
    {
     "name": "stderr",
     "output_type": "stream",
     "text": [
      "Processing battles:  59%|█████▉    | 8129/13816 [1:08:23<51:06,  1.85it/s]"
     ]
    },
    {
     "name": "stdout",
     "output_type": "stream",
     "text": [
      "Saved 2037 entries to pokemon_battles_dataset_1500.jsonl\n"
     ]
    },
    {
     "name": "stderr",
     "output_type": "stream",
     "text": [
      "Processing battles:  59%|█████▉    | 8162/13816 [1:08:39<41:30,  2.27it/s]"
     ]
    },
    {
     "name": "stdout",
     "output_type": "stream",
     "text": [
      "Skipping battle 1075084683 as it doesn't reach turn 6\n"
     ]
    },
    {
     "name": "stderr",
     "output_type": "stream",
     "text": [
      "Processing battles:  59%|█████▉    | 8177/13816 [1:08:46<40:18,  2.33it/s]"
     ]
    },
    {
     "name": "stdout",
     "output_type": "stream",
     "text": [
      "Skipping battle 1074550953 as it doesn't reach turn 6\n"
     ]
    },
    {
     "name": "stderr",
     "output_type": "stream",
     "text": [
      "Processing battles:  59%|█████▉    | 8187/13816 [1:08:50<40:23,  2.32it/s]"
     ]
    },
    {
     "name": "stdout",
     "output_type": "stream",
     "text": [
      "Skipping battle 1074237233 as it doesn't reach turn 6\n"
     ]
    },
    {
     "name": "stderr",
     "output_type": "stream",
     "text": [
      "Processing battles:  59%|█████▉    | 8211/13816 [1:09:02<42:12,  2.21it/s]"
     ]
    },
    {
     "name": "stdout",
     "output_type": "stream",
     "text": [
      "Skipping battle 1072725851 as it doesn't reach turn 6\n"
     ]
    },
    {
     "name": "stderr",
     "output_type": "stream",
     "text": [
      "Processing battles:  59%|█████▉    | 8212/13816 [1:09:02<43:09,  2.16it/s]"
     ]
    },
    {
     "name": "stdout",
     "output_type": "stream",
     "text": [
      "Skipping battle 1072639382 as it doesn't reach turn 6\n"
     ]
    },
    {
     "name": "stderr",
     "output_type": "stream",
     "text": [
      "Processing battles:  60%|█████▉    | 8234/13816 [1:09:13<48:14,  1.93it/s]"
     ]
    },
    {
     "name": "stdout",
     "output_type": "stream",
     "text": [
      "Saved 2233 entries to pokemon_battles_dataset_1500.jsonl\n"
     ]
    },
    {
     "name": "stderr",
     "output_type": "stream",
     "text": [
      "Processing battles:  60%|█████▉    | 8254/13816 [1:09:22<39:34,  2.34it/s]"
     ]
    },
    {
     "name": "stdout",
     "output_type": "stream",
     "text": [
      "Skipping battle 1070720979 as it doesn't reach turn 6\n"
     ]
    },
    {
     "name": "stderr",
     "output_type": "stream",
     "text": [
      "Processing battles:  60%|█████▉    | 8279/13816 [1:09:33<40:18,  2.29it/s]"
     ]
    },
    {
     "name": "stdout",
     "output_type": "stream",
     "text": [
      "Skipping battle 1069957961 as it doesn't reach turn 6\n"
     ]
    },
    {
     "name": "stderr",
     "output_type": "stream",
     "text": [
      "Processing battles:  60%|██████    | 8294/13816 [1:09:40<37:12,  2.47it/s]"
     ]
    },
    {
     "name": "stdout",
     "output_type": "stream",
     "text": [
      "Skipping battle 1068960878 as it doesn't reach turn 6\n"
     ]
    },
    {
     "name": "stderr",
     "output_type": "stream",
     "text": [
      "Processing battles:  60%|██████    | 8310/13816 [1:09:47<38:27,  2.39it/s]"
     ]
    },
    {
     "name": "stdout",
     "output_type": "stream",
     "text": [
      "Skipping battle 1068205696 as it doesn't reach turn 6\n"
     ]
    },
    {
     "name": "stderr",
     "output_type": "stream",
     "text": [
      "Processing battles:  60%|██████    | 8327/13816 [1:09:55<37:17,  2.45it/s]"
     ]
    },
    {
     "name": "stdout",
     "output_type": "stream",
     "text": [
      "Skipping battle 1067731422 as it doesn't reach turn 6\n"
     ]
    },
    {
     "name": "stderr",
     "output_type": "stream",
     "text": [
      "Processing battles:  60%|██████    | 8339/13816 [1:10:01<46:34,  1.96it/s]"
     ]
    },
    {
     "name": "stdout",
     "output_type": "stream",
     "text": [
      "Saved 2095 entries to pokemon_battles_dataset_1500.jsonl\n"
     ]
    },
    {
     "name": "stderr",
     "output_type": "stream",
     "text": [
      "Processing battles:  61%|██████    | 8371/13816 [1:10:16<40:53,  2.22it/s]"
     ]
    },
    {
     "name": "stdout",
     "output_type": "stream",
     "text": [
      "Skipping battle 1065083257 as it doesn't reach turn 6\n"
     ]
    },
    {
     "name": "stderr",
     "output_type": "stream",
     "text": [
      "Processing battles:  61%|██████    | 8417/13816 [1:10:39<43:12,  2.08it/s]"
     ]
    },
    {
     "name": "stdout",
     "output_type": "stream",
     "text": [
      "Skipping battle 1063131122 as it doesn't reach turn 6\n"
     ]
    },
    {
     "name": "stderr",
     "output_type": "stream",
     "text": [
      "Processing battles:  61%|██████    | 8441/13816 [1:10:56<1:10:06,  1.28it/s]"
     ]
    },
    {
     "name": "stdout",
     "output_type": "stream",
     "text": [
      "Saved 2212 entries to pokemon_battles_dataset_1500.jsonl\n"
     ]
    },
    {
     "name": "stderr",
     "output_type": "stream",
     "text": [
      "Processing battles:  61%|██████    | 8446/13816 [1:11:01<1:26:47,  1.03it/s]"
     ]
    },
    {
     "name": "stdout",
     "output_type": "stream",
     "text": [
      "Skipping battle 1062347793 as it doesn't reach turn 6\n"
     ]
    },
    {
     "name": "stderr",
     "output_type": "stream",
     "text": [
      "Processing battles:  61%|██████▏   | 8494/13816 [1:11:40<1:01:26,  1.44it/s]"
     ]
    },
    {
     "name": "stdout",
     "output_type": "stream",
     "text": [
      "Skipping battle 1060459664 as it doesn't reach turn 6\n"
     ]
    },
    {
     "name": "stderr",
     "output_type": "stream",
     "text": [
      "Processing battles:  61%|██████▏   | 8496/13816 [1:11:42<1:11:27,  1.24it/s]"
     ]
    },
    {
     "name": "stdout",
     "output_type": "stream",
     "text": [
      "Skipping battle 1060383977 as it doesn't reach turn 6\n"
     ]
    },
    {
     "name": "stderr",
     "output_type": "stream",
     "text": [
      "Processing battles:  62%|██████▏   | 8522/13816 [1:12:00<50:25,  1.75it/s]  "
     ]
    },
    {
     "name": "stdout",
     "output_type": "stream",
     "text": [
      "Skipping battle 1059209278 as it doesn't reach turn 6\n"
     ]
    },
    {
     "name": "stderr",
     "output_type": "stream",
     "text": [
      "Processing battles:  62%|██████▏   | 8545/13816 [1:12:14<45:23,  1.94it/s]  "
     ]
    },
    {
     "name": "stdout",
     "output_type": "stream",
     "text": [
      "Skipping battle 1058159032 as it doesn't reach turn 6\n"
     ]
    },
    {
     "name": "stderr",
     "output_type": "stream",
     "text": [
      "Processing battles:  62%|██████▏   | 8546/13816 [1:12:15<48:37,  1.81it/s]"
     ]
    },
    {
     "name": "stdout",
     "output_type": "stream",
     "text": [
      "Saved 2146 entries to pokemon_battles_dataset_1500.jsonl\n"
     ]
    },
    {
     "name": "stderr",
     "output_type": "stream",
     "text": [
      "Processing battles:  62%|██████▏   | 8566/13816 [1:12:30<1:20:46,  1.08it/s]"
     ]
    },
    {
     "name": "stdout",
     "output_type": "stream",
     "text": [
      "Skipping battle 1057227376 as it doesn't reach turn 6\n"
     ]
    },
    {
     "name": "stderr",
     "output_type": "stream",
     "text": [
      "Processing battles:  62%|██████▏   | 8577/13816 [1:12:46<1:59:49,  1.37s/it]"
     ]
    },
    {
     "name": "stdout",
     "output_type": "stream",
     "text": [
      "Skipping battle 1056633946 as it doesn't reach turn 6\n"
     ]
    },
    {
     "name": "stderr",
     "output_type": "stream",
     "text": [
      "Processing battles:  62%|██████▏   | 8584/13816 [1:12:53<1:29:33,  1.03s/it]"
     ]
    },
    {
     "name": "stdout",
     "output_type": "stream",
     "text": [
      "Skipping battle 1056503630 as it doesn't reach turn 6\n"
     ]
    },
    {
     "name": "stderr",
     "output_type": "stream",
     "text": [
      "Processing battles:  62%|██████▏   | 8589/13816 [1:12:58<1:24:13,  1.03it/s]"
     ]
    },
    {
     "name": "stdout",
     "output_type": "stream",
     "text": [
      "Skipping battle 1056248990 as it doesn't reach turn 6\n"
     ]
    },
    {
     "name": "stderr",
     "output_type": "stream",
     "text": [
      "Processing battles:  62%|██████▏   | 8600/13816 [1:13:08<1:12:50,  1.19it/s]"
     ]
    },
    {
     "name": "stdout",
     "output_type": "stream",
     "text": [
      "Skipping battle 1055520040 as it doesn't reach turn 6\n"
     ]
    },
    {
     "name": "stderr",
     "output_type": "stream",
     "text": [
      "Processing battles:  62%|██████▏   | 8605/13816 [1:13:12<1:07:19,  1.29it/s]"
     ]
    },
    {
     "name": "stdout",
     "output_type": "stream",
     "text": [
      "Skipping battle 1055158707 as it doesn't reach turn 6\n"
     ]
    },
    {
     "name": "stderr",
     "output_type": "stream",
     "text": [
      "Processing battles:  62%|██████▏   | 8622/13816 [1:13:23<48:10,  1.80it/s]  "
     ]
    },
    {
     "name": "stdout",
     "output_type": "stream",
     "text": [
      "Skipping battle 1053758065 as it doesn't reach turn 6\n"
     ]
    },
    {
     "name": "stderr",
     "output_type": "stream",
     "text": [
      "Processing battles:  63%|██████▎   | 8644/13816 [1:13:34<36:28,  2.36it/s]"
     ]
    },
    {
     "name": "stdout",
     "output_type": "stream",
     "text": [
      "Skipping battle 1052790563 as it doesn't reach turn 6\n"
     ]
    },
    {
     "name": "stderr",
     "output_type": "stream",
     "text": [
      "Processing battles:  63%|██████▎   | 8649/13816 [1:13:36<35:43,  2.41it/s]"
     ]
    },
    {
     "name": "stdout",
     "output_type": "stream",
     "text": [
      "Skipping battle 1052466218 as it doesn't reach turn 6\n"
     ]
    },
    {
     "name": "stderr",
     "output_type": "stream",
     "text": [
      "Processing battles:  63%|██████▎   | 8655/13816 [1:13:39<44:21,  1.94it/s]"
     ]
    },
    {
     "name": "stdout",
     "output_type": "stream",
     "text": [
      "Saved 2160 entries to pokemon_battles_dataset_1500.jsonl\n"
     ]
    },
    {
     "name": "stderr",
     "output_type": "stream",
     "text": [
      "Processing battles:  63%|██████▎   | 8657/13816 [1:13:40<40:33,  2.12it/s]"
     ]
    },
    {
     "name": "stdout",
     "output_type": "stream",
     "text": [
      "Skipping battle 1052342633 as it doesn't reach turn 6\n"
     ]
    },
    {
     "name": "stderr",
     "output_type": "stream",
     "text": [
      "Processing battles:  63%|██████▎   | 8685/13816 [1:13:53<40:07,  2.13it/s]"
     ]
    },
    {
     "name": "stdout",
     "output_type": "stream",
     "text": [
      "Skipping battle 1051192938 as it doesn't reach turn 6\n"
     ]
    },
    {
     "name": "stderr",
     "output_type": "stream",
     "text": [
      "Processing battles:  63%|██████▎   | 8695/13816 [1:13:58<34:01,  2.51it/s]"
     ]
    },
    {
     "name": "stdout",
     "output_type": "stream",
     "text": [
      "Skipping battle 1050566523 as it doesn't reach turn 6\n"
     ]
    },
    {
     "name": "stderr",
     "output_type": "stream",
     "text": [
      "Processing battles:  63%|██████▎   | 8714/13816 [1:14:06<35:24,  2.40it/s]"
     ]
    },
    {
     "name": "stdout",
     "output_type": "stream",
     "text": [
      "Skipping battle 1049497804 as it doesn't reach turn 6\n"
     ]
    },
    {
     "name": "stderr",
     "output_type": "stream",
     "text": [
      "Processing battles:  63%|██████▎   | 8719/13816 [1:14:08<36:37,  2.32it/s]"
     ]
    },
    {
     "name": "stdout",
     "output_type": "stream",
     "text": [
      "Skipping battle 1049026529 as it doesn't reach turn 6\n"
     ]
    },
    {
     "name": "stderr",
     "output_type": "stream",
     "text": [
      "Processing battles:  63%|██████▎   | 8732/13816 [1:14:14<35:03,  2.42it/s]"
     ]
    },
    {
     "name": "stdout",
     "output_type": "stream",
     "text": [
      "Skipping battle 1048239806 as it doesn't reach turn 6\n"
     ]
    },
    {
     "name": "stderr",
     "output_type": "stream",
     "text": [
      "Processing battles:  63%|██████▎   | 8753/13816 [1:14:24<39:22,  2.14it/s]"
     ]
    },
    {
     "name": "stdout",
     "output_type": "stream",
     "text": [
      "Skipping battle 1046784657 as it doesn't reach turn 6\n"
     ]
    },
    {
     "name": "stderr",
     "output_type": "stream",
     "text": [
      "Processing battles:  63%|██████▎   | 8762/13816 [1:14:29<43:47,  1.92it/s]"
     ]
    },
    {
     "name": "stdout",
     "output_type": "stream",
     "text": [
      "Saved 2099 entries to pokemon_battles_dataset_1500.jsonl\n"
     ]
    },
    {
     "name": "stderr",
     "output_type": "stream",
     "text": [
      "Processing battles:  63%|██████▎   | 8764/13816 [1:14:30<41:56,  2.01it/s]"
     ]
    },
    {
     "name": "stdout",
     "output_type": "stream",
     "text": [
      "Skipping battle 1046085213 as it doesn't reach turn 6\n"
     ]
    },
    {
     "name": "stderr",
     "output_type": "stream",
     "text": [
      "Processing battles:  64%|██████▍   | 8842/13816 [1:15:06<34:47,  2.38it/s]"
     ]
    },
    {
     "name": "stdout",
     "output_type": "stream",
     "text": [
      "Skipping battle 1040945197 as it doesn't reach turn 6\n"
     ]
    },
    {
     "name": "stderr",
     "output_type": "stream",
     "text": [
      "Processing battles:  64%|██████▍   | 8846/13816 [1:15:08<37:42,  2.20it/s]"
     ]
    },
    {
     "name": "stdout",
     "output_type": "stream",
     "text": [
      "Skipping battle 1040615477 as it doesn't reach turn 6\n"
     ]
    },
    {
     "name": "stderr",
     "output_type": "stream",
     "text": [
      "Processing battles:  64%|██████▍   | 8851/13816 [1:15:10<36:22,  2.27it/s]"
     ]
    },
    {
     "name": "stdout",
     "output_type": "stream",
     "text": [
      "Skipping battle 1040579515 as it doesn't reach turn 6\n"
     ]
    },
    {
     "name": "stderr",
     "output_type": "stream",
     "text": [
      "Processing battles:  64%|██████▍   | 8866/13816 [1:15:17<41:32,  1.99it/s]"
     ]
    },
    {
     "name": "stdout",
     "output_type": "stream",
     "text": [
      "Saved 2208 entries to pokemon_battles_dataset_1500.jsonl\n"
     ]
    },
    {
     "name": "stderr",
     "output_type": "stream",
     "text": [
      "Processing battles:  65%|██████▍   | 8914/13816 [1:15:40<36:03,  2.27it/s]"
     ]
    },
    {
     "name": "stdout",
     "output_type": "stream",
     "text": [
      "Skipping battle 1037266623 as it doesn't reach turn 6\n"
     ]
    },
    {
     "name": "stderr",
     "output_type": "stream",
     "text": [
      "Processing battles:  65%|██████▍   | 8943/13816 [1:15:54<40:38,  2.00it/s]"
     ]
    },
    {
     "name": "stdout",
     "output_type": "stream",
     "text": [
      "Skipping battle 1036181301 as it doesn't reach turn 6\n"
     ]
    },
    {
     "name": "stderr",
     "output_type": "stream",
     "text": [
      "Processing battles:  65%|██████▍   | 8949/13816 [1:15:57<37:32,  2.16it/s]"
     ]
    },
    {
     "name": "stdout",
     "output_type": "stream",
     "text": [
      "Skipping battle 1036004479 as it doesn't reach turn 6\n"
     ]
    },
    {
     "name": "stderr",
     "output_type": "stream",
     "text": [
      "Processing battles:  65%|██████▍   | 8965/13816 [1:16:05<35:08,  2.30it/s]"
     ]
    },
    {
     "name": "stdout",
     "output_type": "stream",
     "text": [
      "Skipping battle 1035302688 as it doesn't reach turn 6\n"
     ]
    },
    {
     "name": "stderr",
     "output_type": "stream",
     "text": [
      "Processing battles:  65%|██████▍   | 8970/13816 [1:16:07<35:03,  2.30it/s]"
     ]
    },
    {
     "name": "stdout",
     "output_type": "stream",
     "text": [
      "Skipping battle 1034943582 as it doesn't reach turn 6\n"
     ]
    },
    {
     "name": "stderr",
     "output_type": "stream",
     "text": [
      "Processing battles:  65%|██████▍   | 8971/13816 [1:16:08<40:36,  1.99it/s]"
     ]
    },
    {
     "name": "stdout",
     "output_type": "stream",
     "text": [
      "Saved 2458 entries to pokemon_battles_dataset_1500.jsonl\n"
     ]
    },
    {
     "name": "stderr",
     "output_type": "stream",
     "text": [
      "Processing battles:  65%|██████▍   | 8976/13816 [1:16:10<33:25,  2.41it/s]"
     ]
    },
    {
     "name": "stdout",
     "output_type": "stream",
     "text": [
      "Skipping battle 1034413020 as it doesn't reach turn 6\n"
     ]
    },
    {
     "name": "stderr",
     "output_type": "stream",
     "text": [
      "Processing battles:  65%|██████▌   | 8984/13816 [1:16:13<35:04,  2.30it/s]"
     ]
    },
    {
     "name": "stdout",
     "output_type": "stream",
     "text": [
      "Skipping battle 1034119270 as it doesn't reach turn 6\n"
     ]
    },
    {
     "name": "stderr",
     "output_type": "stream",
     "text": [
      "Processing battles:  65%|██████▌   | 9000/13816 [1:16:21<34:57,  2.30it/s]"
     ]
    },
    {
     "name": "stdout",
     "output_type": "stream",
     "text": [
      "Skipping battle 1033504373 as it doesn't reach turn 6\n"
     ]
    },
    {
     "name": "stderr",
     "output_type": "stream",
     "text": [
      "Processing battles:  65%|██████▌   | 9013/13816 [1:16:27<33:01,  2.42it/s]"
     ]
    },
    {
     "name": "stdout",
     "output_type": "stream",
     "text": [
      "Skipping battle 1032925543 as it doesn't reach turn 6\n"
     ]
    },
    {
     "name": "stderr",
     "output_type": "stream",
     "text": [
      "Processing battles:  65%|██████▌   | 9016/13816 [1:16:28<31:49,  2.51it/s]"
     ]
    },
    {
     "name": "stdout",
     "output_type": "stream",
     "text": [
      "Skipping battle 1032541899 as it doesn't reach turn 6\n"
     ]
    },
    {
     "name": "stderr",
     "output_type": "stream",
     "text": [
      "Processing battles:  65%|██████▌   | 9034/13816 [1:16:36<36:09,  2.20it/s]"
     ]
    },
    {
     "name": "stdout",
     "output_type": "stream",
     "text": [
      "Skipping battle 1031819969 as it doesn't reach turn 6\n"
     ]
    },
    {
     "name": "stderr",
     "output_type": "stream",
     "text": [
      "Processing battles:  65%|██████▌   | 9043/13816 [1:16:41<33:45,  2.36it/s]"
     ]
    },
    {
     "name": "stdout",
     "output_type": "stream",
     "text": [
      "Skipping battle 1030426305 as it doesn't reach turn 6\n"
     ]
    },
    {
     "name": "stderr",
     "output_type": "stream",
     "text": [
      "Processing battles:  66%|██████▌   | 9063/13816 [1:16:50<33:49,  2.34it/s]"
     ]
    },
    {
     "name": "stdout",
     "output_type": "stream",
     "text": [
      "Skipping battle 1028957050 as it doesn't reach turn 6\n"
     ]
    },
    {
     "name": "stderr",
     "output_type": "stream",
     "text": [
      "Processing battles:  66%|██████▌   | 9079/13816 [1:16:58<43:57,  1.80it/s]"
     ]
    },
    {
     "name": "stdout",
     "output_type": "stream",
     "text": [
      "Saved 2335 entries to pokemon_battles_dataset_1500.jsonl\n"
     ]
    },
    {
     "name": "stderr",
     "output_type": "stream",
     "text": [
      "Processing battles:  66%|██████▌   | 9085/13816 [1:17:01<35:00,  2.25it/s]"
     ]
    },
    {
     "name": "stdout",
     "output_type": "stream",
     "text": [
      "Skipping battle 1024058719 as it doesn't reach turn 6\n"
     ]
    },
    {
     "name": "stderr",
     "output_type": "stream",
     "text": [
      "Processing battles:  66%|██████▌   | 9098/13816 [1:17:06<33:25,  2.35it/s]"
     ]
    },
    {
     "name": "stdout",
     "output_type": "stream",
     "text": [
      "Skipping battle 1022625469 as it doesn't reach turn 6\n"
     ]
    },
    {
     "name": "stderr",
     "output_type": "stream",
     "text": [
      "Processing battles:  66%|██████▌   | 9104/13816 [1:17:09<32:50,  2.39it/s]"
     ]
    },
    {
     "name": "stdout",
     "output_type": "stream",
     "text": [
      "Skipping battle 1021221011 as it doesn't reach turn 6\n"
     ]
    },
    {
     "name": "stderr",
     "output_type": "stream",
     "text": [
      "Processing battles:  66%|██████▌   | 9108/13816 [1:17:11<33:11,  2.36it/s]"
     ]
    },
    {
     "name": "stdout",
     "output_type": "stream",
     "text": [
      "Skipping battle 1021051362 as it doesn't reach turn 6\n"
     ]
    },
    {
     "name": "stderr",
     "output_type": "stream",
     "text": [
      "Processing battles:  66%|██████▌   | 9153/13816 [1:17:32<32:39,  2.38it/s]"
     ]
    },
    {
     "name": "stdout",
     "output_type": "stream",
     "text": [
      "Skipping battle 1013878524 as it doesn't reach turn 6\n"
     ]
    },
    {
     "name": "stderr",
     "output_type": "stream",
     "text": [
      "Processing battles:  66%|██████▋   | 9184/13816 [1:17:47<41:19,  1.87it/s]"
     ]
    },
    {
     "name": "stdout",
     "output_type": "stream",
     "text": [
      "Saved 2241 entries to pokemon_battles_dataset_1500.jsonl\n"
     ]
    },
    {
     "name": "stderr",
     "output_type": "stream",
     "text": [
      "Processing battles:  67%|██████▋   | 9232/13816 [1:18:09<31:52,  2.40it/s]"
     ]
    },
    {
     "name": "stdout",
     "output_type": "stream",
     "text": [
      "Skipping battle 1004313140 as it doesn't reach turn 6\n"
     ]
    },
    {
     "name": "stderr",
     "output_type": "stream",
     "text": [
      "Processing battles:  67%|██████▋   | 9246/13816 [1:18:15<32:45,  2.32it/s]"
     ]
    },
    {
     "name": "stdout",
     "output_type": "stream",
     "text": [
      "Skipping battle 1002793468 as it doesn't reach turn 6\n"
     ]
    },
    {
     "name": "stderr",
     "output_type": "stream",
     "text": [
      "Processing battles:  67%|██████▋   | 9265/13816 [1:18:23<31:27,  2.41it/s]"
     ]
    },
    {
     "name": "stdout",
     "output_type": "stream",
     "text": [
      "Skipping battle 999502701 as it doesn't reach turn 6\n"
     ]
    },
    {
     "name": "stderr",
     "output_type": "stream",
     "text": [
      "Processing battles:  67%|██████▋   | 9266/13816 [1:18:24<30:08,  2.52it/s]"
     ]
    },
    {
     "name": "stdout",
     "output_type": "stream",
     "text": [
      "Skipping battle 999351091 as it doesn't reach turn 6\n"
     ]
    },
    {
     "name": "stderr",
     "output_type": "stream",
     "text": [
      "Processing battles:  67%|██████▋   | 9275/13816 [1:18:28<32:20,  2.34it/s]"
     ]
    },
    {
     "name": "stdout",
     "output_type": "stream",
     "text": [
      "Skipping battle 998849362 as it doesn't reach turn 6\n"
     ]
    },
    {
     "name": "stderr",
     "output_type": "stream",
     "text": [
      "Processing battles:  67%|██████▋   | 9286/13816 [1:18:33<32:25,  2.33it/s]"
     ]
    },
    {
     "name": "stdout",
     "output_type": "stream",
     "text": [
      "Skipping battle 998078963 as it doesn't reach turn 6\n"
     ]
    },
    {
     "name": "stderr",
     "output_type": "stream",
     "text": [
      "Processing battles:  67%|██████▋   | 9290/13816 [1:18:35<40:13,  1.88it/s]"
     ]
    },
    {
     "name": "stdout",
     "output_type": "stream",
     "text": [
      "Saved 2339 entries to pokemon_battles_dataset_1500.jsonl\n"
     ]
    },
    {
     "name": "stderr",
     "output_type": "stream",
     "text": [
      "Processing battles:  67%|██████▋   | 9297/13816 [1:18:38<32:37,  2.31it/s]"
     ]
    },
    {
     "name": "stdout",
     "output_type": "stream",
     "text": [
      "Skipping battle 997175802 as it doesn't reach turn 6\n"
     ]
    },
    {
     "name": "stderr",
     "output_type": "stream",
     "text": [
      "Processing battles:  67%|██████▋   | 9324/13816 [1:18:50<31:01,  2.41it/s]"
     ]
    },
    {
     "name": "stdout",
     "output_type": "stream",
     "text": [
      "Skipping battle 996528072 as it doesn't reach turn 6\n"
     ]
    },
    {
     "name": "stderr",
     "output_type": "stream",
     "text": [
      "Processing battles:  68%|██████▊   | 9372/13816 [1:19:12<33:39,  2.20it/s]"
     ]
    },
    {
     "name": "stdout",
     "output_type": "stream",
     "text": [
      "Skipping battle 991623772 as it doesn't reach turn 6\n"
     ]
    },
    {
     "name": "stderr",
     "output_type": "stream",
     "text": [
      "Processing battles:  68%|██████▊   | 9373/13816 [1:19:12<30:50,  2.40it/s]"
     ]
    },
    {
     "name": "stdout",
     "output_type": "stream",
     "text": [
      "Skipping battle 991582862 as it doesn't reach turn 6\n"
     ]
    },
    {
     "name": "stderr",
     "output_type": "stream",
     "text": [
      "Processing battles:  68%|██████▊   | 9374/13816 [1:19:12<30:43,  2.41it/s]"
     ]
    },
    {
     "name": "stdout",
     "output_type": "stream",
     "text": [
      "Skipping battle 991582180 as it doesn't reach turn 6\n"
     ]
    },
    {
     "name": "stderr",
     "output_type": "stream",
     "text": [
      "Processing battles:  68%|██████▊   | 9395/13816 [1:19:23<38:46,  1.90it/s]"
     ]
    },
    {
     "name": "stdout",
     "output_type": "stream",
     "text": [
      "Saved 2156 entries to pokemon_battles_dataset_1500.jsonl\n"
     ]
    },
    {
     "name": "stderr",
     "output_type": "stream",
     "text": [
      "Processing battles:  68%|██████▊   | 9408/13816 [1:19:28<29:25,  2.50it/s]"
     ]
    },
    {
     "name": "stdout",
     "output_type": "stream",
     "text": [
      "Skipping battle 986688269 as it doesn't reach turn 6\n"
     ]
    },
    {
     "name": "stderr",
     "output_type": "stream",
     "text": [
      "Processing battles:  68%|██████▊   | 9410/13816 [1:19:29<28:05,  2.61it/s]"
     ]
    },
    {
     "name": "stdout",
     "output_type": "stream",
     "text": [
      "Skipping battle 986110088 as it doesn't reach turn 6\n"
     ]
    },
    {
     "name": "stderr",
     "output_type": "stream",
     "text": [
      "Processing battles:  68%|██████▊   | 9425/13816 [1:19:36<28:45,  2.54it/s]"
     ]
    },
    {
     "name": "stdout",
     "output_type": "stream",
     "text": [
      "Skipping battle 983991839 as it doesn't reach turn 6\n"
     ]
    },
    {
     "name": "stderr",
     "output_type": "stream",
     "text": [
      "Processing battles:  68%|██████▊   | 9446/13816 [1:19:45<28:30,  2.55it/s]"
     ]
    },
    {
     "name": "stdout",
     "output_type": "stream",
     "text": [
      "Skipping battle 980563623 as it doesn't reach turn 6\n"
     ]
    },
    {
     "name": "stderr",
     "output_type": "stream",
     "text": [
      "Processing battles:  69%|██████▊   | 9465/13816 [1:19:53<31:14,  2.32it/s]"
     ]
    },
    {
     "name": "stdout",
     "output_type": "stream",
     "text": [
      "Skipping battle 977624333 as it doesn't reach turn 6\n"
     ]
    },
    {
     "name": "stderr",
     "output_type": "stream",
     "text": [
      "Processing battles:  69%|██████▊   | 9471/13816 [1:19:56<28:01,  2.58it/s]"
     ]
    },
    {
     "name": "stdout",
     "output_type": "stream",
     "text": [
      "Skipping battle 977123191 as it doesn't reach turn 6\n"
     ]
    },
    {
     "name": "stderr",
     "output_type": "stream",
     "text": [
      "Processing battles:  69%|██████▊   | 9488/13816 [1:20:03<30:54,  2.33it/s]"
     ]
    },
    {
     "name": "stdout",
     "output_type": "stream",
     "text": [
      "Skipping battle 975562461 as it doesn't reach turn 6\n"
     ]
    },
    {
     "name": "stderr",
     "output_type": "stream",
     "text": [
      "Processing battles:  69%|██████▉   | 9502/13816 [1:20:11<41:26,  1.73it/s]"
     ]
    },
    {
     "name": "stdout",
     "output_type": "stream",
     "text": [
      "Saved 1965 entries to pokemon_battles_dataset_1500.jsonl\n"
     ]
    },
    {
     "name": "stderr",
     "output_type": "stream",
     "text": [
      "Processing battles:  69%|██████▉   | 9515/13816 [1:20:17<31:42,  2.26it/s]"
     ]
    },
    {
     "name": "stdout",
     "output_type": "stream",
     "text": [
      "Skipping battle 972810280 as it doesn't reach turn 6\n"
     ]
    },
    {
     "name": "stderr",
     "output_type": "stream",
     "text": [
      "Processing battles:  69%|██████▉   | 9517/13816 [1:20:18<29:03,  2.47it/s]"
     ]
    },
    {
     "name": "stdout",
     "output_type": "stream",
     "text": [
      "Skipping battle 972503603 as it doesn't reach turn 6\n"
     ]
    },
    {
     "name": "stderr",
     "output_type": "stream",
     "text": [
      "Processing battles:  69%|██████▉   | 9523/13816 [1:20:21<29:08,  2.46it/s]"
     ]
    },
    {
     "name": "stdout",
     "output_type": "stream",
     "text": [
      "Skipping battle 971205337 as it doesn't reach turn 6\n"
     ]
    },
    {
     "name": "stderr",
     "output_type": "stream",
     "text": [
      "Processing battles:  69%|██████▉   | 9530/13816 [1:20:24<30:19,  2.36it/s]"
     ]
    },
    {
     "name": "stdout",
     "output_type": "stream",
     "text": [
      "Skipping battle 970651229 as it doesn't reach turn 6\n"
     ]
    },
    {
     "name": "stderr",
     "output_type": "stream",
     "text": [
      "Processing battles:  69%|██████▉   | 9560/13816 [1:20:38<29:10,  2.43it/s]"
     ]
    },
    {
     "name": "stdout",
     "output_type": "stream",
     "text": [
      "Skipping battle 967904348 as it doesn't reach turn 6\n"
     ]
    },
    {
     "name": "stderr",
     "output_type": "stream",
     "text": [
      "Processing battles:  70%|██████▉   | 9607/13816 [1:21:00<36:41,  1.91it/s]"
     ]
    },
    {
     "name": "stdout",
     "output_type": "stream",
     "text": [
      "Saved 2187 entries to pokemon_battles_dataset_1500.jsonl\n"
     ]
    },
    {
     "name": "stderr",
     "output_type": "stream",
     "text": [
      "Processing battles:  70%|██████▉   | 9622/13816 [1:21:07<32:27,  2.15it/s]"
     ]
    },
    {
     "name": "stdout",
     "output_type": "stream",
     "text": [
      "Skipping battle 963150032 as it doesn't reach turn 6\n"
     ]
    },
    {
     "name": "stderr",
     "output_type": "stream",
     "text": [
      "Processing battles:  70%|███████   | 9675/13816 [1:21:32<30:20,  2.27it/s]"
     ]
    },
    {
     "name": "stdout",
     "output_type": "stream",
     "text": [
      "Skipping battle 960933372 as it doesn't reach turn 6\n"
     ]
    },
    {
     "name": "stderr",
     "output_type": "stream",
     "text": [
      "Processing battles:  70%|███████   | 9681/13816 [1:21:35<28:05,  2.45it/s]"
     ]
    },
    {
     "name": "stdout",
     "output_type": "stream",
     "text": [
      "Skipping battle 960843802 as it doesn't reach turn 6\n"
     ]
    },
    {
     "name": "stderr",
     "output_type": "stream",
     "text": [
      "Processing battles:  70%|███████   | 9706/13816 [1:21:47<30:31,  2.24it/s]"
     ]
    },
    {
     "name": "stdout",
     "output_type": "stream",
     "text": [
      "Skipping battle 959979162 as it doesn't reach turn 6\n"
     ]
    },
    {
     "name": "stderr",
     "output_type": "stream",
     "text": [
      "Processing battles:  70%|███████   | 9711/13816 [1:21:50<38:39,  1.77it/s]"
     ]
    },
    {
     "name": "stdout",
     "output_type": "stream",
     "text": [
      "Saved 1975 entries to pokemon_battles_dataset_1500.jsonl\n"
     ]
    },
    {
     "name": "stderr",
     "output_type": "stream",
     "text": [
      "Processing battles:  71%|███████   | 9756/13816 [1:22:10<29:42,  2.28it/s]"
     ]
    },
    {
     "name": "stdout",
     "output_type": "stream",
     "text": [
      "Skipping battle 958473194 as it doesn't reach turn 6\n"
     ]
    },
    {
     "name": "stderr",
     "output_type": "stream",
     "text": [
      "Processing battles:  71%|███████   | 9806/13816 [1:22:33<27:27,  2.43it/s]"
     ]
    },
    {
     "name": "stdout",
     "output_type": "stream",
     "text": [
      "Skipping battle 957087833 as it doesn't reach turn 6\n"
     ]
    },
    {
     "name": "stderr",
     "output_type": "stream",
     "text": [
      "Processing battles:  71%|███████   | 9813/13816 [1:22:36<32:26,  2.06it/s]"
     ]
    },
    {
     "name": "stdout",
     "output_type": "stream",
     "text": [
      "Saved 2170 entries to pokemon_battles_dataset_1500.jsonl\n"
     ]
    },
    {
     "name": "stderr",
     "output_type": "stream",
     "text": [
      "Processing battles:  71%|███████▏  | 9857/13816 [1:22:57<30:03,  2.19it/s]"
     ]
    },
    {
     "name": "stdout",
     "output_type": "stream",
     "text": [
      "Skipping battle 955178269 as it doesn't reach turn 6\n"
     ]
    },
    {
     "name": "stderr",
     "output_type": "stream",
     "text": [
      "Processing battles:  71%|███████▏  | 9868/13816 [1:23:03<33:12,  1.98it/s]"
     ]
    },
    {
     "name": "stdout",
     "output_type": "stream",
     "text": [
      "Skipping battle 954721599 as it doesn't reach turn 6\n"
     ]
    },
    {
     "name": "stderr",
     "output_type": "stream",
     "text": [
      "Processing battles:  71%|███████▏  | 9873/13816 [1:23:05<30:32,  2.15it/s]"
     ]
    },
    {
     "name": "stdout",
     "output_type": "stream",
     "text": [
      "Skipping battle 954574962 as it doesn't reach turn 6\n"
     ]
    },
    {
     "name": "stderr",
     "output_type": "stream",
     "text": [
      "Processing battles:  71%|███████▏  | 9874/13816 [1:23:05<29:01,  2.26it/s]"
     ]
    },
    {
     "name": "stdout",
     "output_type": "stream",
     "text": [
      "Skipping battle 954574133 as it doesn't reach turn 6\n"
     ]
    },
    {
     "name": "stderr",
     "output_type": "stream",
     "text": [
      "Processing battles:  72%|███████▏  | 9879/13816 [1:23:08<29:05,  2.26it/s]"
     ]
    },
    {
     "name": "stdout",
     "output_type": "stream",
     "text": [
      "Skipping battle 954208017 as it doesn't reach turn 6\n"
     ]
    },
    {
     "name": "stderr",
     "output_type": "stream",
     "text": [
      "Processing battles:  72%|███████▏  | 9882/13816 [1:23:09<26:33,  2.47it/s]"
     ]
    },
    {
     "name": "stdout",
     "output_type": "stream",
     "text": [
      "Skipping battle 954143393 as it doesn't reach turn 6\n"
     ]
    },
    {
     "name": "stderr",
     "output_type": "stream",
     "text": [
      "Processing battles:  72%|███████▏  | 9892/13816 [1:23:14<33:09,  1.97it/s]"
     ]
    },
    {
     "name": "stdout",
     "output_type": "stream",
     "text": [
      "Skipping battle 953752182 as it doesn't reach turn 6\n"
     ]
    },
    {
     "name": "stderr",
     "output_type": "stream",
     "text": [
      "Processing battles:  72%|███████▏  | 9896/13816 [1:23:16<29:51,  2.19it/s]"
     ]
    },
    {
     "name": "stdout",
     "output_type": "stream",
     "text": [
      "Skipping battle 953742454 as it doesn't reach turn 6\n"
     ]
    },
    {
     "name": "stderr",
     "output_type": "stream",
     "text": [
      "Processing battles:  72%|███████▏  | 9898/13816 [1:23:17<28:58,  2.25it/s]"
     ]
    },
    {
     "name": "stdout",
     "output_type": "stream",
     "text": [
      "Skipping battle 953741199 as it doesn't reach turn 6\n"
     ]
    },
    {
     "name": "stderr",
     "output_type": "stream",
     "text": [
      "Processing battles:  72%|███████▏  | 9905/13816 [1:23:21<30:36,  2.13it/s]"
     ]
    },
    {
     "name": "stdout",
     "output_type": "stream",
     "text": [
      "Skipping battle 953429412 as it doesn't reach turn 6\n"
     ]
    },
    {
     "name": "stderr",
     "output_type": "stream",
     "text": [
      "Processing battles:  72%|███████▏  | 9910/13816 [1:23:23<28:52,  2.26it/s]"
     ]
    },
    {
     "name": "stdout",
     "output_type": "stream",
     "text": [
      "Skipping battle 953150585 as it doesn't reach turn 6\n"
     ]
    },
    {
     "name": "stderr",
     "output_type": "stream",
     "text": [
      "Processing battles:  72%|███████▏  | 9924/13816 [1:23:30<35:03,  1.85it/s]"
     ]
    },
    {
     "name": "stdout",
     "output_type": "stream",
     "text": [
      "Saved 1950 entries to pokemon_battles_dataset_1500.jsonl\n"
     ]
    },
    {
     "name": "stderr",
     "output_type": "stream",
     "text": [
      "Processing battles:  72%|███████▏  | 9928/13816 [1:23:31<29:58,  2.16it/s]"
     ]
    },
    {
     "name": "stdout",
     "output_type": "stream",
     "text": [
      "Skipping battle 952335235 as it doesn't reach turn 6\n"
     ]
    },
    {
     "name": "stderr",
     "output_type": "stream",
     "text": [
      "Processing battles:  72%|███████▏  | 9970/13816 [1:23:52<27:43,  2.31it/s]"
     ]
    },
    {
     "name": "stdout",
     "output_type": "stream",
     "text": [
      "Skipping battle 948131832 as it doesn't reach turn 6\n"
     ]
    },
    {
     "name": "stderr",
     "output_type": "stream",
     "text": [
      "Processing battles:  72%|███████▏  | 10000/13816 [1:24:06<28:04,  2.27it/s]"
     ]
    },
    {
     "name": "stdout",
     "output_type": "stream",
     "text": [
      "Skipping battle 944441164 as it doesn't reach turn 6\n"
     ]
    },
    {
     "name": "stderr",
     "output_type": "stream",
     "text": [
      "Processing battles:  73%|███████▎  | 10027/13816 [1:24:19<37:10,  1.70it/s]"
     ]
    },
    {
     "name": "stdout",
     "output_type": "stream",
     "text": [
      "Saved 1958 entries to pokemon_battles_dataset_1500.jsonl\n"
     ]
    },
    {
     "name": "stderr",
     "output_type": "stream",
     "text": [
      "Processing battles:  73%|███████▎  | 10036/13816 [1:24:24<31:32,  2.00it/s]"
     ]
    },
    {
     "name": "stdout",
     "output_type": "stream",
     "text": [
      "Skipping battle 940916766 as it doesn't reach turn 6\n"
     ]
    },
    {
     "name": "stderr",
     "output_type": "stream",
     "text": [
      "Processing battles:  73%|███████▎  | 10065/13816 [1:24:38<26:34,  2.35it/s]"
     ]
    },
    {
     "name": "stdout",
     "output_type": "stream",
     "text": [
      "Skipping battle 938234451 as it doesn't reach turn 6\n"
     ]
    },
    {
     "name": "stderr",
     "output_type": "stream",
     "text": [
      "Processing battles:  73%|███████▎  | 10077/13816 [1:24:43<28:42,  2.17it/s]"
     ]
    },
    {
     "name": "stdout",
     "output_type": "stream",
     "text": [
      "Skipping battle 937330645 as it doesn't reach turn 6\n"
     ]
    },
    {
     "name": "stderr",
     "output_type": "stream",
     "text": [
      "Processing battles:  73%|███████▎  | 10130/13816 [1:25:09<36:48,  1.67it/s]"
     ]
    },
    {
     "name": "stdout",
     "output_type": "stream",
     "text": [
      "Saved 2144 entries to pokemon_battles_dataset_1500.jsonl\n"
     ]
    },
    {
     "name": "stderr",
     "output_type": "stream",
     "text": [
      "Processing battles:  73%|███████▎  | 10148/13816 [1:25:18<28:34,  2.14it/s]"
     ]
    },
    {
     "name": "stdout",
     "output_type": "stream",
     "text": [
      "Skipping battle 931545900 as it doesn't reach turn 6\n"
     ]
    },
    {
     "name": "stderr",
     "output_type": "stream",
     "text": [
      "Processing battles:  73%|███████▎  | 10153/13816 [1:25:21<29:26,  2.07it/s]"
     ]
    },
    {
     "name": "stdout",
     "output_type": "stream",
     "text": [
      "Skipping battle 931438308 as it doesn't reach turn 6\n"
     ]
    },
    {
     "name": "stderr",
     "output_type": "stream",
     "text": [
      "Processing battles:  74%|███████▎  | 10176/13816 [1:25:32<28:43,  2.11it/s]"
     ]
    },
    {
     "name": "stdout",
     "output_type": "stream",
     "text": [
      "Skipping battle 926576104 as it doesn't reach turn 6\n"
     ]
    },
    {
     "name": "stderr",
     "output_type": "stream",
     "text": [
      "Processing battles:  74%|███████▎  | 10180/13816 [1:25:34<27:22,  2.21it/s]"
     ]
    },
    {
     "name": "stdout",
     "output_type": "stream",
     "text": [
      "Skipping battle 925420302 as it doesn't reach turn 6\n"
     ]
    },
    {
     "name": "stderr",
     "output_type": "stream",
     "text": [
      "Processing battles:  74%|███████▍  | 10202/13816 [1:25:46<33:23,  1.80it/s]"
     ]
    },
    {
     "name": "stdout",
     "output_type": "stream",
     "text": [
      "Skipping battle 920090731 as it doesn't reach turn 6\n"
     ]
    },
    {
     "name": "stderr",
     "output_type": "stream",
     "text": [
      "Processing battles:  74%|███████▍  | 10209/13816 [1:25:51<35:25,  1.70it/s]"
     ]
    },
    {
     "name": "stdout",
     "output_type": "stream",
     "text": [
      "Skipping battle 918848427 as it doesn't reach turn 6\n"
     ]
    },
    {
     "name": "stderr",
     "output_type": "stream",
     "text": [
      "Processing battles:  74%|███████▍  | 10211/13816 [1:25:52<33:52,  1.77it/s]"
     ]
    },
    {
     "name": "stdout",
     "output_type": "stream",
     "text": [
      "Skipping battle 918826305 as it doesn't reach turn 6\n"
     ]
    },
    {
     "name": "stderr",
     "output_type": "stream",
     "text": [
      "Processing battles:  74%|███████▍  | 10218/13816 [1:25:56<33:10,  1.81it/s]"
     ]
    },
    {
     "name": "stdout",
     "output_type": "stream",
     "text": [
      "Skipping battle 917552619 as it doesn't reach turn 6\n"
     ]
    },
    {
     "name": "stderr",
     "output_type": "stream",
     "text": [
      "Processing battles:  74%|███████▍  | 10223/13816 [1:25:59<35:47,  1.67it/s]"
     ]
    },
    {
     "name": "stdout",
     "output_type": "stream",
     "text": [
      "Skipping battle 916473749 as it doesn't reach turn 6\n"
     ]
    },
    {
     "name": "stderr",
     "output_type": "stream",
     "text": [
      "Processing battles:  74%|███████▍  | 10228/13816 [1:26:04<54:12,  1.10it/s]"
     ]
    },
    {
     "name": "stdout",
     "output_type": "stream",
     "text": [
      "Skipping battle 916019885 as it doesn't reach turn 6\n"
     ]
    },
    {
     "name": "stderr",
     "output_type": "stream",
     "text": [
      "Processing battles:  74%|███████▍  | 10240/13816 [1:26:16<1:06:48,  1.12s/it]"
     ]
    },
    {
     "name": "stdout",
     "output_type": "stream",
     "text": [
      "Saved 2125 entries to pokemon_battles_dataset_1500.jsonl\n"
     ]
    },
    {
     "name": "stderr",
     "output_type": "stream",
     "text": [
      "Processing battles:  74%|███████▍  | 10290/13816 [1:26:51<36:49,  1.60it/s]  "
     ]
    },
    {
     "name": "stdout",
     "output_type": "stream",
     "text": [
      "Skipping battle 905359109 as it doesn't reach turn 6\n"
     ]
    },
    {
     "name": "stderr",
     "output_type": "stream",
     "text": [
      "Processing battles:  75%|███████▍  | 10320/13816 [1:27:10<34:25,  1.69it/s]"
     ]
    },
    {
     "name": "stdout",
     "output_type": "stream",
     "text": [
      "Skipping battle 900709876 due to invalid JSON response\n"
     ]
    },
    {
     "name": "stderr",
     "output_type": "stream",
     "text": [
      "Processing battles:  75%|███████▍  | 10337/13816 [1:27:34<1:11:09,  1.23s/it]"
     ]
    },
    {
     "name": "stdout",
     "output_type": "stream",
     "text": [
      "Skipping battle 899110524 as it doesn't reach turn 6\n"
     ]
    },
    {
     "name": "stderr",
     "output_type": "stream",
     "text": [
      "Processing battles:  75%|███████▍  | 10343/13816 [1:27:44<1:26:31,  1.49s/it]"
     ]
    },
    {
     "name": "stdout",
     "output_type": "stream",
     "text": [
      "Saved 1929 entries to pokemon_battles_dataset_1500.jsonl\n"
     ]
    },
    {
     "name": "stderr",
     "output_type": "stream",
     "text": [
      "Processing battles:  75%|███████▍  | 10348/13816 [1:27:49<1:03:36,  1.10s/it]"
     ]
    },
    {
     "name": "stdout",
     "output_type": "stream",
     "text": [
      "Skipping battle 895993411 as it doesn't reach turn 6\n"
     ]
    },
    {
     "name": "stderr",
     "output_type": "stream",
     "text": [
      "Processing battles:  75%|███████▍  | 10359/13816 [1:27:57<42:09,  1.37it/s]  "
     ]
    },
    {
     "name": "stdout",
     "output_type": "stream",
     "text": [
      "Skipping battle 894266869 as it doesn't reach turn 6\n"
     ]
    },
    {
     "name": "stderr",
     "output_type": "stream",
     "text": [
      "Processing battles:  75%|███████▌  | 10370/13816 [1:28:05<39:57,  1.44it/s]"
     ]
    },
    {
     "name": "stdout",
     "output_type": "stream",
     "text": [
      "Skipping battle 892080946 as it doesn't reach turn 6\n"
     ]
    },
    {
     "name": "stderr",
     "output_type": "stream",
     "text": [
      "Processing battles:  75%|███████▌  | 10374/13816 [1:28:07<34:56,  1.64it/s]"
     ]
    },
    {
     "name": "stdout",
     "output_type": "stream",
     "text": [
      "Skipping battle 892073678 as it doesn't reach turn 6\n"
     ]
    },
    {
     "name": "stderr",
     "output_type": "stream",
     "text": [
      "Processing battles:  75%|███████▌  | 10394/13816 [1:28:19<25:10,  2.27it/s]"
     ]
    },
    {
     "name": "stdout",
     "output_type": "stream",
     "text": [
      "Skipping battle 888237461 as it doesn't reach turn 6\n"
     ]
    },
    {
     "name": "stderr",
     "output_type": "stream",
     "text": [
      "Processing battles:  75%|███████▌  | 10418/13816 [1:28:30<25:19,  2.24it/s]"
     ]
    },
    {
     "name": "stdout",
     "output_type": "stream",
     "text": [
      "Skipping battle 886492986 as it doesn't reach turn 6\n"
     ]
    },
    {
     "name": "stderr",
     "output_type": "stream",
     "text": [
      "Processing battles:  75%|███████▌  | 10419/13816 [1:28:31<24:08,  2.34it/s]"
     ]
    },
    {
     "name": "stdout",
     "output_type": "stream",
     "text": [
      "Skipping battle 886476504 as it doesn't reach turn 6\n"
     ]
    },
    {
     "name": "stderr",
     "output_type": "stream",
     "text": [
      "Processing battles:  76%|███████▌  | 10446/13816 [1:28:44<26:46,  2.10it/s]"
     ]
    },
    {
     "name": "stdout",
     "output_type": "stream",
     "text": [
      "Skipping battle 884776519 as it doesn't reach turn 6\n"
     ]
    },
    {
     "name": "stderr",
     "output_type": "stream",
     "text": [
      "Processing battles:  76%|███████▌  | 10451/13816 [1:28:47<29:19,  1.91it/s]"
     ]
    },
    {
     "name": "stdout",
     "output_type": "stream",
     "text": [
      "Saved 2330 entries to pokemon_battles_dataset_1500.jsonl\n"
     ]
    },
    {
     "name": "stderr",
     "output_type": "stream",
     "text": [
      "Processing battles:  76%|███████▋  | 10546/13816 [1:29:32<25:04,  2.17it/s]"
     ]
    },
    {
     "name": "stdout",
     "output_type": "stream",
     "text": [
      "Skipping battle 875777121 as it doesn't reach turn 6\n"
     ]
    },
    {
     "name": "stderr",
     "output_type": "stream",
     "text": [
      "Processing battles:  76%|███████▋  | 10549/13816 [1:29:34<24:12,  2.25it/s]"
     ]
    },
    {
     "name": "stdout",
     "output_type": "stream",
     "text": [
      "Skipping battle 875477328 as it doesn't reach turn 6\n"
     ]
    },
    {
     "name": "stderr",
     "output_type": "stream",
     "text": [
      "Processing battles:  76%|███████▋  | 10553/13816 [1:29:36<29:11,  1.86it/s]"
     ]
    },
    {
     "name": "stdout",
     "output_type": "stream",
     "text": [
      "Saved 2218 entries to pokemon_battles_dataset_1500.jsonl\n"
     ]
    },
    {
     "name": "stderr",
     "output_type": "stream",
     "text": [
      "Processing battles:  76%|███████▋  | 10558/13816 [1:29:38<23:50,  2.28it/s]"
     ]
    },
    {
     "name": "stdout",
     "output_type": "stream",
     "text": [
      "Skipping battle 874656328 as it doesn't reach turn 6\n"
     ]
    },
    {
     "name": "stderr",
     "output_type": "stream",
     "text": [
      "Processing battles:  77%|███████▋  | 10590/13816 [1:29:53<22:39,  2.37it/s]"
     ]
    },
    {
     "name": "stdout",
     "output_type": "stream",
     "text": [
      "Skipping battle 872867245 as it doesn't reach turn 6\n"
     ]
    },
    {
     "name": "stderr",
     "output_type": "stream",
     "text": [
      "Processing battles:  77%|███████▋  | 10599/13816 [1:29:57<26:44,  2.01it/s]"
     ]
    },
    {
     "name": "stdout",
     "output_type": "stream",
     "text": [
      "Skipping battle 872208335 as it doesn't reach turn 6\n"
     ]
    },
    {
     "name": "stderr",
     "output_type": "stream",
     "text": [
      "Processing battles:  77%|███████▋  | 10635/13816 [1:30:14<23:24,  2.26it/s]"
     ]
    },
    {
     "name": "stdout",
     "output_type": "stream",
     "text": [
      "Skipping battle 868613868 as it doesn't reach turn 6\n"
     ]
    },
    {
     "name": "stderr",
     "output_type": "stream",
     "text": [
      "Processing battles:  77%|███████▋  | 10657/13816 [1:30:24<29:21,  1.79it/s]"
     ]
    },
    {
     "name": "stdout",
     "output_type": "stream",
     "text": [
      "Saved 1902 entries to pokemon_battles_dataset_1500.jsonl\n"
     ]
    },
    {
     "name": "stderr",
     "output_type": "stream",
     "text": [
      "Processing battles:  77%|███████▋  | 10694/13816 [1:30:42<22:52,  2.28it/s]"
     ]
    },
    {
     "name": "stdout",
     "output_type": "stream",
     "text": [
      "Skipping battle 864515961 as it doesn't reach turn 6\n"
     ]
    },
    {
     "name": "stderr",
     "output_type": "stream",
     "text": [
      "Processing battles:  77%|███████▋  | 10696/13816 [1:30:43<21:58,  2.37it/s]"
     ]
    },
    {
     "name": "stdout",
     "output_type": "stream",
     "text": [
      "Skipping battle 864488098 as it doesn't reach turn 6\n"
     ]
    },
    {
     "name": "stderr",
     "output_type": "stream",
     "text": [
      "Processing battles:  78%|███████▊  | 10759/13816 [1:31:12<27:02,  1.88it/s]"
     ]
    },
    {
     "name": "stdout",
     "output_type": "stream",
     "text": [
      "Saved 1848 entries to pokemon_battles_dataset_1500.jsonl\n"
     ]
    },
    {
     "name": "stderr",
     "output_type": "stream",
     "text": [
      "Processing battles:  78%|███████▊  | 10765/13816 [1:31:15<22:07,  2.30it/s]"
     ]
    },
    {
     "name": "stdout",
     "output_type": "stream",
     "text": [
      "Skipping battle 861202036 as it doesn't reach turn 6\n"
     ]
    },
    {
     "name": "stderr",
     "output_type": "stream",
     "text": [
      "Processing battles:  78%|███████▊  | 10766/13816 [1:31:15<21:14,  2.39it/s]"
     ]
    },
    {
     "name": "stdout",
     "output_type": "stream",
     "text": [
      "Skipping battle 861189860 as it doesn't reach turn 6\n"
     ]
    },
    {
     "name": "stderr",
     "output_type": "stream",
     "text": [
      "Processing battles:  78%|███████▊  | 10771/13816 [1:31:17<21:20,  2.38it/s]"
     ]
    },
    {
     "name": "stdout",
     "output_type": "stream",
     "text": [
      "Skipping battle 860972738 as it doesn't reach turn 6\n"
     ]
    },
    {
     "name": "stderr",
     "output_type": "stream",
     "text": [
      "Processing battles:  78%|███████▊  | 10783/13816 [1:31:23<20:41,  2.44it/s]"
     ]
    },
    {
     "name": "stdout",
     "output_type": "stream",
     "text": [
      "Skipping battle 860003468 as it doesn't reach turn 6\n"
     ]
    },
    {
     "name": "stderr",
     "output_type": "stream",
     "text": [
      "Processing battles:  78%|███████▊  | 10805/13816 [1:31:33<21:35,  2.32it/s]"
     ]
    },
    {
     "name": "stdout",
     "output_type": "stream",
     "text": [
      "Skipping battle 858749848 as it doesn't reach turn 6\n"
     ]
    },
    {
     "name": "stderr",
     "output_type": "stream",
     "text": [
      "Processing battles:  78%|███████▊  | 10815/13816 [1:31:37<20:38,  2.42it/s]"
     ]
    },
    {
     "name": "stdout",
     "output_type": "stream",
     "text": [
      "Skipping battle 857866274 as it doesn't reach turn 6\n"
     ]
    },
    {
     "name": "stderr",
     "output_type": "stream",
     "text": [
      "Processing battles:  79%|███████▊  | 10865/13816 [1:32:01<25:03,  1.96it/s]"
     ]
    },
    {
     "name": "stdout",
     "output_type": "stream",
     "text": [
      "Saved 2079 entries to pokemon_battles_dataset_1500.jsonl\n"
     ]
    },
    {
     "name": "stderr",
     "output_type": "stream",
     "text": [
      "Processing battles:  79%|███████▉  | 10889/13816 [1:32:12<22:37,  2.16it/s]"
     ]
    },
    {
     "name": "stdout",
     "output_type": "stream",
     "text": [
      "Skipping battle 850172795 as it doesn't reach turn 6\n"
     ]
    },
    {
     "name": "stderr",
     "output_type": "stream",
     "text": [
      "Processing battles:  79%|███████▉  | 10906/13816 [1:32:20<19:57,  2.43it/s]"
     ]
    },
    {
     "name": "stdout",
     "output_type": "stream",
     "text": [
      "Skipping battle 848713755 as it doesn't reach turn 6\n"
     ]
    },
    {
     "name": "stderr",
     "output_type": "stream",
     "text": [
      "Processing battles:  79%|███████▉  | 10924/13816 [1:32:28<21:19,  2.26it/s]"
     ]
    },
    {
     "name": "stdout",
     "output_type": "stream",
     "text": [
      "Skipping battle 847331589 as it doesn't reach turn 6\n"
     ]
    },
    {
     "name": "stderr",
     "output_type": "stream",
     "text": [
      "Processing battles:  79%|███████▉  | 10953/13816 [1:32:42<19:47,  2.41it/s]"
     ]
    },
    {
     "name": "stdout",
     "output_type": "stream",
     "text": [
      "Skipping battle 845763721 as it doesn't reach turn 6\n"
     ]
    },
    {
     "name": "stderr",
     "output_type": "stream",
     "text": [
      "Processing battles:  79%|███████▉  | 10955/13816 [1:32:43<18:52,  2.53it/s]"
     ]
    },
    {
     "name": "stdout",
     "output_type": "stream",
     "text": [
      "Skipping battle 845461609 as it doesn't reach turn 6\n"
     ]
    },
    {
     "name": "stderr",
     "output_type": "stream",
     "text": [
      "Processing battles:  79%|███████▉  | 10970/13816 [1:32:50<23:21,  2.03it/s]"
     ]
    },
    {
     "name": "stdout",
     "output_type": "stream",
     "text": [
      "Saved 1955 entries to pokemon_battles_dataset_1500.jsonl\n"
     ]
    },
    {
     "name": "stderr",
     "output_type": "stream",
     "text": [
      "Processing battles:  80%|███████▉  | 11042/13816 [1:33:24<21:02,  2.20it/s]"
     ]
    },
    {
     "name": "stdout",
     "output_type": "stream",
     "text": [
      "Skipping battle 840285099 as it doesn't reach turn 6\n"
     ]
    },
    {
     "name": "stderr",
     "output_type": "stream",
     "text": [
      "Processing battles:  80%|████████  | 11053/13816 [1:33:29<20:02,  2.30it/s]"
     ]
    },
    {
     "name": "stdout",
     "output_type": "stream",
     "text": [
      "Skipping battle 839363571 as it doesn't reach turn 6\n"
     ]
    },
    {
     "name": "stderr",
     "output_type": "stream",
     "text": [
      "Processing battles:  80%|████████  | 11069/13816 [1:33:36<18:35,  2.46it/s]"
     ]
    },
    {
     "name": "stdout",
     "output_type": "stream",
     "text": [
      "Skipping battle 838510268 as it doesn't reach turn 6\n"
     ]
    },
    {
     "name": "stderr",
     "output_type": "stream",
     "text": [
      "Processing battles:  80%|████████  | 11073/13816 [1:33:39<26:01,  1.76it/s]"
     ]
    },
    {
     "name": "stdout",
     "output_type": "stream",
     "text": [
      "Saved 2197 entries to pokemon_battles_dataset_1500.jsonl\n"
     ]
    },
    {
     "name": "stderr",
     "output_type": "stream",
     "text": [
      "Processing battles:  80%|████████  | 11084/13816 [1:33:44<20:00,  2.28it/s]"
     ]
    },
    {
     "name": "stdout",
     "output_type": "stream",
     "text": [
      "Skipping battle 837390686 as it doesn't reach turn 6\n"
     ]
    },
    {
     "name": "stderr",
     "output_type": "stream",
     "text": [
      "Processing battles:  80%|████████  | 11102/13816 [1:33:52<18:57,  2.39it/s]"
     ]
    },
    {
     "name": "stdout",
     "output_type": "stream",
     "text": [
      "Skipping battle 836537937 as it doesn't reach turn 6\n"
     ]
    },
    {
     "name": "stderr",
     "output_type": "stream",
     "text": [
      "Processing battles:  80%|████████  | 11105/13816 [1:33:53<17:53,  2.53it/s]"
     ]
    },
    {
     "name": "stdout",
     "output_type": "stream",
     "text": [
      "Skipping battle 836302658 as it doesn't reach turn 6\n"
     ]
    },
    {
     "name": "stderr",
     "output_type": "stream",
     "text": [
      "Processing battles:  81%|████████  | 11125/13816 [1:34:02<18:52,  2.38it/s]"
     ]
    },
    {
     "name": "stdout",
     "output_type": "stream",
     "text": [
      "Skipping battle 835474172 as it doesn't reach turn 6\n"
     ]
    },
    {
     "name": "stderr",
     "output_type": "stream",
     "text": [
      "Processing battles:  81%|████████  | 11128/13816 [1:34:03<18:10,  2.47it/s]"
     ]
    },
    {
     "name": "stdout",
     "output_type": "stream",
     "text": [
      "Skipping battle 835266795 as it doesn't reach turn 6\n"
     ]
    },
    {
     "name": "stderr",
     "output_type": "stream",
     "text": [
      "Processing battles:  81%|████████  | 11129/13816 [1:34:03<17:54,  2.50it/s]"
     ]
    },
    {
     "name": "stdout",
     "output_type": "stream",
     "text": [
      "Skipping battle 835232652 as it doesn't reach turn 6\n"
     ]
    },
    {
     "name": "stderr",
     "output_type": "stream",
     "text": [
      "Processing battles:  81%|████████  | 11154/13816 [1:34:15<19:32,  2.27it/s]"
     ]
    },
    {
     "name": "stdout",
     "output_type": "stream",
     "text": [
      "Skipping battle 832615638 as it doesn't reach turn 6\n"
     ]
    },
    {
     "name": "stderr",
     "output_type": "stream",
     "text": [
      "Processing battles:  81%|████████  | 11157/13816 [1:34:16<18:43,  2.37it/s]"
     ]
    },
    {
     "name": "stdout",
     "output_type": "stream",
     "text": [
      "Skipping battle 832504559 as it doesn't reach turn 6\n"
     ]
    },
    {
     "name": "stderr",
     "output_type": "stream",
     "text": [
      "Processing battles:  81%|████████  | 11181/13816 [1:34:28<25:38,  1.71it/s]"
     ]
    },
    {
     "name": "stdout",
     "output_type": "stream",
     "text": [
      "Saved 2007 entries to pokemon_battles_dataset_1500.jsonl\n"
     ]
    },
    {
     "name": "stderr",
     "output_type": "stream",
     "text": [
      "Processing battles:  81%|████████  | 11189/13816 [1:34:31<19:45,  2.22it/s]"
     ]
    },
    {
     "name": "stdout",
     "output_type": "stream",
     "text": [
      "Skipping battle 829963945 as it doesn't reach turn 6\n"
     ]
    },
    {
     "name": "stderr",
     "output_type": "stream",
     "text": [
      "Processing battles:  81%|████████  | 11202/13816 [1:34:38<20:24,  2.13it/s]"
     ]
    },
    {
     "name": "stdout",
     "output_type": "stream",
     "text": [
      "Skipping battle 828308589 as it doesn't reach turn 6\n"
     ]
    },
    {
     "name": "stderr",
     "output_type": "stream",
     "text": [
      "Processing battles:  81%|████████▏ | 11241/13816 [1:34:57<20:53,  2.05it/s]"
     ]
    },
    {
     "name": "stdout",
     "output_type": "stream",
     "text": [
      "Skipping battle 825582381 as it doesn't reach turn 6\n"
     ]
    },
    {
     "name": "stderr",
     "output_type": "stream",
     "text": [
      "Processing battles:  82%|████████▏ | 11273/13816 [1:35:12<18:16,  2.32it/s]"
     ]
    },
    {
     "name": "stdout",
     "output_type": "stream",
     "text": [
      "Skipping battle 823940234 as it doesn't reach turn 6\n"
     ]
    },
    {
     "name": "stderr",
     "output_type": "stream",
     "text": [
      "Processing battles:  82%|████████▏ | 11285/13816 [1:35:18<22:10,  1.90it/s]"
     ]
    },
    {
     "name": "stdout",
     "output_type": "stream",
     "text": [
      "Saved 2169 entries to pokemon_battles_dataset_1500.jsonl\n"
     ]
    },
    {
     "name": "stderr",
     "output_type": "stream",
     "text": [
      "Processing battles:  82%|████████▏ | 11292/13816 [1:35:21<19:09,  2.19it/s]"
     ]
    },
    {
     "name": "stdout",
     "output_type": "stream",
     "text": [
      "Skipping battle 837006280 as it doesn't reach turn 6\n"
     ]
    },
    {
     "name": "stderr",
     "output_type": "stream",
     "text": [
      "Processing battles:  82%|████████▏ | 11304/13816 [1:35:27<17:23,  2.41it/s]"
     ]
    },
    {
     "name": "stdout",
     "output_type": "stream",
     "text": [
      "Skipping battle 836131073 as it doesn't reach turn 6\n"
     ]
    },
    {
     "name": "stderr",
     "output_type": "stream",
     "text": [
      "Processing battles:  82%|████████▏ | 11306/13816 [1:35:28<18:09,  2.30it/s]"
     ]
    },
    {
     "name": "stdout",
     "output_type": "stream",
     "text": [
      "Skipping battle 835736870 as it doesn't reach turn 6\n"
     ]
    },
    {
     "name": "stderr",
     "output_type": "stream",
     "text": [
      "Processing battles:  82%|████████▏ | 11370/13816 [1:35:59<17:01,  2.39it/s]"
     ]
    },
    {
     "name": "stdout",
     "output_type": "stream",
     "text": [
      "Skipping battle 831718981 as it doesn't reach turn 6\n"
     ]
    },
    {
     "name": "stderr",
     "output_type": "stream",
     "text": [
      "Processing battles:  82%|████████▏ | 11387/13816 [1:36:07<16:42,  2.42it/s]"
     ]
    },
    {
     "name": "stdout",
     "output_type": "stream",
     "text": [
      "Skipping battle 830464451 as it doesn't reach turn 6\n"
     ]
    },
    {
     "name": "stderr",
     "output_type": "stream",
     "text": [
      "Processing battles:  82%|████████▏ | 11389/13816 [1:36:07<15:42,  2.58it/s]"
     ]
    },
    {
     "name": "stdout",
     "output_type": "stream",
     "text": [
      "Skipping battle 830400574 as it doesn't reach turn 6\n"
     ]
    },
    {
     "name": "stderr",
     "output_type": "stream",
     "text": [
      "Processing battles:  82%|████████▏ | 11391/13816 [1:36:09<21:15,  1.90it/s]"
     ]
    },
    {
     "name": "stdout",
     "output_type": "stream",
     "text": [
      "Saved 2136 entries to pokemon_battles_dataset_1500.jsonl\n"
     ]
    },
    {
     "name": "stderr",
     "output_type": "stream",
     "text": [
      "Processing battles:  83%|████████▎ | 11401/13816 [1:36:13<17:20,  2.32it/s]"
     ]
    },
    {
     "name": "stdout",
     "output_type": "stream",
     "text": [
      "Skipping battle 829590613 as it doesn't reach turn 6\n"
     ]
    },
    {
     "name": "stderr",
     "output_type": "stream",
     "text": [
      "Processing battles:  83%|████████▎ | 11434/13816 [1:36:29<19:48,  2.00it/s]"
     ]
    },
    {
     "name": "stdout",
     "output_type": "stream",
     "text": [
      "Skipping battle 828298874 as it doesn't reach turn 6\n"
     ]
    },
    {
     "name": "stderr",
     "output_type": "stream",
     "text": [
      "Processing battles:  83%|████████▎ | 11461/13816 [1:36:42<16:15,  2.41it/s]"
     ]
    },
    {
     "name": "stdout",
     "output_type": "stream",
     "text": [
      "Skipping battle 826912357 as it doesn't reach turn 6\n"
     ]
    },
    {
     "name": "stderr",
     "output_type": "stream",
     "text": [
      "Processing battles:  83%|████████▎ | 11471/13816 [1:36:46<16:06,  2.43it/s]"
     ]
    },
    {
     "name": "stdout",
     "output_type": "stream",
     "text": [
      "Skipping battle 826262027 as it doesn't reach turn 6\n"
     ]
    },
    {
     "name": "stderr",
     "output_type": "stream",
     "text": [
      "Processing battles:  83%|████████▎ | 11495/13816 [1:36:58<21:54,  1.77it/s]"
     ]
    },
    {
     "name": "stdout",
     "output_type": "stream",
     "text": [
      "Saved 2079 entries to pokemon_battles_dataset_1500.jsonl\n"
     ]
    },
    {
     "name": "stderr",
     "output_type": "stream",
     "text": [
      "Processing battles:  84%|████████▎ | 11546/13816 [1:37:22<19:51,  1.90it/s]"
     ]
    },
    {
     "name": "stdout",
     "output_type": "stream",
     "text": [
      "Skipping battle 822472576 as it doesn't reach turn 6\n"
     ]
    },
    {
     "name": "stderr",
     "output_type": "stream",
     "text": [
      "Processing battles:  84%|████████▎ | 11556/13816 [1:37:27<16:35,  2.27it/s]"
     ]
    },
    {
     "name": "stdout",
     "output_type": "stream",
     "text": [
      "Skipping battle 822428053 as it doesn't reach turn 6\n"
     ]
    },
    {
     "name": "stderr",
     "output_type": "stream",
     "text": [
      "Processing battles:  84%|████████▍ | 11574/13816 [1:37:35<19:27,  1.92it/s]"
     ]
    },
    {
     "name": "stdout",
     "output_type": "stream",
     "text": [
      "Skipping battle 821114442 as it doesn't reach turn 6\n"
     ]
    },
    {
     "name": "stderr",
     "output_type": "stream",
     "text": [
      "Processing battles:  84%|████████▍ | 11582/13816 [1:37:39<16:07,  2.31it/s]"
     ]
    },
    {
     "name": "stdout",
     "output_type": "stream",
     "text": [
      "Skipping battle 820963217 as it doesn't reach turn 6\n"
     ]
    },
    {
     "name": "stderr",
     "output_type": "stream",
     "text": [
      "Processing battles:  84%|████████▍ | 11587/13816 [1:37:41<15:22,  2.42it/s]"
     ]
    },
    {
     "name": "stdout",
     "output_type": "stream",
     "text": [
      "Skipping battle 820430609 as it doesn't reach turn 6\n"
     ]
    },
    {
     "name": "stderr",
     "output_type": "stream",
     "text": [
      "Processing battles:  84%|████████▍ | 11590/13816 [1:37:42<15:33,  2.38it/s]"
     ]
    },
    {
     "name": "stdout",
     "output_type": "stream",
     "text": [
      "Skipping battle 820401726 as it doesn't reach turn 6\n"
     ]
    },
    {
     "name": "stderr",
     "output_type": "stream",
     "text": [
      "Processing battles:  84%|████████▍ | 11592/13816 [1:37:43<15:54,  2.33it/s]"
     ]
    },
    {
     "name": "stdout",
     "output_type": "stream",
     "text": [
      "Skipping battle 820272624 as it doesn't reach turn 6\n"
     ]
    },
    {
     "name": "stderr",
     "output_type": "stream",
     "text": [
      "Processing battles:  84%|████████▍ | 11602/13816 [1:37:48<21:59,  1.68it/s]"
     ]
    },
    {
     "name": "stdout",
     "output_type": "stream",
     "text": [
      "Saved 1971 entries to pokemon_battles_dataset_1500.jsonl\n"
     ]
    },
    {
     "name": "stderr",
     "output_type": "stream",
     "text": [
      "Processing battles:  84%|████████▍ | 11607/13816 [1:37:50<17:12,  2.14it/s]"
     ]
    },
    {
     "name": "stdout",
     "output_type": "stream",
     "text": [
      "Skipping battle 819824658 as it doesn't reach turn 6\n"
     ]
    },
    {
     "name": "stderr",
     "output_type": "stream",
     "text": [
      "Processing battles:  84%|████████▍ | 11619/13816 [1:37:56<16:27,  2.22it/s]"
     ]
    },
    {
     "name": "stdout",
     "output_type": "stream",
     "text": [
      "Skipping battle 819147353 as it doesn't reach turn 6\n"
     ]
    },
    {
     "name": "stderr",
     "output_type": "stream",
     "text": [
      "Processing battles:  84%|████████▍ | 11624/13816 [1:37:59<16:17,  2.24it/s]"
     ]
    },
    {
     "name": "stdout",
     "output_type": "stream",
     "text": [
      "Skipping battle 818593701 as it doesn't reach turn 6\n"
     ]
    },
    {
     "name": "stderr",
     "output_type": "stream",
     "text": [
      "Processing battles:  84%|████████▍ | 11646/13816 [1:38:10<15:21,  2.36it/s]"
     ]
    },
    {
     "name": "stdout",
     "output_type": "stream",
     "text": [
      "Skipping battle 816663822 as it doesn't reach turn 6\n"
     ]
    },
    {
     "name": "stderr",
     "output_type": "stream",
     "text": [
      "Processing battles:  85%|████████▍ | 11677/13816 [1:38:25<15:00,  2.38it/s]"
     ]
    },
    {
     "name": "stdout",
     "output_type": "stream",
     "text": [
      "Skipping battle 814538605 as it doesn't reach turn 6\n"
     ]
    },
    {
     "name": "stderr",
     "output_type": "stream",
     "text": [
      "Processing battles:  85%|████████▍ | 11684/13816 [1:38:28<15:10,  2.34it/s]"
     ]
    },
    {
     "name": "stdout",
     "output_type": "stream",
     "text": [
      "Skipping battle 814088680 as it doesn't reach turn 6\n"
     ]
    },
    {
     "name": "stderr",
     "output_type": "stream",
     "text": [
      "Processing battles:  85%|████████▍ | 11703/13816 [1:38:37<14:56,  2.36it/s]"
     ]
    },
    {
     "name": "stdout",
     "output_type": "stream",
     "text": [
      "Skipping battle 813644128 as it doesn't reach turn 6\n"
     ]
    },
    {
     "name": "stderr",
     "output_type": "stream",
     "text": [
      "Processing battles:  85%|████████▍ | 11706/13816 [1:38:38<14:19,  2.46it/s]"
     ]
    },
    {
     "name": "stdout",
     "output_type": "stream",
     "text": [
      "Skipping battle 813598276 as it doesn't reach turn 6\n"
     ]
    },
    {
     "name": "stderr",
     "output_type": "stream",
     "text": [
      "Processing battles:  85%|████████▍ | 11710/13816 [1:38:40<18:33,  1.89it/s]"
     ]
    },
    {
     "name": "stdout",
     "output_type": "stream",
     "text": [
      "Saved 1991 entries to pokemon_battles_dataset_1500.jsonl\n"
     ]
    },
    {
     "name": "stderr",
     "output_type": "stream",
     "text": [
      "Processing battles:  85%|████████▍ | 11713/13816 [1:38:41<15:31,  2.26it/s]"
     ]
    },
    {
     "name": "stdout",
     "output_type": "stream",
     "text": [
      "Skipping battle 813422938 as it doesn't reach turn 6\n"
     ]
    },
    {
     "name": "stderr",
     "output_type": "stream",
     "text": [
      "Processing battles:  85%|████████▍ | 11714/13816 [1:38:42<13:59,  2.51it/s]"
     ]
    },
    {
     "name": "stdout",
     "output_type": "stream",
     "text": [
      "Skipping battle 813421019 as it doesn't reach turn 6\n"
     ]
    },
    {
     "name": "stderr",
     "output_type": "stream",
     "text": [
      "Processing battles:  85%|████████▍ | 11715/13816 [1:38:42<16:48,  2.08it/s]"
     ]
    },
    {
     "name": "stdout",
     "output_type": "stream",
     "text": [
      "Skipping battle 813394964 as it doesn't reach turn 6\n"
     ]
    },
    {
     "name": "stderr",
     "output_type": "stream",
     "text": [
      "Processing battles:  85%|████████▍ | 11727/13816 [1:38:48<14:02,  2.48it/s]"
     ]
    },
    {
     "name": "stdout",
     "output_type": "stream",
     "text": [
      "Skipping battle 812855507 as it doesn't reach turn 6\n"
     ]
    },
    {
     "name": "stderr",
     "output_type": "stream",
     "text": [
      "Processing battles:  85%|████████▍ | 11735/13816 [1:38:51<15:48,  2.19it/s]"
     ]
    },
    {
     "name": "stdout",
     "output_type": "stream",
     "text": [
      "Skipping battle 811981703 as it doesn't reach turn 6\n"
     ]
    },
    {
     "name": "stderr",
     "output_type": "stream",
     "text": [
      "Processing battles:  85%|████████▌ | 11752/13816 [1:38:59<14:56,  2.30it/s]"
     ]
    },
    {
     "name": "stdout",
     "output_type": "stream",
     "text": [
      "Skipping battle 810465817 as it doesn't reach turn 6\n"
     ]
    },
    {
     "name": "stderr",
     "output_type": "stream",
     "text": [
      "Processing battles:  85%|████████▌ | 11753/13816 [1:39:00<14:30,  2.37it/s]"
     ]
    },
    {
     "name": "stdout",
     "output_type": "stream",
     "text": [
      "Skipping battle 810465127 as it doesn't reach turn 6\n"
     ]
    },
    {
     "name": "stderr",
     "output_type": "stream",
     "text": [
      "Processing battles:  85%|████████▌ | 11754/13816 [1:39:00<13:47,  2.49it/s]"
     ]
    },
    {
     "name": "stdout",
     "output_type": "stream",
     "text": [
      "Skipping battle 810447480 as it doesn't reach turn 6\n"
     ]
    },
    {
     "name": "stderr",
     "output_type": "stream",
     "text": [
      "Processing battles:  85%|████████▌ | 11807/13816 [1:39:26<15:13,  2.20it/s]"
     ]
    },
    {
     "name": "stdout",
     "output_type": "stream",
     "text": [
      "Skipping battle 807608362 as it doesn't reach turn 6\n"
     ]
    },
    {
     "name": "stderr",
     "output_type": "stream",
     "text": [
      "Processing battles:  86%|████████▌ | 11819/13816 [1:39:32<17:54,  1.86it/s]"
     ]
    },
    {
     "name": "stdout",
     "output_type": "stream",
     "text": [
      "Saved 2134 entries to pokemon_battles_dataset_1500.jsonl\n"
     ]
    },
    {
     "name": "stderr",
     "output_type": "stream",
     "text": [
      "Processing battles:  86%|████████▌ | 11824/13816 [1:39:34<16:33,  2.01it/s]"
     ]
    },
    {
     "name": "stdout",
     "output_type": "stream",
     "text": [
      "Skipping battle 806785904 as it doesn't reach turn 6\n"
     ]
    },
    {
     "name": "stderr",
     "output_type": "stream",
     "text": [
      "Processing battles:  86%|████████▌ | 11834/13816 [1:39:39<14:15,  2.32it/s]"
     ]
    },
    {
     "name": "stdout",
     "output_type": "stream",
     "text": [
      "Skipping battle 806248271 as it doesn't reach turn 6\n"
     ]
    },
    {
     "name": "stderr",
     "output_type": "stream",
     "text": [
      "Processing battles:  86%|████████▌ | 11840/13816 [1:39:41<13:51,  2.38it/s]"
     ]
    },
    {
     "name": "stdout",
     "output_type": "stream",
     "text": [
      "Skipping battle 805984588 as it doesn't reach turn 6\n"
     ]
    },
    {
     "name": "stderr",
     "output_type": "stream",
     "text": [
      "Processing battles:  86%|████████▌ | 11841/13816 [1:39:42<13:01,  2.53it/s]"
     ]
    },
    {
     "name": "stdout",
     "output_type": "stream",
     "text": [
      "Skipping battle 805980750 as it doesn't reach turn 6\n"
     ]
    },
    {
     "name": "stderr",
     "output_type": "stream",
     "text": [
      "Processing battles:  86%|████████▌ | 11853/13816 [1:39:47<14:48,  2.21it/s]"
     ]
    },
    {
     "name": "stdout",
     "output_type": "stream",
     "text": [
      "Skipping battle 805275786 as it doesn't reach turn 6\n"
     ]
    },
    {
     "name": "stderr",
     "output_type": "stream",
     "text": [
      "Processing battles:  86%|████████▌ | 11865/13816 [1:39:53<14:19,  2.27it/s]"
     ]
    },
    {
     "name": "stdout",
     "output_type": "stream",
     "text": [
      "Skipping battle 804495773 as it doesn't reach turn 6\n"
     ]
    },
    {
     "name": "stderr",
     "output_type": "stream",
     "text": [
      "Processing battles:  86%|████████▌ | 11876/13816 [1:39:58<14:44,  2.19it/s]"
     ]
    },
    {
     "name": "stdout",
     "output_type": "stream",
     "text": [
      "Skipping battle 803996810 as it doesn't reach turn 6\n"
     ]
    },
    {
     "name": "stderr",
     "output_type": "stream",
     "text": [
      "Processing battles:  86%|████████▌ | 11888/13816 [1:40:04<13:14,  2.43it/s]"
     ]
    },
    {
     "name": "stdout",
     "output_type": "stream",
     "text": [
      "Skipping battle 803078035 as it doesn't reach turn 6\n"
     ]
    },
    {
     "name": "stderr",
     "output_type": "stream",
     "text": [
      "Processing battles:  86%|████████▌ | 11908/13816 [1:40:14<16:46,  1.90it/s]"
     ]
    },
    {
     "name": "stdout",
     "output_type": "stream",
     "text": [
      "Skipping battle 802748956 as it doesn't reach turn 6\n"
     ]
    },
    {
     "name": "stderr",
     "output_type": "stream",
     "text": [
      "Processing battles:  86%|████████▋ | 11928/13816 [1:40:24<18:35,  1.69it/s]"
     ]
    },
    {
     "name": "stdout",
     "output_type": "stream",
     "text": [
      "Saved 1963 entries to pokemon_battles_dataset_1500.jsonl\n"
     ]
    },
    {
     "name": "stderr",
     "output_type": "stream",
     "text": [
      "Processing battles:  86%|████████▋ | 11934/13816 [1:40:27<13:58,  2.25it/s]"
     ]
    },
    {
     "name": "stdout",
     "output_type": "stream",
     "text": [
      "Skipping battle 801056572 as it doesn't reach turn 6\n"
     ]
    },
    {
     "name": "stderr",
     "output_type": "stream",
     "text": [
      "Processing battles:  86%|████████▋ | 11948/13816 [1:40:33<13:10,  2.36it/s]"
     ]
    },
    {
     "name": "stdout",
     "output_type": "stream",
     "text": [
      "Skipping battle 800029662 as it doesn't reach turn 6\n"
     ]
    },
    {
     "name": "stderr",
     "output_type": "stream",
     "text": [
      "Processing battles:  87%|████████▋ | 11969/13816 [1:40:44<16:24,  1.88it/s]"
     ]
    },
    {
     "name": "stdout",
     "output_type": "stream",
     "text": [
      "Skipping battle 799259736 as it doesn't reach turn 6\n"
     ]
    },
    {
     "name": "stderr",
     "output_type": "stream",
     "text": [
      "Processing battles:  87%|████████▋ | 11976/13816 [1:40:47<14:19,  2.14it/s]"
     ]
    },
    {
     "name": "stdout",
     "output_type": "stream",
     "text": [
      "Skipping battle 798514289 as it doesn't reach turn 6\n"
     ]
    },
    {
     "name": "stderr",
     "output_type": "stream",
     "text": [
      "Processing battles:  87%|████████▋ | 11983/13816 [1:40:51<15:50,  1.93it/s]"
     ]
    },
    {
     "name": "stdout",
     "output_type": "stream",
     "text": [
      "Skipping battle 797974019 as it doesn't reach turn 6\n"
     ]
    },
    {
     "name": "stderr",
     "output_type": "stream",
     "text": [
      "Processing battles:  87%|████████▋ | 12007/13816 [1:41:07<32:38,  1.08s/it]"
     ]
    },
    {
     "name": "stdout",
     "output_type": "stream",
     "text": [
      "Skipping battle 796235335 as it doesn't reach turn 6\n"
     ]
    },
    {
     "name": "stderr",
     "output_type": "stream",
     "text": [
      "Processing battles:  87%|████████▋ | 12011/13816 [1:41:12<37:06,  1.23s/it]"
     ]
    },
    {
     "name": "stdout",
     "output_type": "stream",
     "text": [
      "Skipping battle 796138463 as it doesn't reach turn 6\n"
     ]
    },
    {
     "name": "stderr",
     "output_type": "stream",
     "text": [
      "Processing battles:  87%|████████▋ | 12035/13816 [1:41:37<32:35,  1.10s/it]"
     ]
    },
    {
     "name": "stdout",
     "output_type": "stream",
     "text": [
      "Saved 1912 entries to pokemon_battles_dataset_1500.jsonl\n"
     ]
    },
    {
     "name": "stderr",
     "output_type": "stream",
     "text": [
      "Processing battles:  87%|████████▋ | 12051/13816 [1:41:51<24:06,  1.22it/s]"
     ]
    },
    {
     "name": "stdout",
     "output_type": "stream",
     "text": [
      "Skipping battle 793613842 as it doesn't reach turn 6\n"
     ]
    },
    {
     "name": "stderr",
     "output_type": "stream",
     "text": [
      "Processing battles:  87%|████████▋ | 12060/13816 [1:41:59<24:37,  1.19it/s]"
     ]
    },
    {
     "name": "stdout",
     "output_type": "stream",
     "text": [
      "Skipping battle 793081133 as it doesn't reach turn 6\n"
     ]
    },
    {
     "name": "stderr",
     "output_type": "stream",
     "text": [
      "Processing battles:  87%|████████▋ | 12063/13816 [1:42:01<26:54,  1.09it/s]"
     ]
    },
    {
     "name": "stdout",
     "output_type": "stream",
     "text": [
      "Skipping battle 792824508 as it doesn't reach turn 6\n"
     ]
    },
    {
     "name": "stderr",
     "output_type": "stream",
     "text": [
      "Processing battles:  87%|████████▋ | 12070/13816 [1:42:07<23:18,  1.25it/s]"
     ]
    },
    {
     "name": "stdout",
     "output_type": "stream",
     "text": [
      "Skipping battle 792381868 as it doesn't reach turn 6\n"
     ]
    },
    {
     "name": "stderr",
     "output_type": "stream",
     "text": [
      "Processing battles:  88%|████████▊ | 12104/13816 [1:42:57<38:26,  1.35s/it]"
     ]
    },
    {
     "name": "stdout",
     "output_type": "stream",
     "text": [
      "Skipping battle 790540751 as it doesn't reach turn 6\n"
     ]
    },
    {
     "name": "stderr",
     "output_type": "stream",
     "text": [
      "Processing battles:  88%|████████▊ | 12120/13816 [1:43:14<25:25,  1.11it/s]"
     ]
    },
    {
     "name": "stdout",
     "output_type": "stream",
     "text": [
      "Skipping battle 789664786 as it doesn't reach turn 6\n"
     ]
    },
    {
     "name": "stderr",
     "output_type": "stream",
     "text": [
      "Processing battles:  88%|████████▊ | 12124/13816 [1:43:17<22:44,  1.24it/s]"
     ]
    },
    {
     "name": "stdout",
     "output_type": "stream",
     "text": [
      "Skipping battle 789315487 as it doesn't reach turn 6\n"
     ]
    },
    {
     "name": "stderr",
     "output_type": "stream",
     "text": [
      "Processing battles:  88%|████████▊ | 12142/13816 [1:43:30<19:51,  1.40it/s]"
     ]
    },
    {
     "name": "stdout",
     "output_type": "stream",
     "text": [
      "Saved 2147 entries to pokemon_battles_dataset_1500.jsonl\n"
     ]
    },
    {
     "name": "stderr",
     "output_type": "stream",
     "text": [
      "Processing battles:  88%|████████▊ | 12159/13816 [1:43:38<11:26,  2.41it/s]"
     ]
    },
    {
     "name": "stdout",
     "output_type": "stream",
     "text": [
      "Skipping battle 787258118 as it doesn't reach turn 6\n"
     ]
    },
    {
     "name": "stderr",
     "output_type": "stream",
     "text": [
      "Processing battles:  88%|████████▊ | 12171/13816 [1:43:43<11:50,  2.32it/s]"
     ]
    },
    {
     "name": "stdout",
     "output_type": "stream",
     "text": [
      "Skipping battle 786779153 as it doesn't reach turn 6\n"
     ]
    },
    {
     "name": "stderr",
     "output_type": "stream",
     "text": [
      "Processing battles:  88%|████████▊ | 12174/13816 [1:43:45<11:18,  2.42it/s]"
     ]
    },
    {
     "name": "stdout",
     "output_type": "stream",
     "text": [
      "Skipping battle 786499374 as it doesn't reach turn 6\n"
     ]
    },
    {
     "name": "stderr",
     "output_type": "stream",
     "text": [
      "Processing battles:  88%|████████▊ | 12178/13816 [1:43:47<12:15,  2.23it/s]"
     ]
    },
    {
     "name": "stdout",
     "output_type": "stream",
     "text": [
      "Skipping battle 786301050 as it doesn't reach turn 6\n"
     ]
    },
    {
     "name": "stderr",
     "output_type": "stream",
     "text": [
      "Processing battles:  88%|████████▊ | 12183/13816 [1:43:49<11:48,  2.31it/s]"
     ]
    },
    {
     "name": "stdout",
     "output_type": "stream",
     "text": [
      "Skipping battle 785664024 as it doesn't reach turn 6\n"
     ]
    },
    {
     "name": "stderr",
     "output_type": "stream",
     "text": [
      "Processing battles:  88%|████████▊ | 12191/13816 [1:43:53<12:08,  2.23it/s]"
     ]
    },
    {
     "name": "stdout",
     "output_type": "stream",
     "text": [
      "Skipping battle 785347581 as it doesn't reach turn 6\n"
     ]
    },
    {
     "name": "stderr",
     "output_type": "stream",
     "text": [
      "Processing battles:  89%|████████▊ | 12247/13816 [1:44:18<10:48,  2.42it/s]"
     ]
    },
    {
     "name": "stdout",
     "output_type": "stream",
     "text": [
      "Skipping battle 782655087 as it doesn't reach turn 6\n"
     ]
    },
    {
     "name": "stderr",
     "output_type": "stream",
     "text": [
      "Processing battles:  89%|████████▊ | 12249/13816 [1:44:19<13:36,  1.92it/s]"
     ]
    },
    {
     "name": "stdout",
     "output_type": "stream",
     "text": [
      "Saved 2202 entries to pokemon_battles_dataset_1500.jsonl\n"
     ]
    },
    {
     "name": "stderr",
     "output_type": "stream",
     "text": [
      "Processing battles:  89%|████████▉ | 12281/13816 [1:44:33<10:39,  2.40it/s]"
     ]
    },
    {
     "name": "stdout",
     "output_type": "stream",
     "text": [
      "Skipping battle 781435590 as it doesn't reach turn 6\n"
     ]
    },
    {
     "name": "stderr",
     "output_type": "stream",
     "text": [
      "Processing battles:  89%|████████▉ | 12316/13816 [1:44:50<11:38,  2.15it/s]"
     ]
    },
    {
     "name": "stdout",
     "output_type": "stream",
     "text": [
      "Skipping battle 779893148 as it doesn't reach turn 6\n"
     ]
    },
    {
     "name": "stderr",
     "output_type": "stream",
     "text": [
      "Processing battles:  89%|████████▉ | 12321/13816 [1:44:52<11:38,  2.14it/s]"
     ]
    },
    {
     "name": "stdout",
     "output_type": "stream",
     "text": [
      "Skipping battle 779462604 as it doesn't reach turn 6\n"
     ]
    },
    {
     "name": "stderr",
     "output_type": "stream",
     "text": [
      "Processing battles:  89%|████████▉ | 12328/13816 [1:44:55<10:29,  2.36it/s]"
     ]
    },
    {
     "name": "stdout",
     "output_type": "stream",
     "text": [
      "Skipping battle 778680201 as it doesn't reach turn 6\n"
     ]
    },
    {
     "name": "stderr",
     "output_type": "stream",
     "text": [
      "Processing battles:  89%|████████▉ | 12353/13816 [1:45:07<12:36,  1.93it/s]"
     ]
    },
    {
     "name": "stdout",
     "output_type": "stream",
     "text": [
      "Saved 2190 entries to pokemon_battles_dataset_1500.jsonl\n"
     ]
    },
    {
     "name": "stderr",
     "output_type": "stream",
     "text": [
      "Processing battles:  90%|████████▉ | 12371/13816 [1:45:15<10:00,  2.41it/s]"
     ]
    },
    {
     "name": "stdout",
     "output_type": "stream",
     "text": [
      "Skipping battle 774958501 as it doesn't reach turn 6\n"
     ]
    },
    {
     "name": "stderr",
     "output_type": "stream",
     "text": [
      "Processing battles:  90%|████████▉ | 12402/13816 [1:45:30<10:44,  2.19it/s]"
     ]
    },
    {
     "name": "stdout",
     "output_type": "stream",
     "text": [
      "Skipping battle 772710913 as it doesn't reach turn 6\n"
     ]
    },
    {
     "name": "stderr",
     "output_type": "stream",
     "text": [
      "Processing battles:  90%|████████▉ | 12408/13816 [1:45:33<10:07,  2.32it/s]"
     ]
    },
    {
     "name": "stdout",
     "output_type": "stream",
     "text": [
      "Skipping battle 772185086 as it doesn't reach turn 6\n"
     ]
    },
    {
     "name": "stderr",
     "output_type": "stream",
     "text": [
      "Processing battles:  90%|█████████ | 12440/13816 [1:45:47<09:34,  2.40it/s]"
     ]
    },
    {
     "name": "stdout",
     "output_type": "stream",
     "text": [
      "Skipping battle 770899810 as it doesn't reach turn 6\n"
     ]
    },
    {
     "name": "stderr",
     "output_type": "stream",
     "text": [
      "Processing battles:  90%|█████████ | 12442/13816 [1:45:48<09:02,  2.53it/s]"
     ]
    },
    {
     "name": "stdout",
     "output_type": "stream",
     "text": [
      "Skipping battle 770769907 as it doesn't reach turn 6\n"
     ]
    },
    {
     "name": "stderr",
     "output_type": "stream",
     "text": [
      "Processing battles:  90%|█████████ | 12458/13816 [1:45:56<13:18,  1.70it/s]"
     ]
    },
    {
     "name": "stdout",
     "output_type": "stream",
     "text": [
      "Saved 2120 entries to pokemon_battles_dataset_1500.jsonl\n"
     ]
    },
    {
     "name": "stderr",
     "output_type": "stream",
     "text": [
      "Processing battles:  90%|█████████ | 12459/13816 [1:45:56<11:39,  1.94it/s]"
     ]
    },
    {
     "name": "stdout",
     "output_type": "stream",
     "text": [
      "Skipping battle 770148333 as it doesn't reach turn 6\n"
     ]
    },
    {
     "name": "stderr",
     "output_type": "stream",
     "text": [
      "Processing battles:  90%|█████████ | 12473/13816 [1:46:03<09:26,  2.37it/s]"
     ]
    },
    {
     "name": "stdout",
     "output_type": "stream",
     "text": [
      "Skipping battle 769432445 as it doesn't reach turn 6\n"
     ]
    },
    {
     "name": "stderr",
     "output_type": "stream",
     "text": [
      "Processing battles:  90%|█████████ | 12490/13816 [1:46:10<08:56,  2.47it/s]"
     ]
    },
    {
     "name": "stdout",
     "output_type": "stream",
     "text": [
      "Skipping battle 768277105 as it doesn't reach turn 6\n"
     ]
    },
    {
     "name": "stderr",
     "output_type": "stream",
     "text": [
      "Processing battles:  90%|█████████ | 12497/13816 [1:46:13<09:19,  2.36it/s]"
     ]
    },
    {
     "name": "stdout",
     "output_type": "stream",
     "text": [
      "Skipping battle 767992998 as it doesn't reach turn 6\n"
     ]
    },
    {
     "name": "stderr",
     "output_type": "stream",
     "text": [
      "Processing battles:  91%|█████████ | 12505/13816 [1:46:18<11:13,  1.95it/s]"
     ]
    },
    {
     "name": "stdout",
     "output_type": "stream",
     "text": [
      "Skipping battle 767356753 as it doesn't reach turn 6\n"
     ]
    },
    {
     "name": "stderr",
     "output_type": "stream",
     "text": [
      "Processing battles:  91%|█████████ | 12506/13816 [1:46:18<10:07,  2.16it/s]"
     ]
    },
    {
     "name": "stdout",
     "output_type": "stream",
     "text": [
      "Skipping battle 767213089 as it doesn't reach turn 6\n"
     ]
    },
    {
     "name": "stderr",
     "output_type": "stream",
     "text": [
      "Processing battles:  91%|█████████ | 12509/13816 [1:46:19<09:16,  2.35it/s]"
     ]
    },
    {
     "name": "stdout",
     "output_type": "stream",
     "text": [
      "Skipping battle 767094422 as it doesn't reach turn 6\n"
     ]
    },
    {
     "name": "stderr",
     "output_type": "stream",
     "text": [
      "Processing battles:  91%|█████████ | 12514/13816 [1:46:21<09:01,  2.40it/s]"
     ]
    },
    {
     "name": "stdout",
     "output_type": "stream",
     "text": [
      "Skipping battle 766837186 as it doesn't reach turn 6\n"
     ]
    },
    {
     "name": "stderr",
     "output_type": "stream",
     "text": [
      "Processing battles:  91%|█████████ | 12551/13816 [1:46:38<09:36,  2.19it/s]"
     ]
    },
    {
     "name": "stdout",
     "output_type": "stream",
     "text": [
      "Skipping battle 764806513 as it doesn't reach turn 6\n"
     ]
    },
    {
     "name": "stderr",
     "output_type": "stream",
     "text": [
      "Processing battles:  91%|█████████ | 12557/13816 [1:46:41<09:04,  2.31it/s]"
     ]
    },
    {
     "name": "stdout",
     "output_type": "stream",
     "text": [
      "Skipping battle 764431690 as it doesn't reach turn 6\n"
     ]
    },
    {
     "name": "stderr",
     "output_type": "stream",
     "text": [
      "Processing battles:  91%|█████████ | 12558/13816 [1:46:41<08:38,  2.43it/s]"
     ]
    },
    {
     "name": "stdout",
     "output_type": "stream",
     "text": [
      "Skipping battle 764428976 as it doesn't reach turn 6\n"
     ]
    },
    {
     "name": "stderr",
     "output_type": "stream",
     "text": [
      "Processing battles:  91%|█████████ | 12560/13816 [1:46:42<08:28,  2.47it/s]"
     ]
    },
    {
     "name": "stdout",
     "output_type": "stream",
     "text": [
      "Skipping battle 764398464 as it doesn't reach turn 6\n"
     ]
    },
    {
     "name": "stderr",
     "output_type": "stream",
     "text": [
      "Processing battles:  91%|█████████ | 12564/13816 [1:46:44<08:56,  2.33it/s]"
     ]
    },
    {
     "name": "stdout",
     "output_type": "stream",
     "text": [
      "Skipping battle 764325824 as it doesn't reach turn 6\n"
     ]
    },
    {
     "name": "stderr",
     "output_type": "stream",
     "text": [
      "Processing battles:  91%|█████████ | 12571/13816 [1:46:48<11:51,  1.75it/s]"
     ]
    },
    {
     "name": "stdout",
     "output_type": "stream",
     "text": [
      "Saved 2169 entries to pokemon_battles_dataset_1500.jsonl\n"
     ]
    },
    {
     "name": "stderr",
     "output_type": "stream",
     "text": [
      "Processing battles:  91%|█████████ | 12583/13816 [1:46:53<08:31,  2.41it/s]"
     ]
    },
    {
     "name": "stdout",
     "output_type": "stream",
     "text": [
      "Skipping battle 763499607 as it doesn't reach turn 6\n"
     ]
    },
    {
     "name": "stderr",
     "output_type": "stream",
     "text": [
      "Processing battles:  91%|█████████ | 12584/13816 [1:46:54<08:17,  2.48it/s]"
     ]
    },
    {
     "name": "stdout",
     "output_type": "stream",
     "text": [
      "Skipping battle 763497812 as it doesn't reach turn 6\n"
     ]
    },
    {
     "name": "stderr",
     "output_type": "stream",
     "text": [
      "Processing battles:  91%|█████████ | 12597/13816 [1:47:00<08:58,  2.26it/s]"
     ]
    },
    {
     "name": "stdout",
     "output_type": "stream",
     "text": [
      "Skipping battle 762792761 as it doesn't reach turn 6\n"
     ]
    },
    {
     "name": "stderr",
     "output_type": "stream",
     "text": [
      "Processing battles:  91%|█████████▏| 12608/13816 [1:47:05<09:14,  2.18it/s]"
     ]
    },
    {
     "name": "stdout",
     "output_type": "stream",
     "text": [
      "Skipping battle 762625572 as it doesn't reach turn 6\n"
     ]
    },
    {
     "name": "stderr",
     "output_type": "stream",
     "text": [
      "Processing battles:  91%|█████████▏| 12619/13816 [1:47:10<07:47,  2.56it/s]"
     ]
    },
    {
     "name": "stdout",
     "output_type": "stream",
     "text": [
      "Skipping battle 762320330 as it doesn't reach turn 6\n"
     ]
    },
    {
     "name": "stderr",
     "output_type": "stream",
     "text": [
      "Processing battles:  91%|█████████▏| 12626/13816 [1:47:14<09:53,  2.00it/s]"
     ]
    },
    {
     "name": "stdout",
     "output_type": "stream",
     "text": [
      "Skipping battle 762197480 as it doesn't reach turn 6\n"
     ]
    },
    {
     "name": "stderr",
     "output_type": "stream",
     "text": [
      "Processing battles:  92%|█████████▏| 12648/13816 [1:47:24<08:41,  2.24it/s]"
     ]
    },
    {
     "name": "stdout",
     "output_type": "stream",
     "text": [
      "Skipping battle 761710908 as it doesn't reach turn 6\n"
     ]
    },
    {
     "name": "stderr",
     "output_type": "stream",
     "text": [
      "Processing battles:  92%|█████████▏| 12678/13816 [1:47:38<09:31,  1.99it/s]"
     ]
    },
    {
     "name": "stdout",
     "output_type": "stream",
     "text": [
      "Saved 2111 entries to pokemon_battles_dataset_1500.jsonl\n"
     ]
    },
    {
     "name": "stderr",
     "output_type": "stream",
     "text": [
      "Processing battles:  92%|█████████▏| 12690/13816 [1:47:44<08:45,  2.14it/s]"
     ]
    },
    {
     "name": "stdout",
     "output_type": "stream",
     "text": [
      "Skipping battle 760274552 as it doesn't reach turn 6\n"
     ]
    },
    {
     "name": "stderr",
     "output_type": "stream",
     "text": [
      "Processing battles:  92%|█████████▏| 12701/13816 [1:47:49<07:47,  2.39it/s]"
     ]
    },
    {
     "name": "stdout",
     "output_type": "stream",
     "text": [
      "Skipping battle 760001003 as it doesn't reach turn 6\n"
     ]
    },
    {
     "name": "stderr",
     "output_type": "stream",
     "text": [
      "Processing battles:  92%|█████████▏| 12704/13816 [1:47:50<07:27,  2.49it/s]"
     ]
    },
    {
     "name": "stdout",
     "output_type": "stream",
     "text": [
      "Skipping battle 759739500 as it doesn't reach turn 6\n"
     ]
    },
    {
     "name": "stderr",
     "output_type": "stream",
     "text": [
      "Processing battles:  92%|█████████▏| 12746/13816 [1:48:09<07:37,  2.34it/s]"
     ]
    },
    {
     "name": "stdout",
     "output_type": "stream",
     "text": [
      "Skipping battle 756972048 as it doesn't reach turn 6\n"
     ]
    },
    {
     "name": "stderr",
     "output_type": "stream",
     "text": [
      "Processing battles:  92%|█████████▏| 12762/13816 [1:48:17<07:09,  2.45it/s]"
     ]
    },
    {
     "name": "stdout",
     "output_type": "stream",
     "text": [
      "Skipping battle 756865293 as it doesn't reach turn 6\n"
     ]
    },
    {
     "name": "stderr",
     "output_type": "stream",
     "text": [
      "Processing battles:  93%|█████████▎| 12783/13816 [1:48:27<09:04,  1.90it/s]"
     ]
    },
    {
     "name": "stdout",
     "output_type": "stream",
     "text": [
      "Saved 2249 entries to pokemon_battles_dataset_1500.jsonl\n"
     ]
    },
    {
     "name": "stderr",
     "output_type": "stream",
     "text": [
      "Processing battles:  93%|█████████▎| 12822/13816 [1:48:45<07:09,  2.31it/s]"
     ]
    },
    {
     "name": "stdout",
     "output_type": "stream",
     "text": [
      "Skipping battle 752784003 as it doesn't reach turn 6\n"
     ]
    },
    {
     "name": "stderr",
     "output_type": "stream",
     "text": [
      "Processing battles:  93%|█████████▎| 12884/13816 [1:49:14<07:36,  2.04it/s]"
     ]
    },
    {
     "name": "stdout",
     "output_type": "stream",
     "text": [
      "Saved 2356 entries to pokemon_battles_dataset_1500.jsonl\n"
     ]
    },
    {
     "name": "stderr",
     "output_type": "stream",
     "text": [
      "Processing battles:  93%|█████████▎| 12890/13816 [1:49:17<07:15,  2.13it/s]"
     ]
    },
    {
     "name": "stdout",
     "output_type": "stream",
     "text": [
      "Skipping battle 746821388 as it doesn't reach turn 6\n"
     ]
    },
    {
     "name": "stderr",
     "output_type": "stream",
     "text": [
      "Processing battles:  93%|█████████▎| 12910/13816 [1:49:26<07:02,  2.15it/s]"
     ]
    },
    {
     "name": "stdout",
     "output_type": "stream",
     "text": [
      "Skipping battle 745542130 as it doesn't reach turn 6\n"
     ]
    },
    {
     "name": "stderr",
     "output_type": "stream",
     "text": [
      "Processing battles:  94%|█████████▎| 12932/13816 [1:49:37<06:41,  2.20it/s]"
     ]
    },
    {
     "name": "stdout",
     "output_type": "stream",
     "text": [
      "Skipping battle 744351359 as it doesn't reach turn 6\n"
     ]
    },
    {
     "name": "stderr",
     "output_type": "stream",
     "text": [
      "Processing battles:  94%|█████████▍| 12959/13816 [1:49:49<06:09,  2.32it/s]"
     ]
    },
    {
     "name": "stdout",
     "output_type": "stream",
     "text": [
      "Skipping battle 741767332 as it doesn't reach turn 6\n"
     ]
    },
    {
     "name": "stderr",
     "output_type": "stream",
     "text": [
      "Processing battles:  94%|█████████▍| 12988/13816 [1:50:03<07:41,  1.79it/s]"
     ]
    },
    {
     "name": "stdout",
     "output_type": "stream",
     "text": [
      "Saved 2134 entries to pokemon_battles_dataset_1500.jsonl\n"
     ]
    },
    {
     "name": "stderr",
     "output_type": "stream",
     "text": [
      "Processing battles:  94%|█████████▍| 12989/13816 [1:50:04<07:09,  1.93it/s]"
     ]
    },
    {
     "name": "stdout",
     "output_type": "stream",
     "text": [
      "Skipping battle 739827610 as it doesn't reach turn 6\n"
     ]
    },
    {
     "name": "stderr",
     "output_type": "stream",
     "text": [
      "Processing battles:  94%|█████████▍| 13015/13816 [1:50:16<06:43,  1.98it/s]"
     ]
    },
    {
     "name": "stdout",
     "output_type": "stream",
     "text": [
      "Skipping battle 737264897 as it doesn't reach turn 6\n"
     ]
    },
    {
     "name": "stderr",
     "output_type": "stream",
     "text": [
      "Processing battles:  94%|█████████▍| 13037/13816 [1:50:26<05:46,  2.25it/s]"
     ]
    },
    {
     "name": "stdout",
     "output_type": "stream",
     "text": [
      "Skipping battle 735008803 as it doesn't reach turn 6\n"
     ]
    },
    {
     "name": "stderr",
     "output_type": "stream",
     "text": [
      "Processing battles:  94%|█████████▍| 13046/13816 [1:50:30<05:36,  2.29it/s]"
     ]
    },
    {
     "name": "stdout",
     "output_type": "stream",
     "text": [
      "Skipping battle 733543396 as it doesn't reach turn 6\n"
     ]
    },
    {
     "name": "stderr",
     "output_type": "stream",
     "text": [
      "Processing battles:  94%|█████████▍| 13047/13816 [1:50:31<05:22,  2.39it/s]"
     ]
    },
    {
     "name": "stdout",
     "output_type": "stream",
     "text": [
      "Skipping battle 733524678 as it doesn't reach turn 6\n"
     ]
    },
    {
     "name": "stderr",
     "output_type": "stream",
     "text": [
      "Processing battles:  95%|█████████▍| 13065/13816 [1:50:39<05:42,  2.19it/s]"
     ]
    },
    {
     "name": "stdout",
     "output_type": "stream",
     "text": [
      "Skipping battle 732059144 as it doesn't reach turn 6\n"
     ]
    },
    {
     "name": "stderr",
     "output_type": "stream",
     "text": [
      "Processing battles:  95%|█████████▍| 13094/13816 [1:50:53<06:43,  1.79it/s]"
     ]
    },
    {
     "name": "stdout",
     "output_type": "stream",
     "text": [
      "Saved 2137 entries to pokemon_battles_dataset_1500.jsonl\n"
     ]
    },
    {
     "name": "stderr",
     "output_type": "stream",
     "text": [
      "Processing battles:  95%|█████████▍| 13120/13816 [1:51:06<05:07,  2.26it/s]"
     ]
    },
    {
     "name": "stdout",
     "output_type": "stream",
     "text": [
      "Skipping battle 725444590 as it doesn't reach turn 6\n"
     ]
    },
    {
     "name": "stderr",
     "output_type": "stream",
     "text": [
      "Processing battles:  95%|█████████▍| 13123/13816 [1:51:07<05:30,  2.09it/s]"
     ]
    },
    {
     "name": "stdout",
     "output_type": "stream",
     "text": [
      "Skipping battle 725383837 as it doesn't reach turn 6\n"
     ]
    },
    {
     "name": "stderr",
     "output_type": "stream",
     "text": [
      "Processing battles:  95%|█████████▌| 13147/13816 [1:51:18<04:37,  2.41it/s]"
     ]
    },
    {
     "name": "stdout",
     "output_type": "stream",
     "text": [
      "Skipping battle 723617222 as it doesn't reach turn 6\n"
     ]
    },
    {
     "name": "stderr",
     "output_type": "stream",
     "text": [
      "Processing battles:  95%|█████████▌| 13154/13816 [1:51:21<04:41,  2.35it/s]"
     ]
    },
    {
     "name": "stdout",
     "output_type": "stream",
     "text": [
      "Skipping battle 723063370 as it doesn't reach turn 6\n"
     ]
    },
    {
     "name": "stderr",
     "output_type": "stream",
     "text": [
      "Processing battles:  95%|█████████▌| 13163/13816 [1:51:25<04:34,  2.38it/s]"
     ]
    },
    {
     "name": "stdout",
     "output_type": "stream",
     "text": [
      "Skipping battle 722325992 as it doesn't reach turn 6\n"
     ]
    },
    {
     "name": "stderr",
     "output_type": "stream",
     "text": [
      "Processing battles:  95%|█████████▌| 13178/13816 [1:51:33<05:05,  2.09it/s]"
     ]
    },
    {
     "name": "stdout",
     "output_type": "stream",
     "text": [
      "Skipping battle 721036665 as it doesn't reach turn 6\n"
     ]
    },
    {
     "name": "stderr",
     "output_type": "stream",
     "text": [
      "Processing battles:  95%|█████████▌| 13186/13816 [1:51:36<04:30,  2.33it/s]"
     ]
    },
    {
     "name": "stdout",
     "output_type": "stream",
     "text": [
      "Skipping battle 719936175 as it doesn't reach turn 6\n"
     ]
    },
    {
     "name": "stderr",
     "output_type": "stream",
     "text": [
      "Processing battles:  95%|█████████▌| 13190/13816 [1:51:38<04:16,  2.44it/s]"
     ]
    },
    {
     "name": "stdout",
     "output_type": "stream",
     "text": [
      "Skipping battle 719642968 as it doesn't reach turn 6\n"
     ]
    },
    {
     "name": "stderr",
     "output_type": "stream",
     "text": [
      "Processing battles:  96%|█████████▌| 13201/13816 [1:51:43<04:42,  2.17it/s]"
     ]
    },
    {
     "name": "stdout",
     "output_type": "stream",
     "text": [
      "Skipping battle 716439678 as it doesn't reach turn 6\n"
     ]
    },
    {
     "name": "stderr",
     "output_type": "stream",
     "text": [
      "Processing battles:  96%|█████████▌| 13203/13816 [1:51:45<05:32,  1.84it/s]"
     ]
    },
    {
     "name": "stdout",
     "output_type": "stream",
     "text": [
      "Saved 2099 entries to pokemon_battles_dataset_1500.jsonl\n"
     ]
    },
    {
     "name": "stderr",
     "output_type": "stream",
     "text": [
      "Processing battles:  96%|█████████▌| 13208/13816 [1:51:47<05:16,  1.92it/s]"
     ]
    },
    {
     "name": "stdout",
     "output_type": "stream",
     "text": [
      "Skipping battle 715289402 as it doesn't reach turn 6\n"
     ]
    },
    {
     "name": "stderr",
     "output_type": "stream",
     "text": [
      "Processing battles:  96%|█████████▌| 13263/13816 [1:52:13<04:15,  2.16it/s]"
     ]
    },
    {
     "name": "stdout",
     "output_type": "stream",
     "text": [
      "Skipping battle 709850514 as it doesn't reach turn 6\n"
     ]
    },
    {
     "name": "stderr",
     "output_type": "stream",
     "text": [
      "Processing battles:  96%|█████████▌| 13279/13816 [1:52:21<03:53,  2.30it/s]"
     ]
    },
    {
     "name": "stdout",
     "output_type": "stream",
     "text": [
      "Skipping battle 708584382 as it doesn't reach turn 6\n"
     ]
    },
    {
     "name": "stderr",
     "output_type": "stream",
     "text": [
      "Processing battles:  96%|█████████▌| 13291/13816 [1:52:27<03:46,  2.32it/s]"
     ]
    },
    {
     "name": "stdout",
     "output_type": "stream",
     "text": [
      "Skipping battle 706733133 as it doesn't reach turn 6\n"
     ]
    },
    {
     "name": "stderr",
     "output_type": "stream",
     "text": [
      "Processing battles:  96%|█████████▌| 13292/13816 [1:52:27<03:31,  2.48it/s]"
     ]
    },
    {
     "name": "stdout",
     "output_type": "stream",
     "text": [
      "Skipping battle 706732346 as it doesn't reach turn 6\n"
     ]
    },
    {
     "name": "stderr",
     "output_type": "stream",
     "text": [
      "Processing battles:  96%|█████████▋| 13302/13816 [1:52:31<03:46,  2.27it/s]"
     ]
    },
    {
     "name": "stdout",
     "output_type": "stream",
     "text": [
      "Skipping battle 706203464 as it doesn't reach turn 6\n"
     ]
    },
    {
     "name": "stderr",
     "output_type": "stream",
     "text": [
      "Processing battles:  96%|█████████▋| 13309/13816 [1:52:35<04:54,  1.72it/s]"
     ]
    },
    {
     "name": "stdout",
     "output_type": "stream",
     "text": [
      "Saved 2293 entries to pokemon_battles_dataset_1500.jsonl\n"
     ]
    },
    {
     "name": "stderr",
     "output_type": "stream",
     "text": [
      "Processing battles:  96%|█████████▋| 13323/13816 [1:52:42<03:32,  2.32it/s]"
     ]
    },
    {
     "name": "stdout",
     "output_type": "stream",
     "text": [
      "Skipping battle 704774772 as it doesn't reach turn 6\n"
     ]
    },
    {
     "name": "stderr",
     "output_type": "stream",
     "text": [
      "Processing battles:  96%|█████████▋| 13324/13816 [1:52:42<03:23,  2.41it/s]"
     ]
    },
    {
     "name": "stdout",
     "output_type": "stream",
     "text": [
      "Skipping battle 704614468 as it doesn't reach turn 6\n"
     ]
    },
    {
     "name": "stderr",
     "output_type": "stream",
     "text": [
      "Processing battles:  97%|█████████▋| 13339/13816 [1:52:49<03:19,  2.39it/s]"
     ]
    },
    {
     "name": "stdout",
     "output_type": "stream",
     "text": [
      "Skipping battle 703275868 as it doesn't reach turn 6\n"
     ]
    },
    {
     "name": "stderr",
     "output_type": "stream",
     "text": [
      "Processing battles:  97%|█████████▋| 13342/13816 [1:52:50<03:14,  2.44it/s]"
     ]
    },
    {
     "name": "stdout",
     "output_type": "stream",
     "text": [
      "Skipping battle 703253638 as it doesn't reach turn 6\n"
     ]
    },
    {
     "name": "stderr",
     "output_type": "stream",
     "text": [
      "Processing battles:  97%|█████████▋| 13344/13816 [1:52:51<03:21,  2.34it/s]"
     ]
    },
    {
     "name": "stdout",
     "output_type": "stream",
     "text": [
      "Skipping battle 703231593 as it doesn't reach turn 6\n"
     ]
    },
    {
     "name": "stderr",
     "output_type": "stream",
     "text": [
      "Processing battles:  97%|█████████▋| 13386/13816 [1:53:11<03:02,  2.36it/s]"
     ]
    },
    {
     "name": "stdout",
     "output_type": "stream",
     "text": [
      "Skipping battle 700791282 as it doesn't reach turn 6\n"
     ]
    },
    {
     "name": "stderr",
     "output_type": "stream",
     "text": [
      "Processing battles:  97%|█████████▋| 13389/13816 [1:53:12<02:55,  2.43it/s]"
     ]
    },
    {
     "name": "stdout",
     "output_type": "stream",
     "text": [
      "Skipping battle 700688963 as it doesn't reach turn 6\n"
     ]
    },
    {
     "name": "stderr",
     "output_type": "stream",
     "text": [
      "Processing battles:  97%|█████████▋| 13416/13816 [1:53:25<03:37,  1.84it/s]"
     ]
    },
    {
     "name": "stdout",
     "output_type": "stream",
     "text": [
      "Saved 2096 entries to pokemon_battles_dataset_1500.jsonl\n"
     ]
    },
    {
     "name": "stderr",
     "output_type": "stream",
     "text": [
      "Processing battles:  97%|█████████▋| 13418/13816 [1:53:26<03:14,  2.05it/s]"
     ]
    },
    {
     "name": "stdout",
     "output_type": "stream",
     "text": [
      "Skipping battle 699735547 as it doesn't reach turn 6\n"
     ]
    },
    {
     "name": "stderr",
     "output_type": "stream",
     "text": [
      "Processing battles:  97%|█████████▋| 13460/13816 [1:53:45<02:34,  2.31it/s]"
     ]
    },
    {
     "name": "stdout",
     "output_type": "stream",
     "text": [
      "Skipping battle 696501436 as it doesn't reach turn 6\n"
     ]
    },
    {
     "name": "stderr",
     "output_type": "stream",
     "text": [
      "Processing battles:  98%|█████████▊| 13482/13816 [1:53:56<02:29,  2.24it/s]"
     ]
    },
    {
     "name": "stdout",
     "output_type": "stream",
     "text": [
      "Skipping battle 695111699 as it doesn't reach turn 6\n"
     ]
    },
    {
     "name": "stderr",
     "output_type": "stream",
     "text": [
      "Processing battles:  98%|█████████▊| 13490/13816 [1:53:59<02:13,  2.44it/s]"
     ]
    },
    {
     "name": "stdout",
     "output_type": "stream",
     "text": [
      "Skipping battle 693756293 as it doesn't reach turn 6\n"
     ]
    },
    {
     "name": "stderr",
     "output_type": "stream",
     "text": [
      "Processing battles:  98%|█████████▊| 13513/13816 [1:54:10<02:09,  2.34it/s]"
     ]
    },
    {
     "name": "stdout",
     "output_type": "stream",
     "text": [
      "Skipping battle 691359100 as it doesn't reach turn 6\n"
     ]
    },
    {
     "name": "stderr",
     "output_type": "stream",
     "text": [
      "Processing battles:  98%|█████████▊| 13520/13816 [1:54:14<02:38,  1.87it/s]"
     ]
    },
    {
     "name": "stdout",
     "output_type": "stream",
     "text": [
      "Skipping battle 690427562 as it doesn't reach turn 6\n"
     ]
    },
    {
     "name": "stderr",
     "output_type": "stream",
     "text": [
      "Processing battles:  98%|█████████▊| 13522/13816 [1:54:15<02:59,  1.64it/s]"
     ]
    },
    {
     "name": "stdout",
     "output_type": "stream",
     "text": [
      "Saved 2156 entries to pokemon_battles_dataset_1500.jsonl\n"
     ]
    },
    {
     "name": "stderr",
     "output_type": "stream",
     "text": [
      "Processing battles:  98%|█████████▊| 13555/13816 [1:54:30<01:49,  2.39it/s]"
     ]
    },
    {
     "name": "stdout",
     "output_type": "stream",
     "text": [
      "Skipping battle 685146281 as it doesn't reach turn 6\n"
     ]
    },
    {
     "name": "stderr",
     "output_type": "stream",
     "text": [
      "Processing battles:  98%|█████████▊| 13563/13816 [1:54:34<02:01,  2.09it/s]"
     ]
    },
    {
     "name": "stdout",
     "output_type": "stream",
     "text": [
      "Skipping battle 683634191 as it doesn't reach turn 6\n"
     ]
    },
    {
     "name": "stderr",
     "output_type": "stream",
     "text": [
      "Processing battles:  98%|█████████▊| 13571/13816 [1:54:38<01:54,  2.14it/s]"
     ]
    },
    {
     "name": "stdout",
     "output_type": "stream",
     "text": [
      "Skipping battle 682998063 as it doesn't reach turn 6\n"
     ]
    },
    {
     "name": "stderr",
     "output_type": "stream",
     "text": [
      "Processing battles:  99%|█████████▊| 13625/13816 [1:55:05<01:58,  1.62it/s]"
     ]
    },
    {
     "name": "stdout",
     "output_type": "stream",
     "text": [
      "Saved 2243 entries to pokemon_battles_dataset_1500.jsonl\n"
     ]
    },
    {
     "name": "stderr",
     "output_type": "stream",
     "text": [
      "Processing battles:  99%|█████████▊| 13629/13816 [1:55:07<01:36,  1.95it/s]"
     ]
    },
    {
     "name": "stdout",
     "output_type": "stream",
     "text": [
      "Skipping battle 678975008 as it doesn't reach turn 6\n"
     ]
    },
    {
     "name": "stderr",
     "output_type": "stream",
     "text": [
      "Processing battles:  99%|█████████▊| 13642/13816 [1:55:13<01:17,  2.25it/s]"
     ]
    },
    {
     "name": "stdout",
     "output_type": "stream",
     "text": [
      "Skipping battle 677756586 as it doesn't reach turn 6\n"
     ]
    },
    {
     "name": "stderr",
     "output_type": "stream",
     "text": [
      "Processing battles:  99%|█████████▉| 13658/13816 [1:55:21<01:08,  2.32it/s]"
     ]
    },
    {
     "name": "stdout",
     "output_type": "stream",
     "text": [
      "Skipping battle 677081379 as it doesn't reach turn 6\n"
     ]
    },
    {
     "name": "stderr",
     "output_type": "stream",
     "text": [
      "Processing battles:  99%|█████████▉| 13663/13816 [1:55:23<01:03,  2.40it/s]"
     ]
    },
    {
     "name": "stdout",
     "output_type": "stream",
     "text": [
      "Skipping battle 676741616 as it doesn't reach turn 6\n"
     ]
    },
    {
     "name": "stderr",
     "output_type": "stream",
     "text": [
      "Processing battles:  99%|█████████▉| 13694/13816 [1:55:39<01:04,  1.90it/s]"
     ]
    },
    {
     "name": "stdout",
     "output_type": "stream",
     "text": [
      "Skipping battle 673910256 as it doesn't reach turn 6\n"
     ]
    },
    {
     "name": "stderr",
     "output_type": "stream",
     "text": [
      "Processing battles:  99%|█████████▉| 13730/13816 [1:56:01<01:11,  1.20it/s]"
     ]
    },
    {
     "name": "stdout",
     "output_type": "stream",
     "text": [
      "Saved 1994 entries to pokemon_battles_dataset_1500.jsonl\n"
     ]
    },
    {
     "name": "stderr",
     "output_type": "stream",
     "text": [
      "Processing battles:  99%|█████████▉| 13746/13816 [1:56:17<01:07,  1.03it/s]"
     ]
    },
    {
     "name": "stdout",
     "output_type": "stream",
     "text": [
      "Skipping battle 666496342 as it doesn't reach turn 6\n"
     ]
    },
    {
     "name": "stderr",
     "output_type": "stream",
     "text": [
      "Processing battles: 100%|█████████▉| 13749/13816 [1:56:20<01:00,  1.11it/s]"
     ]
    },
    {
     "name": "stdout",
     "output_type": "stream",
     "text": [
      "Skipping battle 666405178 as it doesn't reach turn 6\n"
     ]
    },
    {
     "name": "stderr",
     "output_type": "stream",
     "text": [
      "Processing battles: 100%|█████████▉| 13768/13816 [1:56:39<00:35,  1.35it/s]"
     ]
    },
    {
     "name": "stdout",
     "output_type": "stream",
     "text": [
      "Skipping battle 664121076 as it doesn't reach turn 6\n"
     ]
    },
    {
     "name": "stderr",
     "output_type": "stream",
     "text": [
      "Processing battles: 100%|█████████▉| 13770/13816 [1:56:40<00:34,  1.32it/s]"
     ]
    },
    {
     "name": "stdout",
     "output_type": "stream",
     "text": [
      "Skipping battle 664041359 as it doesn't reach turn 6\n"
     ]
    },
    {
     "name": "stderr",
     "output_type": "stream",
     "text": [
      "Processing battles: 100%|█████████▉| 13774/13816 [1:56:44<00:38,  1.09it/s]"
     ]
    },
    {
     "name": "stdout",
     "output_type": "stream",
     "text": [
      "Skipping battle 663770060 as it doesn't reach turn 6\n"
     ]
    },
    {
     "name": "stderr",
     "output_type": "stream",
     "text": [
      "Processing battles: 100%|█████████▉| 13786/13816 [1:56:54<00:23,  1.30it/s]"
     ]
    },
    {
     "name": "stdout",
     "output_type": "stream",
     "text": [
      "Skipping battle 663039795 as it doesn't reach turn 6\n"
     ]
    },
    {
     "name": "stderr",
     "output_type": "stream",
     "text": [
      "Processing battles: 100%|█████████▉| 13810/13816 [1:57:16<00:06,  1.02s/it]"
     ]
    },
    {
     "name": "stdout",
     "output_type": "stream",
     "text": [
      "Skipping battle 4913101 due to non-200 status code: 404\n"
     ]
    },
    {
     "name": "stderr",
     "output_type": "stream",
     "text": [
      "Processing battles: 100%|█████████▉| 13811/13816 [1:57:17<00:04,  1.06it/s]"
     ]
    },
    {
     "name": "stdout",
     "output_type": "stream",
     "text": [
      "Skipping battle 4340784 due to non-200 status code: 404\n"
     ]
    },
    {
     "name": "stderr",
     "output_type": "stream",
     "text": [
      "Processing battles: 100%|█████████▉| 13812/13816 [1:57:18<00:04,  1.03s/it]"
     ]
    },
    {
     "name": "stdout",
     "output_type": "stream",
     "text": [
      "Skipping battle 3638581 due to non-200 status code: 404\n"
     ]
    },
    {
     "name": "stderr",
     "output_type": "stream",
     "text": [
      "Processing battles: 100%|█████████▉| 13813/13816 [1:57:19<00:02,  1.03it/s]"
     ]
    },
    {
     "name": "stdout",
     "output_type": "stream",
     "text": [
      "Skipping battle 2451076 due to non-200 status code: 404\n"
     ]
    },
    {
     "name": "stderr",
     "output_type": "stream",
     "text": [
      "Processing battles: 100%|█████████▉| 13814/13816 [1:57:19<00:01,  1.05it/s]"
     ]
    },
    {
     "name": "stdout",
     "output_type": "stream",
     "text": [
      "Skipping battle 818098 due to non-200 status code: 404\n"
     ]
    },
    {
     "name": "stderr",
     "output_type": "stream",
     "text": [
      "Processing battles: 100%|█████████▉| 13815/13816 [1:57:20<00:00,  1.15it/s]"
     ]
    },
    {
     "name": "stdout",
     "output_type": "stream",
     "text": [
      "Skipping battle 624166 due to non-200 status code: 404\n"
     ]
    },
    {
     "name": "stderr",
     "output_type": "stream",
     "text": [
      "Processing battles: 100%|██████████| 13816/13816 [1:57:21<00:00,  1.96it/s]\n"
     ]
    },
    {
     "name": "stdout",
     "output_type": "stream",
     "text": [
      "Skipping battle 543390 due to non-200 status code: 404\n",
      "Saved 1661 entries to pokemon_battles_dataset_1500.jsonl\n",
      "Script completed successfully.\n"
     ]
    }
   ],
   "source": [
    "import requests\n",
    "from requests.exceptions import JSONDecodeError\n",
    "from tqdm import tqdm\n",
    "import json\n",
    "import time\n",
    "import re\n",
    "\n",
    "output_file = 'pokemon_battles_dataset_1500.jsonl'\n",
    "batch_size = 100\n",
    "processed_count = 0\n",
    "dataset = []\n",
    "\n",
    "def save_dataset(dataset, mode='a'):\n",
    "    with open(output_file, mode) as f:\n",
    "        for item in dataset:\n",
    "            json.dump(item, f)\n",
    "            f.write('\\n')\n",
    "    print(f\"Saved {len(dataset)} entries to {output_file}\")\n",
    "\n",
    "def clean_battle_log(log):\n",
    "    # Remove timer warnings, chat messages, and other unnecessary information\n",
    "    cleaned_log = []\n",
    "    for line in log.split('\\n'):\n",
    "        if any(x in line for x in ['|t:', '|inactive|', '|player|', '|c|', '|l|', '|j|']):\n",
    "            continue\n",
    "        cleaned_log.append(line)\n",
    "    return '\\n'.join(cleaned_log)\n",
    "\n",
    "try:\n",
    "    for id in tqdm(replay, desc=\"Processing battles\"):\n",
    "        try:\n",
    "            response = requests.get(f'https://replay.pokemonshowdown.com/gen5randombattle-{id}.json')\n",
    "            if response.status_code != 200:\n",
    "                tqdm.write(f\"Skipping battle {id} due to non-200 status code: {response.status_code}\")\n",
    "                continue\n",
    "            \n",
    "            battle = response.json()\n",
    "        except JSONDecodeError:\n",
    "            tqdm.write(f\"Skipping battle {id} due to invalid JSON response\")\n",
    "            continue\n",
    "        \n",
    "        players = battle['players']\n",
    "        battle = battle['log'].replace(players[0], 'p1a').replace(players[1], 'p2a').split('\\n')\n",
    "        if '|turn|6' not in battle: \n",
    "            tqdm.write(f\"Skipping battle {id} as it doesn't reach turn 6\")\n",
    "            continue\n",
    "        battle = battle[battle.index('|start'):] # taglio via i log precedenti a  di |start\n",
    "        team = {}\n",
    "        # Estraggo i pokemon e le moves\n",
    "        for row in battle:\n",
    "            if '|switch|p1a:' in row:\n",
    "                pkm = row[13:].strip().split('|')[1]\n",
    "                key_pkm = row[13:].strip().split('|')[0]\n",
    "                pkm = pkm.split(', ') if ', ' in pkm else [pkm.strip(), '100']\n",
    "                if key_pkm not in team.keys():\n",
    "                    team[key_pkm]={'names': pkm[0], 'liv': pkm[1], 'moves': [], 'abilità': ''}\n",
    "            if '|move|p1a:' in row:\n",
    "                line = row[11:].split('|')\n",
    "                pkm, move = line[0], line[1]\n",
    "                if team.get(pkm) and move not in team.get(pkm)['moves']:\n",
    "                    team.get(pkm)['moves'].append(move)\n",
    "\n",
    "        # Divido in turni:\n",
    "        turni, actions= {}, {}\n",
    "        nturno = 0\n",
    "        for index, row in enumerate(battle):\n",
    "            if '|turn|' in row:\n",
    "                nturno = int(row.strip('|turn|').strip())\n",
    "                current_turn = battle[:index]\n",
    "                pkm, pkm_avv = False, False\n",
    "                for row0 in current_turn[::-1]:\n",
    "                    if '|switch|p1a: ' in row0:\n",
    "                        pkm = row0[13:].split('|')[0]\n",
    "                    if '|switch|p2a: ' in row0:\n",
    "                        pkm_avv = row0[13:].split('|')[0]\n",
    "                    if pkm and pkm_avv: break\n",
    "                turni[nturno-1] = {'pkm': pkm, \n",
    "                                   'pkm avversario': pkm_avv, \n",
    "                                   'morti': [r[12:] for r in current_turn if '|faint|p1a: ' in r],\n",
    "                                   'log': clean_battle_log('\\n'.join(current_turn))}\n",
    "            if nturno > 0:\n",
    "                if '|move|p1a: ' in row:\n",
    "                    move = row[11:].split('|')[1]\n",
    "                    actions[nturno] = f'move|{move}'\n",
    "                    continue\n",
    "                if '|switch|p1a: ' in row:\n",
    "                    pkm = row[13:].split('|')[0]\n",
    "                    actions[nturno] = f'switch|{pkm}'\n",
    "                    continue\n",
    "\n",
    "        prompt=\"\"\"You're in a Pokémon battle at turn {}.\n",
    "        You've this pokémon in the field: {}.\n",
    "        Your opponent have this pokémon: {}.\n",
    "        You have these switches available:\n",
    "        {}\n",
    "        Read carefully the log and choose the action you want to do:\"\"\"\n",
    "        \n",
    "        for t in range(1,  nturno-1):\n",
    "            dataset.append(\n",
    "                [\n",
    "                    {'role': 'system',\n",
    "                     'content': prompt.format(*[\n",
    "                        t,\n",
    "                        str(turni[t-1]['pkm']+' '+str(team[turni[t-1]['pkm']])),\n",
    "                        turni[t-1]['pkm avversario'],\n",
    "                        '\\n'.join([f\"- {p} | {info}{' | fainted' if p in turni[t-1]['morti'] else ''}\" for p, info in team.items() if p!=turni[t-1]['pkm']])\n",
    "                        ])\n",
    "                        },\n",
    "                    {'role': 'user', 'content': turni[t-1]['log']},\n",
    "                    {'role': 'assistant', 'content': actions.get(t)}\n",
    "                ]\n",
    "            )\n",
    "        \n",
    "        processed_count += 1\n",
    "        if processed_count % batch_size == 0:\n",
    "            save_dataset(dataset)\n",
    "            dataset = []  # Clear the dataset after saving\n",
    "        \n",
    "        time.sleep(0.1)\n",
    "\n",
    "except KeyboardInterrupt:\n",
    "    print(\"\\nScript interrupted. Saving current data...\")\n",
    "    if dataset:\n",
    "        save_dataset(dataset)\n",
    "    print(\"Data saved. Exiting.\")\n",
    "\n",
    "# Save any remaining data if the script completes normally\n",
    "if dataset:\n",
    "    save_dataset(dataset)\n",
    "print(\"Script completed successfully.\")\n"
   ]
  }
 ],
 "metadata": {
  "kernelspec": {
   "display_name": "chunk_extraction",
   "language": "python",
   "name": "python3"
  },
  "language_info": {
   "codemirror_mode": {
    "name": "ipython",
    "version": 3
   },
   "file_extension": ".py",
   "mimetype": "text/x-python",
   "name": "python",
   "nbconvert_exporter": "python",
   "pygments_lexer": "ipython3",
   "version": "3.12.3"
  }
 },
 "nbformat": 4,
 "nbformat_minor": 2
}
